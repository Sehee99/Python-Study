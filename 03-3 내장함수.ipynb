{
 "cells": [
  {
   "cell_type": "markdown",
   "id": "bb229ef1-2c9f-47fd-9b8e-8a3f52b21092",
   "metadata": {},
   "source": [
    "### print 함수"
   ]
  },
  {
   "cell_type": "code",
   "execution_count": 2,
   "id": "6d3b2ab0-00fe-4185-bcb8-f29eda2d8bcc",
   "metadata": {},
   "outputs": [
    {
     "name": "stdout",
     "output_type": "stream",
     "text": [
      "Hello world Python\n"
     ]
    }
   ],
   "source": [
    "print('Hello world Python')"
   ]
  },
  {
   "cell_type": "code",
   "execution_count": 3,
   "id": "636a2761-7265-47b9-9126-8b941c203bb9",
   "metadata": {},
   "outputs": [
    {
     "name": "stdout",
     "output_type": "stream",
     "text": [
      "a 1\n"
     ]
    }
   ],
   "source": [
    "print('a', 1)"
   ]
  },
  {
   "cell_type": "code",
   "execution_count": 4,
   "id": "235f0252-48a5-448a-920f-8c5a00a1335f",
   "metadata": {},
   "outputs": [
    {
     "name": "stdout",
     "output_type": "stream",
     "text": [
      "a:1\n"
     ]
    }
   ],
   "source": [
    "print('a', 1, sep=':')"
   ]
  },
  {
   "cell_type": "code",
   "execution_count": 6,
   "id": "d2de34c5-d672-4b51-9bbf-e512e53131fa",
   "metadata": {},
   "outputs": [
    {
     "name": "stdout",
     "output_type": "stream",
     "text": [
      "a:1."
     ]
    }
   ],
   "source": [
    "print('a', 1, sep=':', end='.')"
   ]
  },
  {
   "cell_type": "markdown",
   "id": "ce29d797-ad26-4995-82a5-663842fdf293",
   "metadata": {},
   "source": [
    "### input 함수"
   ]
  },
  {
   "cell_type": "code",
   "execution_count": 7,
   "id": "b2efa566-d3d3-4e79-a215-196199ede01b",
   "metadata": {},
   "outputs": [
    {
     "name": "stdin",
     "output_type": "stream",
     "text": [
      " Hello\n"
     ]
    },
    {
     "data": {
      "text/plain": [
       "'Hello'"
      ]
     },
     "execution_count": 7,
     "metadata": {},
     "output_type": "execute_result"
    }
   ],
   "source": [
    "input()"
   ]
  },
  {
   "cell_type": "code",
   "execution_count": 8,
   "id": "028e02cb-3486-44c3-b441-f5999609c786",
   "metadata": {},
   "outputs": [
    {
     "name": "stdin",
     "output_type": "stream",
     "text": [
      "프로그램 언어 :  Python\n"
     ]
    },
    {
     "data": {
      "text/plain": [
       "'Python'"
      ]
     },
     "execution_count": 8,
     "metadata": {},
     "output_type": "execute_result"
    }
   ],
   "source": [
    "input('프로그램 언어 : ')"
   ]
  },
  {
   "cell_type": "markdown",
   "id": "85195d49-1d2c-405e-9284-121119571fc8",
   "metadata": {},
   "source": [
    "### round 함수"
   ]
  },
  {
   "cell_type": "code",
   "execution_count": 10,
   "id": "2d9ecd29-c230-401f-b73c-b87e15e9ee37",
   "metadata": {},
   "outputs": [
    {
     "data": {
      "text/plain": [
       "3"
      ]
     },
     "execution_count": 10,
     "metadata": {},
     "output_type": "execute_result"
    }
   ],
   "source": [
    "round(3.141592)"
   ]
  },
  {
   "cell_type": "code",
   "execution_count": 11,
   "id": "cc8e1c8b-bc27-4eb1-b1db-b365721317cb",
   "metadata": {},
   "outputs": [
    {
     "data": {
      "text/plain": [
       "3.14"
      ]
     },
     "execution_count": 11,
     "metadata": {},
     "output_type": "execute_result"
    }
   ],
   "source": [
    "round(3.141592, 2)"
   ]
  },
  {
   "cell_type": "code",
   "execution_count": 12,
   "id": "98648859-96b0-4a7d-8636-3cb229617a9d",
   "metadata": {},
   "outputs": [
    {
     "data": {
      "text/plain": [
       "3.14159"
      ]
     },
     "execution_count": 12,
     "metadata": {},
     "output_type": "execute_result"
    }
   ],
   "source": [
    "round(3.141592, 5)"
   ]
  },
  {
   "cell_type": "code",
   "execution_count": 13,
   "id": "a04071f0-6335-4403-8cef-174371934d97",
   "metadata": {},
   "outputs": [
    {
     "data": {
      "text/plain": [
       "1000"
      ]
     },
     "execution_count": 13,
     "metadata": {},
     "output_type": "execute_result"
    }
   ],
   "source": [
    "max(10, 100, 1000)"
   ]
  },
  {
   "cell_type": "code",
   "execution_count": 14,
   "id": "0caff1ba-317b-41ee-9a5f-b48780a99192",
   "metadata": {},
   "outputs": [
    {
     "data": {
      "text/plain": [
       "10"
      ]
     },
     "execution_count": 14,
     "metadata": {},
     "output_type": "execute_result"
    }
   ],
   "source": [
    "min(10, 100, 1000)"
   ]
  },
  {
   "cell_type": "code",
   "execution_count": 15,
   "id": "6a1e99f4-199a-49e8-aa22-ef63be0927b6",
   "metadata": {},
   "outputs": [
    {
     "data": {
      "text/plain": [
       "16"
      ]
     },
     "execution_count": 15,
     "metadata": {},
     "output_type": "execute_result"
    }
   ],
   "source": [
    "pow(2, 4) # 2**4"
   ]
  },
  {
   "cell_type": "code",
   "execution_count": 16,
   "id": "27335f04-43a3-4921-b8b6-74fde17485f5",
   "metadata": {},
   "outputs": [
    {
     "data": {
      "text/plain": [
       "18"
      ]
     },
     "execution_count": 16,
     "metadata": {},
     "output_type": "execute_result"
    }
   ],
   "source": [
    "len('Hello World Python')"
   ]
  },
  {
   "cell_type": "code",
   "execution_count": 22,
   "id": "cdf916da-85e6-4f26-9e1f-2b2655d5a0f5",
   "metadata": {},
   "outputs": [
    {
     "data": {
      "text/plain": [
       "<zip at 0x273c6814840>"
      ]
     },
     "execution_count": 22,
     "metadata": {},
     "output_type": "execute_result"
    }
   ],
   "source": [
    "zip('abc', '123') # zip: 문자열을 하나씩 묶어줌, 대응되는 것끼리 하나씩 묶어줌"
   ]
  },
  {
   "cell_type": "code",
   "execution_count": 17,
   "id": "e275938c-8598-44c5-9ee4-b64ba3a631fa",
   "metadata": {},
   "outputs": [
    {
     "data": {
      "text/plain": [
       "[('a', '1'), ('b', '2'), ('c', '3')]"
      ]
     },
     "execution_count": 17,
     "metadata": {},
     "output_type": "execute_result"
    }
   ],
   "source": [
    "list(zip('abc', '123'))   # list: 리스트 타입으로 형변환함수"
   ]
  },
  {
   "cell_type": "code",
   "execution_count": 18,
   "id": "feda1d53-b20e-4edd-9178-6b184252a667",
   "metadata": {},
   "outputs": [],
   "source": [
    "hello = 'Hello World Python'"
   ]
  },
  {
   "cell_type": "code",
   "execution_count": 19,
   "id": "f329068f-e61c-4fb9-90a4-6f6ae1482354",
   "metadata": {},
   "outputs": [
    {
     "name": "stdout",
     "output_type": "stream",
     "text": [
      "Hello World Python\n"
     ]
    }
   ],
   "source": [
    "print(hello)"
   ]
  },
  {
   "cell_type": "code",
   "execution_count": 20,
   "id": "0bf58279-9928-4a3d-841f-115430bd7a5b",
   "metadata": {},
   "outputs": [
    {
     "data": {
      "text/plain": [
       "'Hello World Python'"
      ]
     },
     "execution_count": 20,
     "metadata": {},
     "output_type": "execute_result"
    }
   ],
   "source": [
    "hello"
   ]
  },
  {
   "cell_type": "code",
   "execution_count": 21,
   "id": "c851fa11-c264-4058-a444-13c13f18c366",
   "metadata": {},
   "outputs": [
    {
     "data": {
      "text/plain": [
       "'Hello World Python'"
      ]
     },
     "execution_count": 21,
     "metadata": {},
     "output_type": "execute_result"
    }
   ],
   "source": [
    "hello\n",
    "hello"
   ]
  },
  {
   "cell_type": "code",
   "execution_count": 23,
   "id": "005ddc51-78e4-4dc8-a682-df5c9410d5a3",
   "metadata": {},
   "outputs": [
    {
     "name": "stdout",
     "output_type": "stream",
     "text": [
      "Hello World Python\n",
      "Hello World Python\n"
     ]
    }
   ],
   "source": [
    "print(hello)\n",
    "print(hello)"
   ]
  },
  {
   "cell_type": "code",
   "execution_count": null,
   "id": "6e261684-d7dd-4fd7-8ca4-764480e60688",
   "metadata": {
    "tags": []
   },
   "outputs": [],
   "source": []
  }
 ],
 "metadata": {
  "kernelspec": {
   "display_name": "Python 3",
   "language": "python",
   "name": "python3"
  },
  "language_info": {
   "codemirror_mode": {
    "name": "ipython",
    "version": 3
   },
   "file_extension": ".py",
   "mimetype": "text/x-python",
   "name": "python",
   "nbconvert_exporter": "python",
   "pygments_lexer": "ipython3",
   "version": "3.8.8"
  }
 },
 "nbformat": 4,
 "nbformat_minor": 5
}
