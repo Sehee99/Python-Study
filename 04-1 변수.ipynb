{
 "cells": [
  {
   "cell_type": "code",
   "execution_count": 1,
   "id": "8ff7dae9-f447-4440-8dc0-ba3139f70fd8",
   "metadata": {},
   "outputs": [
    {
     "name": "stdout",
     "output_type": "stream",
     "text": [
      "0\n"
     ]
    }
   ],
   "source": [
    "num=0\n",
    "print(num)"
   ]
  },
  {
   "cell_type": "code",
   "execution_count": 2,
   "id": "cf34a8c7-b32f-4b57-ad19-8224896ca7e5",
   "metadata": {},
   "outputs": [
    {
     "name": "stdout",
     "output_type": "stream",
     "text": [
      "2\n"
     ]
    }
   ],
   "source": [
    "num2=2\n",
    "print(num2)"
   ]
  },
  {
   "cell_type": "code",
   "execution_count": 3,
   "id": "fe5a4e88-c4f8-456c-9e4a-c25a95e9a6ed",
   "metadata": {},
   "outputs": [
    {
     "name": "stdout",
     "output_type": "stream",
     "text": [
      "3\n"
     ]
    }
   ],
   "source": [
    "num_3=3\n",
    "print(num_3)"
   ]
  },
  {
   "cell_type": "code",
   "execution_count": 4,
   "id": "16ca3283-52c9-481c-bf60-b8a94a84512e",
   "metadata": {},
   "outputs": [
    {
     "name": "stdout",
     "output_type": "stream",
     "text": [
      "Hello World Python\n"
     ]
    }
   ],
   "source": [
    "hello='Hello World Python'\n",
    "print(hello)"
   ]
  },
  {
   "cell_type": "code",
   "execution_count": 5,
   "id": "4b9dda81-499e-4243-9a3c-d9956ae6b436",
   "metadata": {},
   "outputs": [
    {
     "name": "stdout",
     "output_type": "stream",
     "text": [
      "Hello\n"
     ]
    }
   ],
   "source": [
    "헬로='Hello'\n",
    "print(헬로)"
   ]
  },
  {
   "cell_type": "code",
   "execution_count": 6,
   "id": "30f6d387-92fb-4a47-a8c5-72da80ae4e96",
   "metadata": {},
   "outputs": [
    {
     "name": "stdout",
     "output_type": "stream",
     "text": [
      "안녕\n"
     ]
    }
   ],
   "source": [
    "헬로2='안녕'\n",
    "print(헬로2)"
   ]
  },
  {
   "cell_type": "code",
   "execution_count": null,
   "id": "040c0935-a9f1-4d3f-9f77-d06a3ff06c9d",
   "metadata": {},
   "outputs": [],
   "source": []
  },
  {
   "cell_type": "code",
   "execution_count": 1,
   "id": "71f0048c-37dc-48e9-b8f1-8061a543f391",
   "metadata": {},
   "outputs": [
    {
     "name": "stdout",
     "output_type": "stream",
     "text": [
      "Hello\n"
     ]
    }
   ],
   "source": [
    "_hello='Hello'\n",
    "print(_hello)"
   ]
  },
  {
   "cell_type": "code",
   "execution_count": 2,
   "id": "2ba68bca-fcb7-4a37-a90c-09efecaed193",
   "metadata": {},
   "outputs": [
    {
     "name": "stdout",
     "output_type": "stream",
     "text": [
      "Hello World\n"
     ]
    }
   ],
   "source": [
    "hello2='Hello World'\n",
    "print(hello2)"
   ]
  },
  {
   "cell_type": "code",
   "execution_count": 7,
   "id": "11b05245-6b8c-4202-bbd1-3c93ba173472",
   "metadata": {},
   "outputs": [
    {
     "ename": "SyntaxError",
     "evalue": "invalid syntax (<ipython-input-7-7dccc134c221>, line 1)",
     "output_type": "error",
     "traceback": [
      "\u001b[1;36m  File \u001b[1;32m\"<ipython-input-7-7dccc134c221>\"\u001b[1;36m, line \u001b[1;32m1\u001b[0m\n\u001b[1;33m    3hello='Hello World Pyhon'\u001b[0m\n\u001b[1;37m     ^\u001b[0m\n\u001b[1;31mSyntaxError\u001b[0m\u001b[1;31m:\u001b[0m invalid syntax\n"
     ]
    }
   ],
   "source": [
    "3hello='Hello World Pyhon'"
   ]
  },
  {
   "cell_type": "code",
   "execution_count": 8,
   "id": "3acca73d-74dc-4a7d-867e-7cedafeb200b",
   "metadata": {},
   "outputs": [
    {
     "ename": "SyntaxError",
     "evalue": "invalid decimal literal (<ipython-input-8-9073333ea38d>, line 1)",
     "output_type": "error",
     "traceback": [
      "\u001b[1;36m  File \u001b[1;32m\"<ipython-input-8-9073333ea38d>\"\u001b[1;36m, line \u001b[1;32m1\u001b[0m\n\u001b[1;33m    2_hello='Hello World'\u001b[0m\n\u001b[1;37m     ^\u001b[0m\n\u001b[1;31mSyntaxError\u001b[0m\u001b[1;31m:\u001b[0m invalid decimal literal\n"
     ]
    }
   ],
   "source": [
    "2_hello='Hello World'"
   ]
  },
  {
   "cell_type": "code",
   "execution_count": null,
   "id": "9d068879-3abb-4836-979f-029e32ae30f8",
   "metadata": {},
   "outputs": [],
   "source": []
  },
  {
   "cell_type": "code",
   "execution_count": 9,
   "id": "2ea20922-bbaf-4d1d-95d5-c453707cc528",
   "metadata": {},
   "outputs": [],
   "source": [
    "num1=10\n",
    "num2=5"
   ]
  },
  {
   "cell_type": "code",
   "execution_count": 10,
   "id": "50285599-c791-4e83-a7bc-f476b1d48d03",
   "metadata": {},
   "outputs": [
    {
     "name": "stdout",
     "output_type": "stream",
     "text": [
      "10 5\n"
     ]
    }
   ],
   "source": [
    "print(num1, num2)"
   ]
  },
  {
   "cell_type": "code",
   "execution_count": 11,
   "id": "b0aa0541-d0e7-4527-b189-c328ef1b18e4",
   "metadata": {},
   "outputs": [
    {
     "name": "stdout",
     "output_type": "stream",
     "text": [
      "15\n"
     ]
    }
   ],
   "source": [
    "print(num1+num2)"
   ]
  },
  {
   "cell_type": "code",
   "execution_count": 12,
   "id": "350fc1c9-82f7-42a8-8422-c3d6ab3cc177",
   "metadata": {},
   "outputs": [
    {
     "name": "stdout",
     "output_type": "stream",
     "text": [
      "summ: 15\n"
     ]
    }
   ],
   "source": [
    "print('summ:', num1+num2)"
   ]
  },
  {
   "cell_type": "code",
   "execution_count": null,
   "id": "499ef67f-cb53-4425-ae2a-dbeaee233a4e",
   "metadata": {},
   "outputs": [],
   "source": []
  },
  {
   "cell_type": "code",
   "execution_count": 13,
   "id": "9c61705f-867c-4758-a2de-05ef08796526",
   "metadata": {},
   "outputs": [],
   "source": [
    "a=b=10"
   ]
  },
  {
   "cell_type": "code",
   "execution_count": 14,
   "id": "ba6fbaab-341f-468f-9f54-a9a8c5bba9f0",
   "metadata": {},
   "outputs": [
    {
     "name": "stdout",
     "output_type": "stream",
     "text": [
      "10\n"
     ]
    }
   ],
   "source": [
    "print(a)"
   ]
  },
  {
   "cell_type": "code",
   "execution_count": 15,
   "id": "200d3784-292f-41cc-9a5c-51ee432a536e",
   "metadata": {},
   "outputs": [
    {
     "name": "stdout",
     "output_type": "stream",
     "text": [
      "10\n"
     ]
    }
   ],
   "source": [
    "print(b)"
   ]
  },
  {
   "cell_type": "code",
   "execution_count": 16,
   "id": "207e3d18-ed3d-49ff-9b4e-762b5cc87e6c",
   "metadata": {},
   "outputs": [],
   "source": [
    "a, b = 2, 4"
   ]
  },
  {
   "cell_type": "code",
   "execution_count": 17,
   "id": "b97cc42f-fe21-4309-844a-e87be7a53459",
   "metadata": {},
   "outputs": [
    {
     "name": "stdout",
     "output_type": "stream",
     "text": [
      "2\n"
     ]
    }
   ],
   "source": [
    "print(a)"
   ]
  },
  {
   "cell_type": "code",
   "execution_count": 19,
   "id": "710b4481-da8b-4133-9ac0-f934c20e5727",
   "metadata": {},
   "outputs": [
    {
     "name": "stdout",
     "output_type": "stream",
     "text": [
      "4\n"
     ]
    }
   ],
   "source": [
    "print(b)"
   ]
  },
  {
   "cell_type": "code",
   "execution_count": null,
   "id": "d01fe07c-b5ef-4a23-948f-71b3d9cae276",
   "metadata": {},
   "outputs": [],
   "source": []
  },
  {
   "cell_type": "code",
   "execution_count": 26,
   "id": "98ceddf0-cc67-4c76-a47f-bb47f967c5b4",
   "metadata": {},
   "outputs": [],
   "source": [
    "a=10; b=5"
   ]
  },
  {
   "cell_type": "code",
   "execution_count": 28,
   "id": "3463d34c-6c51-487b-8ffe-1ee2c6b79db9",
   "metadata": {},
   "outputs": [
    {
     "name": "stdout",
     "output_type": "stream",
     "text": [
      "10 5\n"
     ]
    }
   ],
   "source": [
    "print(a, b)"
   ]
  },
  {
   "cell_type": "code",
   "execution_count": 29,
   "id": "9677af40-32df-451a-a6da-07d747511914",
   "metadata": {},
   "outputs": [],
   "source": [
    "temp=a; a=b; b=temp"
   ]
  },
  {
   "cell_type": "code",
   "execution_count": 30,
   "id": "7d5c229a-68eb-4401-95a1-c88bd6d4fa38",
   "metadata": {},
   "outputs": [
    {
     "name": "stdout",
     "output_type": "stream",
     "text": [
      "5 10\n"
     ]
    }
   ],
   "source": [
    "print(a, b)"
   ]
  },
  {
   "cell_type": "code",
   "execution_count": null,
   "id": "0f9d8cf0-c973-4ff5-bfc1-2924f7f55313",
   "metadata": {},
   "outputs": [],
   "source": []
  },
  {
   "cell_type": "code",
   "execution_count": 31,
   "id": "8e746cdf-da51-4a40-9739-175ca7ad22bc",
   "metadata": {},
   "outputs": [],
   "source": [
    "a=10; b=5"
   ]
  },
  {
   "cell_type": "code",
   "execution_count": 32,
   "id": "fd5ff5de-15e4-47a1-97e4-c7cc76871522",
   "metadata": {},
   "outputs": [
    {
     "name": "stdout",
     "output_type": "stream",
     "text": [
      "10 5\n"
     ]
    }
   ],
   "source": [
    "print(a, b)"
   ]
  },
  {
   "cell_type": "code",
   "execution_count": 33,
   "id": "66fc1df7-c624-4156-a82d-cb6bbe4d3cc3",
   "metadata": {},
   "outputs": [],
   "source": [
    "a, b=b, a"
   ]
  },
  {
   "cell_type": "code",
   "execution_count": 34,
   "id": "71a93537-b7bf-44e4-b217-0c0fcd2a88fb",
   "metadata": {},
   "outputs": [
    {
     "name": "stdout",
     "output_type": "stream",
     "text": [
      "5 10\n"
     ]
    }
   ],
   "source": [
    "print(a, b)"
   ]
  }
 ],
 "metadata": {
  "kernelspec": {
   "display_name": "Python 3",
   "language": "python",
   "name": "python3"
  },
  "language_info": {
   "codemirror_mode": {
    "name": "ipython",
    "version": 3
   },
   "file_extension": ".py",
   "mimetype": "text/x-python",
   "name": "python",
   "nbconvert_exporter": "python",
   "pygments_lexer": "ipython3",
   "version": "3.8.8"
  }
 },
 "nbformat": 4,
 "nbformat_minor": 5
}
