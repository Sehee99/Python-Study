{
 "cells": [
  {
   "cell_type": "code",
   "execution_count": 1,
   "id": "9eacc299-a6a0-4ca4-a291-c29b420e9005",
   "metadata": {},
   "outputs": [
    {
     "data": {
      "text/plain": [
       "16"
      ]
     },
     "execution_count": 1,
     "metadata": {},
     "output_type": "execute_result"
    }
   ],
   "source": [
    "len('HelloWorldPython')"
   ]
  },
  {
   "cell_type": "code",
   "execution_count": 2,
   "id": "2f523077-d6da-44c4-974f-fb07ca861192",
   "metadata": {},
   "outputs": [
    {
     "data": {
      "text/plain": [
       "'H-e-l-l-o-W-o-l-r-d-P-y-t-h-o-n'"
      ]
     },
     "execution_count": 2,
     "metadata": {},
     "output_type": "execute_result"
    }
   ],
   "source": [
    "'-'.join('HelloWolrdPython')"
   ]
  },
  {
   "cell_type": "code",
   "execution_count": 3,
   "id": "5b7d386f-f710-4a11-90e0-9195541cf408",
   "metadata": {},
   "outputs": [
    {
     "data": {
      "text/plain": [
       "'1-2-3-4-5'"
      ]
     },
     "execution_count": 3,
     "metadata": {},
     "output_type": "execute_result"
    }
   ],
   "source": [
    "'-'.join('12345')"
   ]
  },
  {
   "cell_type": "code",
   "execution_count": 4,
   "id": "793cc071-2b2c-4221-ad88-20fd45845801",
   "metadata": {},
   "outputs": [
    {
     "data": {
      "text/plain": [
       "['Hello=Wrold', 'Python']"
      ]
     },
     "execution_count": 4,
     "metadata": {},
     "output_type": "execute_result"
    }
   ],
   "source": [
    "'Hello=Wrold-Python'.split('-')"
   ]
  },
  {
   "cell_type": "code",
   "execution_count": 5,
   "id": "3e183f6a-3ab6-4a1b-ab69-1e3255eb5fa7",
   "metadata": {},
   "outputs": [
    {
     "data": {
      "text/plain": [
       "['서울시', '마포구', '상암동', '1585']"
      ]
     },
     "execution_count": 5,
     "metadata": {},
     "output_type": "execute_result"
    }
   ],
   "source": [
    "'서울시 마포구 상암동 1585'.split()"
   ]
  },
  {
   "cell_type": "code",
   "execution_count": 6,
   "id": "8493829b-7615-42b4-8c83-94dd0ab730e7",
   "metadata": {},
   "outputs": [
    {
     "data": {
      "text/plain": [
       "'문자열 정리'"
      ]
     },
     "execution_count": 6,
     "metadata": {},
     "output_type": "execute_result"
    }
   ],
   "source": [
    "text='\\t 문자열 정리    \\n'   #\\t(tab), \\n(enter) escape 문자\n",
    "text.strip()      #띄어쓰기 공백은 제거되지 않음"
   ]
  },
  {
   "cell_type": "code",
   "execution_count": 7,
   "id": "d1ff02ed-2bac-4c6a-ba98-2a1d86f3ac86",
   "metadata": {},
   "outputs": [
    {
     "data": {
      "text/plain": [
       "'2016-08-30'"
      ]
     },
     "execution_count": 7,
     "metadata": {},
     "output_type": "execute_result"
    }
   ],
   "source": [
    "생일='2016/08/30'\n",
    "생일.replace('/', '-')"
   ]
  },
  {
   "cell_type": "code",
   "execution_count": 8,
   "id": "e93a0fe2-1410-4d03-842b-5e48fbfd7c5d",
   "metadata": {},
   "outputs": [
    {
     "data": {
      "text/plain": [
       "True"
      ]
     },
     "execution_count": 8,
     "metadata": {},
     "output_type": "execute_result"
    }
   ],
   "source": [
    "'Hello World Python'.startswith('Hello')"
   ]
  },
  {
   "cell_type": "code",
   "execution_count": 9,
   "id": "cdb9c917-d587-4f68-be27-c43ea5d54303",
   "metadata": {},
   "outputs": [
    {
     "data": {
      "text/plain": [
       "False"
      ]
     },
     "execution_count": 9,
     "metadata": {},
     "output_type": "execute_result"
    }
   ],
   "source": [
    "'Hello World Python'.startswith('hello')"
   ]
  },
  {
   "cell_type": "code",
   "execution_count": 10,
   "id": "d398e7b2-b559-4e2f-82f1-377358976c02",
   "metadata": {},
   "outputs": [
    {
     "data": {
      "text/plain": [
       "True"
      ]
     },
     "execution_count": 10,
     "metadata": {},
     "output_type": "execute_result"
    }
   ],
   "source": [
    "'Hello World Python'.endswith('Python')"
   ]
  },
  {
   "cell_type": "code",
   "execution_count": 11,
   "id": "d5dfc22d-cceb-4c55-973b-efaf29d8edf7",
   "metadata": {},
   "outputs": [
    {
     "data": {
      "text/plain": [
       "False"
      ]
     },
     "execution_count": 11,
     "metadata": {},
     "output_type": "execute_result"
    }
   ],
   "source": [
    "'Hello World Python'.endswith('python')"
   ]
  },
  {
   "cell_type": "code",
   "execution_count": 12,
   "id": "bc7d32f3-13b1-43e2-b544-4dc883151474",
   "metadata": {},
   "outputs": [
    {
     "data": {
      "text/plain": [
       "3"
      ]
     },
     "execution_count": 12,
     "metadata": {},
     "output_type": "execute_result"
    }
   ],
   "source": [
    "text='Hello World Python'\n",
    "text.count('o')"
   ]
  },
  {
   "cell_type": "code",
   "execution_count": 13,
   "id": "248c74dc-a464-4b67-8f11-385375bafa77",
   "metadata": {},
   "outputs": [
    {
     "data": {
      "text/plain": [
       "2"
      ]
     },
     "execution_count": 13,
     "metadata": {},
     "output_type": "execute_result"
    }
   ],
   "source": [
    "text='Hello World Python, Welcome to Python World'\n",
    "text.count('Python')"
   ]
  },
  {
   "cell_type": "code",
   "execution_count": 14,
   "id": "87cd6e38-116c-4da8-b840-5881a16d5999",
   "metadata": {},
   "outputs": [
    {
     "data": {
      "text/plain": [
       "4"
      ]
     },
     "execution_count": 14,
     "metadata": {},
     "output_type": "execute_result"
    }
   ],
   "source": [
    "text.index('o')"
   ]
  },
  {
   "cell_type": "code",
   "execution_count": 15,
   "id": "265fd7e6-1fcd-4735-ace8-21c78534a4cd",
   "metadata": {},
   "outputs": [
    {
     "data": {
      "text/plain": [
       "7"
      ]
     },
     "execution_count": 15,
     "metadata": {},
     "output_type": "execute_result"
    }
   ],
   "source": [
    "text.index('o', 5) #index 5 이후부터"
   ]
  },
  {
   "cell_type": "code",
   "execution_count": 16,
   "id": "f619ea45-4080-4024-8575-4ae64bf6547f",
   "metadata": {},
   "outputs": [
    {
     "data": {
      "text/plain": [
       "12"
      ]
     },
     "execution_count": 16,
     "metadata": {},
     "output_type": "execute_result"
    }
   ],
   "source": [
    "text.find('Python') #문자열이 처음 등장하는 index"
   ]
  },
  {
   "cell_type": "code",
   "execution_count": 17,
   "id": "908069e8-fad3-4a1b-aa3e-0bf84296f37c",
   "metadata": {},
   "outputs": [
    {
     "data": {
      "text/plain": [
       "31"
      ]
     },
     "execution_count": 17,
     "metadata": {},
     "output_type": "execute_result"
    }
   ],
   "source": [
    "text.find('Python', 20)"
   ]
  },
  {
   "cell_type": "code",
   "execution_count": 18,
   "id": "3de6834c-9b0e-466d-a52c-efee7afde7ad",
   "metadata": {},
   "outputs": [
    {
     "data": {
      "text/plain": [
       "'Hello world'"
      ]
     },
     "execution_count": 18,
     "metadata": {},
     "output_type": "execute_result"
    }
   ],
   "source": [
    "'Hello World'.capitalize()"
   ]
  },
  {
   "cell_type": "code",
   "execution_count": 19,
   "id": "f077fe82-24da-4f46-b270-f8e160975259",
   "metadata": {},
   "outputs": [
    {
     "data": {
      "text/plain": [
       "'hello wolrd'"
      ]
     },
     "execution_count": 19,
     "metadata": {},
     "output_type": "execute_result"
    }
   ],
   "source": [
    "'Hello Wolrd'.lower()"
   ]
  },
  {
   "cell_type": "code",
   "execution_count": 20,
   "id": "85ca9b81-f071-46ff-bc19-029593a4d68d",
   "metadata": {},
   "outputs": [
    {
     "data": {
      "text/plain": [
       "'HELLO WORLD'"
      ]
     },
     "execution_count": 20,
     "metadata": {},
     "output_type": "execute_result"
    }
   ],
   "source": [
    "'Hello World'.upper()"
   ]
  },
  {
   "cell_type": "code",
   "execution_count": 21,
   "id": "42da542e-4964-4415-aa91-d656723edd83",
   "metadata": {},
   "outputs": [
    {
     "data": {
      "text/plain": [
       "True"
      ]
     },
     "execution_count": 21,
     "metadata": {},
     "output_type": "execute_result"
    }
   ],
   "source": [
    "'Python' in 'Hello World Python'"
   ]
  },
  {
   "cell_type": "code",
   "execution_count": 22,
   "id": "cbb85499-756d-4532-8207-5fb5a040f7f1",
   "metadata": {},
   "outputs": [
    {
     "data": {
      "text/plain": [
       "False"
      ]
     },
     "execution_count": 22,
     "metadata": {},
     "output_type": "execute_result"
    }
   ],
   "source": [
    "'Java' in 'Hello World Python'"
   ]
  }
 ],
 "metadata": {
  "kernelspec": {
   "display_name": "Python 3",
   "language": "python",
   "name": "python3"
  },
  "language_info": {
   "codemirror_mode": {
    "name": "ipython",
    "version": 3
   },
   "file_extension": ".py",
   "mimetype": "text/x-python",
   "name": "python",
   "nbconvert_exporter": "python",
   "pygments_lexer": "ipython3",
   "version": "3.8.8"
  }
 },
 "nbformat": 4,
 "nbformat_minor": 5
}
