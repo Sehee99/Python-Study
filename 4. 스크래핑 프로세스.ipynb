{
 "cells": [
  {
   "cell_type": "code",
   "execution_count": 10,
   "id": "bf19c7bf-3bab-411b-8fa1-07c6ae12e8b5",
   "metadata": {},
   "outputs": [],
   "source": [
    "import re\n",
    "import sqlite3\n",
    "from urllib.request import urlopen\n",
    "from html import unescape\n",
    "import pandas as pd\n",
    "import os"
   ]
  },
  {
   "cell_type": "markdown",
   "id": "3cbd8bae-145b-48c3-b357-af03e29ba80e",
   "metadata": {},
   "source": [
    "### 1. 웹 페이지 크롤링"
   ]
  },
  {
   "cell_type": "markdown",
   "id": "86eb4881-1199-4936-8198-b3e1f28471c6",
   "metadata": {},
   "source": [
    "fetch(url): 매개변수로 지정한 URL의 웹 페이지를 추출"
   ]
  },
  {
   "cell_type": "code",
   "execution_count": 11,
   "id": "ae6a41d5-2bce-4bd2-937a-336dc6f4049b",
   "metadata": {},
   "outputs": [],
   "source": [
    "def fetch(url):\n",
    "    \"\"\"\n",
    "    매개변수로 전달받을 url을 기반으로 웹 페이지를 추출\n",
    "    웹 페이지의 Content-Type 헤더를 통해 인코딩 형식 확인\n",
    "    반환값: str 자료형의 HTML\n",
    "    \"\"\"\n",
    "    f = urlopen(url)\n",
    "    # HTTP 헤더를 기반으로 인코딩 형식 추출\n",
    "    encoding = f.info().get_content_charset(failobj=\"utf-8\")\n",
    "    # 추출한 인코딩 형식을 기반으로 문자열 디코딩\n",
    "    html = f.read().decode(encoding)\n",
    "    return html"
   ]
  },
  {
   "cell_type": "markdown",
   "id": "bb4d36fd-57eb-439b-be51-c3e5d818056f",
   "metadata": {},
   "source": [
    "### 2. 스크래핑"
   ]
  },
  {
   "cell_type": "markdown",
   "id": "76fa7ab2-742b-4763-8a74-b8ce69c27b99",
   "metadata": {},
   "source": [
    "scrape(html): 매개변수로 html을 받고, 정규 표현식 / html 파서를 사용해 HTML에서 도서 정보 추출"
   ]
  },
  {
   "cell_type": "code",
   "execution_count": 12,
   "id": "38ca3cda-594e-4bca-9464-58dfd09562b8",
   "metadata": {},
   "outputs": [],
   "source": [
    "def scrape(html):\n",
    "    \"\"\"\n",
    "    매개변수 html로 받은 HTML을 기반으로 정규 표현식을 사용해 도서 정보를 추출합니다.\n",
    "    반환값: 도서(dict) 리스트\n",
    "    \"\"\"\n",
    "    books = []\n",
    "    # re.findall()을 사용해 도서 하나에 해당하는 HTML을 추출\n",
    "    for partial_html in re.findall(r'<td class=\"left\"><a.*?</td>', html, re.DOTALL):\n",
    "        # 도서의 URL을 추출\n",
    "        url = re.search(r'<a href=\"(.*?)\">', partial_html).group(1)\n",
    "        url = 'http://www.hanbit.co.kr' + url\n",
    "        # 태그를 제거해서 도서의 제목 추출\n",
    "        title = re.sub(r'<.*?>', '', partial_html)\n",
    "        title = unescape(title)\n",
    "        books.append(pd.DataFrame({'url': [url], 'title': [title]}))\n",
    "    return pd.concat(books)"
   ]
  },
  {
   "cell_type": "markdown",
   "id": "d7f65b80-78da-4a99-aa1a-9583ae34d5f1",
   "metadata": {},
   "source": [
    "### 3. 데이터 저장 (CSV / JSON / DBMS)"
   ]
  },
  {
   "cell_type": "markdown",
   "id": "28f12738-1073-4683-adf6-5ed4cf9a83aa",
   "metadata": {},
   "source": [
    "save(db_path, books): 매개변수로 books라는 도서 목록을 받고, db_path로 지정된 SQLite DB에 저장"
   ]
  },
  {
   "cell_type": "code",
   "execution_count": 13,
   "id": "9b8197e1-9c17-4cf7-adbf-3d4e1c8ead4c",
   "metadata": {},
   "outputs": [],
   "source": [
    "def save(db_path, books):\n",
    "    with sqlite3.connect(os.path.join('.', db_path)) as con: # sqlite DB 파일이 존재하지 않는 경우 파일생성\n",
    "        try:\n",
    "            books.to_sql(name = 'BOOKS_INFO', con = con, index = False, if_exists='append') \n",
    "            #if_exists : {'fail', 'replace', 'append'} default : fail\n",
    "        except Exception as e:\n",
    "            print(str(e))\n",
    "    \n",
    "    query = 'SELECT * FROM BOOKS_INFO'\n",
    "    df = pd.read_sql(query, con = con)\n",
    "    return df"
   ]
  },
  {
   "cell_type": "code",
   "execution_count": 14,
   "id": "4a60ff75-bcb0-4d75-ade0-779a35ea5b49",
   "metadata": {},
   "outputs": [],
   "source": [
    "html = fetch('http://www.hanbit.co.kr/store/books/full_book_list.html')"
   ]
  },
  {
   "cell_type": "code",
   "execution_count": 15,
   "id": "3ad3201b-c6cb-435a-8841-0e2101d064e8",
   "metadata": {},
   "outputs": [
    {
     "data": {
      "text/html": [
       "<div>\n",
       "<style scoped>\n",
       "    .dataframe tbody tr th:only-of-type {\n",
       "        vertical-align: middle;\n",
       "    }\n",
       "\n",
       "    .dataframe tbody tr th {\n",
       "        vertical-align: top;\n",
       "    }\n",
       "\n",
       "    .dataframe thead th {\n",
       "        text-align: right;\n",
       "    }\n",
       "</style>\n",
       "<table border=\"1\" class=\"dataframe\">\n",
       "  <thead>\n",
       "    <tr style=\"text-align: right;\">\n",
       "      <th></th>\n",
       "      <th>url</th>\n",
       "      <th>title</th>\n",
       "    </tr>\n",
       "  </thead>\n",
       "  <tbody>\n",
       "    <tr>\n",
       "      <th>0</th>\n",
       "      <td>http://www.hanbit.co.kr/store/books/look.php?p...</td>\n",
       "      <td>청소년 인문학 수업 - 1권</td>\n",
       "    </tr>\n",
       "    <tr>\n",
       "      <th>1</th>\n",
       "      <td>http://www.hanbit.co.kr/store/books/look.php?p...</td>\n",
       "      <td>청소년 인문학 수업 - 2권</td>\n",
       "    </tr>\n",
       "    <tr>\n",
       "      <th>2</th>\n",
       "      <td>http://www.hanbit.co.kr/store/books/look.php?p...</td>\n",
       "      <td>처음 시작하는 파이썬(2판)</td>\n",
       "    </tr>\n",
       "    <tr>\n",
       "      <th>3</th>\n",
       "      <td>http://www.hanbit.co.kr/store/books/look.php?p...</td>\n",
       "      <td>퀀트 전략을 위한 인공지능 트레이딩</td>\n",
       "    </tr>\n",
       "    <tr>\n",
       "      <th>4</th>\n",
       "      <td>http://www.hanbit.co.kr/store/books/look.php?p...</td>\n",
       "      <td>처음 시작하는 딥러닝</td>\n",
       "    </tr>\n",
       "    <tr>\n",
       "      <th>...</th>\n",
       "      <td>...</td>\n",
       "      <td>...</td>\n",
       "    </tr>\n",
       "    <tr>\n",
       "      <th>145</th>\n",
       "      <td>http://www.hanbit.co.kr/store/books/look.php?p...</td>\n",
       "      <td>IT CookBook, 컴퓨터 구조와 원리 3.0</td>\n",
       "    </tr>\n",
       "    <tr>\n",
       "      <th>146</th>\n",
       "      <td>http://www.hanbit.co.kr/store/books/look.php?p...</td>\n",
       "      <td>IT CookBook, 최신 기술 동향으로 알아보는 ICT와 4차 산업혁명</td>\n",
       "    </tr>\n",
       "    <tr>\n",
       "      <th>147</th>\n",
       "      <td>http://www.hanbit.co.kr/store/books/look.php?p...</td>\n",
       "      <td>초보 판매자가 빅파워셀러로 거듭나는 네이버 스마트스토어 마케팅 시작하기</td>\n",
       "    </tr>\n",
       "    <tr>\n",
       "      <th>148</th>\n",
       "      <td>http://www.hanbit.co.kr/store/books/look.php?p...</td>\n",
       "      <td>STEM CookBook, 한 걸음씩 알아가는 선형대수학</td>\n",
       "    </tr>\n",
       "    <tr>\n",
       "      <th>149</th>\n",
       "      <td>http://www.hanbit.co.kr/store/books/look.php?p...</td>\n",
       "      <td>STEM CookBook, 해석학 첫걸음</td>\n",
       "    </tr>\n",
       "  </tbody>\n",
       "</table>\n",
       "<p>150 rows × 2 columns</p>\n",
       "</div>"
      ],
      "text/plain": [
       "                                                   url  \\\n",
       "0    http://www.hanbit.co.kr/store/books/look.php?p...   \n",
       "1    http://www.hanbit.co.kr/store/books/look.php?p...   \n",
       "2    http://www.hanbit.co.kr/store/books/look.php?p...   \n",
       "3    http://www.hanbit.co.kr/store/books/look.php?p...   \n",
       "4    http://www.hanbit.co.kr/store/books/look.php?p...   \n",
       "..                                                 ...   \n",
       "145  http://www.hanbit.co.kr/store/books/look.php?p...   \n",
       "146  http://www.hanbit.co.kr/store/books/look.php?p...   \n",
       "147  http://www.hanbit.co.kr/store/books/look.php?p...   \n",
       "148  http://www.hanbit.co.kr/store/books/look.php?p...   \n",
       "149  http://www.hanbit.co.kr/store/books/look.php?p...   \n",
       "\n",
       "                                         title  \n",
       "0                              청소년 인문학 수업 - 1권  \n",
       "1                              청소년 인문학 수업 - 2권  \n",
       "2                              처음 시작하는 파이썬(2판)  \n",
       "3                          퀀트 전략을 위한 인공지능 트레이딩  \n",
       "4                                  처음 시작하는 딥러닝  \n",
       "..                                         ...  \n",
       "145                IT CookBook, 컴퓨터 구조와 원리 3.0  \n",
       "146  IT CookBook, 최신 기술 동향으로 알아보는 ICT와 4차 산업혁명  \n",
       "147    초보 판매자가 빅파워셀러로 거듭나는 네이버 스마트스토어 마케팅 시작하기  \n",
       "148            STEM CookBook, 한 걸음씩 알아가는 선형대수학  \n",
       "149                     STEM CookBook, 해석학 첫걸음  \n",
       "\n",
       "[150 rows x 2 columns]"
      ]
     },
     "execution_count": 15,
     "metadata": {},
     "output_type": "execute_result"
    }
   ],
   "source": [
    "df = scrape(html)\n",
    "df.reset_index(drop=True, inplace=True)\n",
    "df2 = save('books.db', df)\n",
    "df2"
   ]
  }
 ],
 "metadata": {
  "kernelspec": {
   "display_name": "Python 3",
   "language": "python",
   "name": "python3"
  },
  "language_info": {
   "codemirror_mode": {
    "name": "ipython",
    "version": 3
   },
   "file_extension": ".py",
   "mimetype": "text/x-python",
   "name": "python",
   "nbconvert_exporter": "python",
   "pygments_lexer": "ipython3",
   "version": "3.8.8"
  }
 },
 "nbformat": 4,
 "nbformat_minor": 5
}
