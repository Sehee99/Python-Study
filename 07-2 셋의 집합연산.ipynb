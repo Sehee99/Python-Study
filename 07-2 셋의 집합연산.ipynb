{
 "cells": [
  {
   "cell_type": "markdown",
   "id": "c013fcf3-1261-4742-9907-5436f1a48b9e",
   "metadata": {},
   "source": [
    "### 셋의 집합 연산"
   ]
  },
  {
   "cell_type": "code",
   "execution_count": 1,
   "id": "03eb36aa-c481-4041-a790-5f646e543833",
   "metadata": {},
   "outputs": [],
   "source": [
    "set1={'A', 'B', 'C', 'D', 'E', 'F'}\n",
    "set2={'B', 'D', 'G', 'H'}"
   ]
  },
  {
   "cell_type": "markdown",
   "id": "94c12731-f56d-49f6-a324-625785c2e2e8",
   "metadata": {},
   "source": [
    "교집합 연산: & / intersection() 함수"
   ]
  },
  {
   "cell_type": "code",
   "execution_count": 2,
   "id": "00df8c1e-0c6a-4f4b-8b54-ded2629d5f46",
   "metadata": {},
   "outputs": [
    {
     "data": {
      "text/plain": [
       "{'B', 'D'}"
      ]
     },
     "execution_count": 2,
     "metadata": {},
     "output_type": "execute_result"
    }
   ],
   "source": [
    "set1 & set2"
   ]
  },
  {
   "cell_type": "code",
   "execution_count": 3,
   "id": "853a0e5f-1782-4537-93b4-539012d68410",
   "metadata": {},
   "outputs": [
    {
     "data": {
      "text/plain": [
       "{'B', 'D'}"
      ]
     },
     "execution_count": 3,
     "metadata": {},
     "output_type": "execute_result"
    }
   ],
   "source": [
    "set1.intersection(set2)"
   ]
  },
  {
   "cell_type": "markdown",
   "id": "5bedc214-5d27-4314-a551-44d9d065018a",
   "metadata": {},
   "source": [
    "합집합 연산: | / union() 함수"
   ]
  },
  {
   "cell_type": "code",
   "execution_count": 4,
   "id": "d766d358-797e-41fe-95d2-abb0771c8519",
   "metadata": {},
   "outputs": [
    {
     "data": {
      "text/plain": [
       "{'A', 'B', 'C', 'D', 'E', 'F', 'G', 'H'}"
      ]
     },
     "execution_count": 4,
     "metadata": {},
     "output_type": "execute_result"
    }
   ],
   "source": [
    "set1 | set2"
   ]
  },
  {
   "cell_type": "code",
   "execution_count": 5,
   "id": "2dfd1041-fd39-4b76-96d9-777ff0e17235",
   "metadata": {},
   "outputs": [
    {
     "data": {
      "text/plain": [
       "{'A', 'B', 'C', 'D', 'E', 'F', 'G', 'H'}"
      ]
     },
     "execution_count": 5,
     "metadata": {},
     "output_type": "execute_result"
    }
   ],
   "source": [
    "set1.union(set2)"
   ]
  },
  {
   "cell_type": "markdown",
   "id": "7d18a0f0-9526-4989-b712-6116418e6c2e",
   "metadata": {},
   "source": [
    "차집합 연산: - / difference() 함수"
   ]
  },
  {
   "cell_type": "code",
   "execution_count": 6,
   "id": "1eea47cd-34ac-4b8b-91a4-404e666c3702",
   "metadata": {},
   "outputs": [
    {
     "data": {
      "text/plain": [
       "{'A', 'C', 'E', 'F'}"
      ]
     },
     "execution_count": 6,
     "metadata": {},
     "output_type": "execute_result"
    }
   ],
   "source": [
    "set1 - set2"
   ]
  },
  {
   "cell_type": "code",
   "execution_count": 7,
   "id": "6429fd22-914f-4b5d-8dbe-1ad8ca76e3e0",
   "metadata": {},
   "outputs": [
    {
     "data": {
      "text/plain": [
       "{'A', 'C', 'E', 'F'}"
      ]
     },
     "execution_count": 7,
     "metadata": {},
     "output_type": "execute_result"
    }
   ],
   "source": [
    "set1.difference(set2)"
   ]
  },
  {
   "cell_type": "markdown",
   "id": "d9c00d2a-045b-4b05-84ac-f6d09896d14e",
   "metadata": {},
   "source": [
    "대칭 차집합 연산(교집합 부분을 제외): ^ / symmetric_difference() 함수"
   ]
  },
  {
   "cell_type": "code",
   "execution_count": 8,
   "id": "6f837714-a927-4274-84b2-994b4fcb5572",
   "metadata": {},
   "outputs": [
    {
     "data": {
      "text/plain": [
       "{'A', 'C', 'E', 'F', 'G', 'H'}"
      ]
     },
     "execution_count": 8,
     "metadata": {},
     "output_type": "execute_result"
    }
   ],
   "source": [
    "set1 ^ set2"
   ]
  },
  {
   "cell_type": "code",
   "execution_count": 11,
   "id": "1de8737e-896b-4d28-be7c-58e3ea2caef5",
   "metadata": {},
   "outputs": [
    {
     "data": {
      "text/plain": [
       "{'A', 'C', 'E', 'F', 'G', 'H'}"
      ]
     },
     "execution_count": 11,
     "metadata": {},
     "output_type": "execute_result"
    }
   ],
   "source": [
    "set1.symmetric_difference(set2)"
   ]
  },
  {
   "cell_type": "code",
   "execution_count": null,
   "id": "808c4e1c-c654-48ec-a78a-244e9f1c9f5b",
   "metadata": {},
   "outputs": [],
   "source": []
  }
 ],
 "metadata": {
  "kernelspec": {
   "display_name": "Python 3",
   "language": "python",
   "name": "python3"
  },
  "language_info": {
   "codemirror_mode": {
    "name": "ipython",
    "version": 3
   },
   "file_extension": ".py",
   "mimetype": "text/x-python",
   "name": "python",
   "nbconvert_exporter": "python",
   "pygments_lexer": "ipython3",
   "version": "3.8.8"
  }
 },
 "nbformat": 4,
 "nbformat_minor": 5
}
