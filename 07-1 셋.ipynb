{
 "cells": [
  {
   "cell_type": "markdown",
   "id": "7c6e5d33-64bd-4b2c-b3d8-f3c62fcfc267",
   "metadata": {},
   "source": [
    "### 셋(set)"
   ]
  },
  {
   "cell_type": "markdown",
   "id": "69c7b946-20b5-4c81-be9a-3dc00a57515f",
   "metadata": {},
   "source": [
    "원소(Element)의 중복을 허용하지 않음"
   ]
  },
  {
   "cell_type": "code",
   "execution_count": 2,
   "id": "dbdd47de-1b6f-44b9-9e47-614a2887a7df",
   "metadata": {},
   "outputs": [
    {
     "data": {
      "text/plain": [
       "{'A', 'B', 'C', 'D', 'E', 'F'}"
      ]
     },
     "execution_count": 2,
     "metadata": {},
     "output_type": "execute_result"
    }
   ],
   "source": [
    "set1={'A', 'B', 'C', 'A', 'D', 'E', 'F', 'B'}\n",
    "set1"
   ]
  },
  {
   "cell_type": "markdown",
   "id": "42410f07-038c-4976-8c9e-812c8d39526b",
   "metadata": {},
   "source": [
    "인덱싱과 슬라이싱 불가"
   ]
  },
  {
   "cell_type": "code",
   "execution_count": 13,
   "id": "3023bd96-c869-4227-870a-16162d9f8146",
   "metadata": {},
   "outputs": [
    {
     "ename": "TypeError",
     "evalue": "'set' object is not subscriptable",
     "output_type": "error",
     "traceback": [
      "\u001b[1;31m---------------------------------------------------------------------------\u001b[0m",
      "\u001b[1;31mTypeError\u001b[0m                                 Traceback (most recent call last)",
      "\u001b[1;32m<ipython-input-13-c38563f1af7a>\u001b[0m in \u001b[0;36m<module>\u001b[1;34m\u001b[0m\n\u001b[1;32m----> 1\u001b[1;33m \u001b[0mset1\u001b[0m\u001b[1;33m[\u001b[0m\u001b[1;36m0\u001b[0m\u001b[1;33m]\u001b[0m\u001b[1;33m\u001b[0m\u001b[1;33m\u001b[0m\u001b[0m\n\u001b[0m",
      "\u001b[1;31mTypeError\u001b[0m: 'set' object is not subscriptable"
     ]
    }
   ],
   "source": [
    "set1[0]"
   ]
  },
  {
   "cell_type": "code",
   "execution_count": 14,
   "id": "96f2f314-1d8c-4619-b8be-5f49dad09a74",
   "metadata": {},
   "outputs": [
    {
     "ename": "TypeError",
     "evalue": "'type' object is not subscriptable",
     "output_type": "error",
     "traceback": [
      "\u001b[1;31m---------------------------------------------------------------------------\u001b[0m",
      "\u001b[1;31mTypeError\u001b[0m                                 Traceback (most recent call last)",
      "\u001b[1;32m<ipython-input-14-b2fc0e8089d7>\u001b[0m in \u001b[0;36m<module>\u001b[1;34m\u001b[0m\n\u001b[1;32m----> 1\u001b[1;33m \u001b[0mset\u001b[0m\u001b[1;33m[\u001b[0m\u001b[1;33m:\u001b[0m\u001b[1;36m5\u001b[0m\u001b[1;33m]\u001b[0m\u001b[1;33m\u001b[0m\u001b[1;33m\u001b[0m\u001b[0m\n\u001b[0m",
      "\u001b[1;31mTypeError\u001b[0m: 'type' object is not subscriptable"
     ]
    }
   ],
   "source": [
    "set[:5]"
   ]
  },
  {
   "cell_type": "markdown",
   "id": "f27b93a2-8ed9-4f83-8aa8-6006c0011f94",
   "metadata": {},
   "source": [
    "add() 함수"
   ]
  },
  {
   "cell_type": "code",
   "execution_count": 15,
   "id": "c67fd0cd-4b59-4193-8e5d-1a398af804f1",
   "metadata": {},
   "outputs": [
    {
     "data": {
      "text/plain": [
       "{'A', 'B', 'C', 'D', 'E', 'F', 'a'}"
      ]
     },
     "execution_count": 15,
     "metadata": {},
     "output_type": "execute_result"
    }
   ],
   "source": [
    "set1.add('a')\n",
    "set1"
   ]
  },
  {
   "cell_type": "code",
   "execution_count": 16,
   "id": "e807ed83-0e66-4f76-b0a0-6f99df87cb60",
   "metadata": {},
   "outputs": [
    {
     "data": {
      "text/plain": [
       "{'A', 'B', 'C', 'D', 'E', 'F', 'a'}"
      ]
     },
     "execution_count": 16,
     "metadata": {},
     "output_type": "execute_result"
    }
   ],
   "source": [
    "set1.add('A')\n",
    "set1"
   ]
  },
  {
   "cell_type": "markdown",
   "id": "642f6d65-c2f7-4427-a3a1-ef09c7a88976",
   "metadata": {},
   "source": [
    "remove() / pop() 함수: 셋의 지정된 원소 / 임의의 원소 제거"
   ]
  },
  {
   "cell_type": "code",
   "execution_count": 17,
   "id": "4a354f4c-c71e-441a-a3d5-2ecc61fbe50c",
   "metadata": {},
   "outputs": [
    {
     "data": {
      "text/plain": [
       "{'A', 'B', 'C', 'D', 'E', 'F'}"
      ]
     },
     "execution_count": 17,
     "metadata": {},
     "output_type": "execute_result"
    }
   ],
   "source": [
    "set1.remove('a')\n",
    "set1"
   ]
  },
  {
   "cell_type": "code",
   "execution_count": 18,
   "id": "a92596fc-b931-46fa-aa19-82bdfe51e65b",
   "metadata": {},
   "outputs": [
    {
     "data": {
      "text/plain": [
       "{'A', 'B', 'C', 'D', 'F'}"
      ]
     },
     "execution_count": 18,
     "metadata": {},
     "output_type": "execute_result"
    }
   ],
   "source": [
    "set1.pop()   # set은 순서가 없는 자료형이라 임의의 요소가 pop 된다\n",
    "set1"
   ]
  }
 ],
 "metadata": {
  "kernelspec": {
   "display_name": "Python 3",
   "language": "python",
   "name": "python3"
  },
  "language_info": {
   "codemirror_mode": {
    "name": "ipython",
    "version": 3
   },
   "file_extension": ".py",
   "mimetype": "text/x-python",
   "name": "python",
   "nbconvert_exporter": "python",
   "pygments_lexer": "ipython3",
   "version": "3.8.8"
  }
 },
 "nbformat": 4,
 "nbformat_minor": 5
}
