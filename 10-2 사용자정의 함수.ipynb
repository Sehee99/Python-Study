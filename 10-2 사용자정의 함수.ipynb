{
 "cells": [
  {
   "cell_type": "markdown",
   "id": "07e5b579-62bf-453d-b7da-230e4b8168a8",
   "metadata": {},
   "source": [
    "### 매개변수 X, 반환값 X"
   ]
  },
  {
   "cell_type": "code",
   "execution_count": 1,
   "id": "6a1e0837-3e01-47bc-8985-5f7814d1cd76",
   "metadata": {},
   "outputs": [],
   "source": [
    "def add1():\n",
    "    print('더하기 함수입니다.')"
   ]
  },
  {
   "cell_type": "code",
   "execution_count": 2,
   "id": "c037abe1-df8f-4931-bc91-5dccb9ff1f7b",
   "metadata": {},
   "outputs": [
    {
     "name": "stdout",
     "output_type": "stream",
     "text": [
      "더하기 함수입니다.\n"
     ]
    }
   ],
   "source": [
    "add1()"
   ]
  },
  {
   "cell_type": "markdown",
   "id": "93cc8867-f9c9-489d-91c6-12a6f549fca7",
   "metadata": {},
   "source": [
    "### 매개변수 O, 반환값 X"
   ]
  },
  {
   "cell_type": "code",
   "execution_count": 3,
   "id": "ddb10fe0-9f4a-4ac6-98eb-e9b5da987d7b",
   "metadata": {},
   "outputs": [],
   "source": [
    "def add2(x,y):\n",
    "    print(x+y)"
   ]
  },
  {
   "cell_type": "code",
   "execution_count": 4,
   "id": "e11a6ac3-1ce6-48a8-8f29-b6730b7ff8ec",
   "metadata": {},
   "outputs": [
    {
     "name": "stdout",
     "output_type": "stream",
     "text": [
      "3\n"
     ]
    }
   ],
   "source": [
    "add2(1,2)"
   ]
  },
  {
   "cell_type": "markdown",
   "id": "a2c4434d-4f26-4010-a256-cd6c593e04a0",
   "metadata": {},
   "source": [
    "### 매개변수 X, 반환값 O"
   ]
  },
  {
   "cell_type": "code",
   "execution_count": 5,
   "id": "0129474d-6461-4255-8103-2fc2798276b8",
   "metadata": {},
   "outputs": [],
   "source": [
    "def add3():\n",
    "    x,y=2,4\n",
    "    return x+y"
   ]
  },
  {
   "cell_type": "code",
   "execution_count": 6,
   "id": "b21e9606-e6d6-4ecf-aed7-48cfb36372f5",
   "metadata": {},
   "outputs": [
    {
     "name": "stdout",
     "output_type": "stream",
     "text": [
      "6\n"
     ]
    }
   ],
   "source": [
    "re_val=add3()\n",
    "print(re_val)"
   ]
  },
  {
   "cell_type": "markdown",
   "id": "22ca2e7c-ace4-4aab-8c48-2ffb1c7f0073",
   "metadata": {},
   "source": [
    "### 매개변수 O, 반환값 O"
   ]
  },
  {
   "cell_type": "code",
   "execution_count": 8,
   "id": "63a3481c-5b94-4ecd-b54d-d05f4c0fd95c",
   "metadata": {},
   "outputs": [],
   "source": [
    "def add4(x,y):\n",
    "    return x+y"
   ]
  },
  {
   "cell_type": "code",
   "execution_count": 11,
   "id": "e974d83a-83cc-4ad8-9f57-72f0a6f6171a",
   "metadata": {},
   "outputs": [
    {
     "name": "stdout",
     "output_type": "stream",
     "text": [
      "5\n"
     ]
    }
   ],
   "source": [
    "re_val=add4(2,3)\n",
    "print(re_val)"
   ]
  },
  {
   "cell_type": "markdown",
   "id": "0cc10fc6-9e63-42bb-b4f7-c714f1bfeb55",
   "metadata": {},
   "source": [
    "---"
   ]
  },
  {
   "cell_type": "markdown",
   "id": "0a2a342e-4b94-4899-81e6-95400dd7c8f0",
   "metadata": {},
   "source": [
    "### 다중 반환값"
   ]
  },
  {
   "cell_type": "code",
   "execution_count": 12,
   "id": "20770053-489a-4b72-97eb-b168a49521e0",
   "metadata": {},
   "outputs": [],
   "source": [
    "def square(x,y):\n",
    "    x=x**2\n",
    "    y=y**2\n",
    "    return x,y"
   ]
  },
  {
   "cell_type": "code",
   "execution_count": 13,
   "id": "b14936ff-b13e-4eb0-8b96-907e4ac9c3ff",
   "metadata": {},
   "outputs": [
    {
     "name": "stdout",
     "output_type": "stream",
     "text": [
      "4\n",
      "9\n"
     ]
    }
   ],
   "source": [
    "a,b=square(2,3)\n",
    "print(a)\n",
    "print(b)"
   ]
  }
 ],
 "metadata": {
  "kernelspec": {
   "display_name": "Python 3",
   "language": "python",
   "name": "python3"
  },
  "language_info": {
   "codemirror_mode": {
    "name": "ipython",
    "version": 3
   },
   "file_extension": ".py",
   "mimetype": "text/x-python",
   "name": "python",
   "nbconvert_exporter": "python",
   "pygments_lexer": "ipython3",
   "version": "3.8.8"
  }
 },
 "nbformat": 4,
 "nbformat_minor": 5
}
