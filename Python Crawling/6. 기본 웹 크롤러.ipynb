{
 "cells": [
  {
   "cell_type": "markdown",
   "id": "ffc7f627-7b47-46f9-a944-db4abbe203ad",
   "metadata": {},
   "source": [
    "### 목록 페이지에서 퍼머 링크 목록 추출"
   ]
  },
  {
   "cell_type": "code",
   "execution_count": 3,
   "id": "0ba12152-d626-48c8-b67e-6ed486b56541",
   "metadata": {},
   "outputs": [],
   "source": [
    "import requests\n",
    "import lxml.html"
   ]
  },
  {
   "cell_type": "code",
   "execution_count": 4,
   "id": "5ac5ac14-f581-4d52-bf51-67b7c2458269",
   "metadata": {},
   "outputs": [
    {
     "name": "stdout",
     "output_type": "stream",
     "text": [
      "/store/books/look.php?p_code=B9923613168\n",
      "javascript:;\n",
      "/store/books/look.php?p_code=B9923613168\n",
      "/store/books/look.php?p_code=B9037188841\n",
      "/store/books/look.php?p_code=B9037188841\n",
      "/store/books/look.php?p_code=B8955111301\n",
      "javascript:;\n",
      "/store/books/look.php?p_code=B8955111301\n",
      "/store/books/look.php?p_code=B6758255857\n",
      "javascript:;\n",
      "/store/books/look.php?p_code=B6758255857\n",
      "/store/books/look.php?p_code=B9737048306\n",
      "/store/books/look.php?p_code=B9737048306\n",
      "/store/books/look.php?p_code=B9009516784\n",
      "/store/books/look.php?p_code=B9009516784\n",
      "/store/books/look.php?p_code=B7533828722\n",
      "/store/books/look.php?p_code=B7533828722\n",
      "/store/books/look.php?p_code=B1833400260\n",
      "/store/books/look.php?p_code=B1833400260\n",
      "/store/books/look.php?p_code=B7970422863\n",
      "javascript:;\n",
      "/store/books/look.php?p_code=B7970422863\n",
      "/store/books/look.php?p_code=B6993093151\n",
      "/store/books/look.php?p_code=B6993093151\n",
      "/store/books/look.php?p_code=B8128498093\n",
      "javascript:;\n",
      "/store/books/look.php?p_code=B8128498093\n",
      "/store/books/look.php?p_code=B7030127165\n",
      "javascript:;\n",
      "/store/books/look.php?p_code=B7030127165\n",
      "/store/books/look.php?p_code=B9949658683\n",
      "/store/books/look.php?p_code=B9949658683\n",
      "/store/books/look.php?p_code=B7628794939\n",
      "javascript:;\n",
      "/store/books/look.php?p_code=B7628794939\n",
      "/store/books/look.php?p_code=B7123382765\n",
      "/store/books/look.php?p_code=B7123382765\n",
      "/store/books/look.php?p_code=B9783423109\n",
      "javascript:;\n",
      "/store/books/look.php?p_code=B9783423109\n",
      "/store/books/look.php?p_code=B1598189984\n",
      "javascript:;\n",
      "/store/books/look.php?p_code=B1598189984\n",
      "/store/books/look.php?p_code=B2354289186\n",
      "javascript:;\n",
      "/store/books/look.php?p_code=B2354289186\n",
      "/store/books/look.php?p_code=B9934227624\n",
      "javascript:;\n",
      "/store/books/look.php?p_code=B9934227624\n",
      "/store/books/look.php?p_code=B3464803426\n",
      "/store/books/look.php?p_code=B3464803426\n"
     ]
    }
   ],
   "source": [
    "response = requests.get('http://www.hanbit.co.kr/store/books/new_book_list.html')\n",
    "root = lxml.html.fromstring(response.content)\n",
    "for a in root.cssselect('.view_box a'):\n",
    "    url = a.get('href')\n",
    "    print(url)"
   ]
  },
  {
   "cell_type": "markdown",
   "id": "239bae4a-7682-44f8-9a42-320574890dbc",
   "metadata": {},
   "source": [
    "---"
   ]
  },
  {
   "cell_type": "code",
   "execution_count": 5,
   "id": "9bfa6e39-ab26-4b18-8480-2136970df7d0",
   "metadata": {},
   "outputs": [],
   "source": [
    "response = requests.get('http://www.hanbit.co.kr/store/books/new_book_list.html')\n",
    "root = lxml.html.fromstring(response.content)"
   ]
  },
  {
   "cell_type": "code",
   "execution_count": 6,
   "id": "47fa784d-a957-4511-a9ae-2da3b8287255",
   "metadata": {},
   "outputs": [
    {
     "name": "stdout",
     "output_type": "stream",
     "text": [
      "https://www.hanbit.co.kr/store/books/look.php?p_code=B9923613168\n",
      "https://www.hanbit.co.kr/store/books/look.php?p_code=B9037188841\n",
      "https://www.hanbit.co.kr/store/books/look.php?p_code=B8955111301\n",
      "https://www.hanbit.co.kr/store/books/look.php?p_code=B6758255857\n",
      "https://www.hanbit.co.kr/store/books/look.php?p_code=B9737048306\n",
      "https://www.hanbit.co.kr/store/books/look.php?p_code=B9009516784\n",
      "https://www.hanbit.co.kr/store/books/look.php?p_code=B7533828722\n",
      "https://www.hanbit.co.kr/store/books/look.php?p_code=B1833400260\n",
      "https://www.hanbit.co.kr/store/books/look.php?p_code=B7970422863\n",
      "https://www.hanbit.co.kr/store/books/look.php?p_code=B6993093151\n",
      "https://www.hanbit.co.kr/store/books/look.php?p_code=B8128498093\n",
      "https://www.hanbit.co.kr/store/books/look.php?p_code=B7030127165\n",
      "https://www.hanbit.co.kr/store/books/look.php?p_code=B9949658683\n",
      "https://www.hanbit.co.kr/store/books/look.php?p_code=B7628794939\n",
      "https://www.hanbit.co.kr/store/books/look.php?p_code=B7123382765\n",
      "https://www.hanbit.co.kr/store/books/look.php?p_code=B9783423109\n",
      "https://www.hanbit.co.kr/store/books/look.php?p_code=B1598189984\n",
      "https://www.hanbit.co.kr/store/books/look.php?p_code=B2354289186\n",
      "https://www.hanbit.co.kr/store/books/look.php?p_code=B9934227624\n",
      "https://www.hanbit.co.kr/store/books/look.php?p_code=B3464803426\n"
     ]
    }
   ],
   "source": [
    "# 모든 링크를 절대 URL로 변환\n",
    "root.make_links_absolute(response.url)\n",
    "\n",
    "# 목록에서 javascript 제거\n",
    "for a in root.cssselect('.view_box .book_tit a'):\n",
    "    url = a.get('href')\n",
    "    print(url)"
   ]
  },
  {
   "cell_type": "markdown",
   "id": "7d3cdbb8-67fb-4760-af75-003f4893a3a2",
   "metadata": {},
   "source": [
    "---"
   ]
  },
  {
   "cell_type": "markdown",
   "id": "f54bf3aa-1092-4230-9a33-437d1ce86c98",
   "metadata": {},
   "source": [
    "* URL 목록 추출을 위한 scrape_list_page() 함수 정의"
   ]
  },
  {
   "cell_type": "markdown",
   "id": "272a410f-af50-4cae-ac61-24505752ae99",
   "metadata": {},
   "source": [
    "* scrpae_list_page() 함수의 반환값은 list처럼 반복 가능한 제너레이터로 구현(응답을 하나씩 줌)"
   ]
  },
  {
   "cell_type": "code",
   "execution_count": 8,
   "id": "941ab405-ec74-46fa-a222-fd453547fe90",
   "metadata": {},
   "outputs": [],
   "source": [
    "def main():\n",
    "    \"\"\"\n",
    "    크롤러의 메인 처리\n",
    "    \"\"\"\n",
    "    # 여러 페이지에서 크롤링을 위해 Session 사용\n",
    "    session = requests.Session()  \n",
    "    # scrape_list_page() 함수를 호출해서 제너레이터를 추출\n",
    "    response = session.get('http://www.hanbit.co.kr/store/books/new_book_list.html')\n",
    "    urls = scrape_list_page(response)\n",
    "    # 제너레이터는 list처럼 사용 가능\n",
    "    for url in urls:\n",
    "        print(url)\n",
    "        print('-'*70)"
   ]
  },
  {
   "cell_type": "code",
   "execution_count": 9,
   "id": "f1cb9bbe-822a-4133-a3d6-5ecca99ed078",
   "metadata": {},
   "outputs": [],
   "source": [
    "def scrape_list_page(response):\n",
    "    root = lxml.html.fromstring(response.content)\n",
    "    root.make_links_absolute(response.url)\n",
    "    for a in root.cssselect('.view_box .book_tit a'):\n",
    "        url = a.get('href')\n",
    "        # yield 구문으로 제너레이터의 요소 반환\n",
    "        yield url"
   ]
  },
  {
   "cell_type": "code",
   "execution_count": 10,
   "id": "2d6e6f82-355c-4c6c-bf09-45c139d8cda5",
   "metadata": {},
   "outputs": [
    {
     "name": "stdout",
     "output_type": "stream",
     "text": [
      "https://www.hanbit.co.kr/store/books/look.php?p_code=B9923613168\n",
      "----------------------------------------------------------------------\n",
      "https://www.hanbit.co.kr/store/books/look.php?p_code=B9037188841\n",
      "----------------------------------------------------------------------\n",
      "https://www.hanbit.co.kr/store/books/look.php?p_code=B8955111301\n",
      "----------------------------------------------------------------------\n",
      "https://www.hanbit.co.kr/store/books/look.php?p_code=B6758255857\n",
      "----------------------------------------------------------------------\n",
      "https://www.hanbit.co.kr/store/books/look.php?p_code=B9737048306\n",
      "----------------------------------------------------------------------\n",
      "https://www.hanbit.co.kr/store/books/look.php?p_code=B9009516784\n",
      "----------------------------------------------------------------------\n",
      "https://www.hanbit.co.kr/store/books/look.php?p_code=B7533828722\n",
      "----------------------------------------------------------------------\n",
      "https://www.hanbit.co.kr/store/books/look.php?p_code=B1833400260\n",
      "----------------------------------------------------------------------\n",
      "https://www.hanbit.co.kr/store/books/look.php?p_code=B7970422863\n",
      "----------------------------------------------------------------------\n",
      "https://www.hanbit.co.kr/store/books/look.php?p_code=B6993093151\n",
      "----------------------------------------------------------------------\n",
      "https://www.hanbit.co.kr/store/books/look.php?p_code=B8128498093\n",
      "----------------------------------------------------------------------\n",
      "https://www.hanbit.co.kr/store/books/look.php?p_code=B7030127165\n",
      "----------------------------------------------------------------------\n",
      "https://www.hanbit.co.kr/store/books/look.php?p_code=B9949658683\n",
      "----------------------------------------------------------------------\n",
      "https://www.hanbit.co.kr/store/books/look.php?p_code=B7628794939\n",
      "----------------------------------------------------------------------\n",
      "https://www.hanbit.co.kr/store/books/look.php?p_code=B7123382765\n",
      "----------------------------------------------------------------------\n",
      "https://www.hanbit.co.kr/store/books/look.php?p_code=B9783423109\n",
      "----------------------------------------------------------------------\n",
      "https://www.hanbit.co.kr/store/books/look.php?p_code=B1598189984\n",
      "----------------------------------------------------------------------\n",
      "https://www.hanbit.co.kr/store/books/look.php?p_code=B2354289186\n",
      "----------------------------------------------------------------------\n",
      "https://www.hanbit.co.kr/store/books/look.php?p_code=B9934227624\n",
      "----------------------------------------------------------------------\n",
      "https://www.hanbit.co.kr/store/books/look.php?p_code=B3464803426\n",
      "----------------------------------------------------------------------\n"
     ]
    }
   ],
   "source": [
    "if __name__ == '__main__':\n",
    "    main()"
   ]
  },
  {
   "cell_type": "markdown",
   "id": "147c12f0-f62d-4087-8ce0-77d7f233e111",
   "metadata": {},
   "source": [
    "### 상세 페이지 스크래핑"
   ]
  },
  {
   "cell_type": "code",
   "execution_count": 11,
   "id": "b3f3afaa-0546-4e6b-9d07-b971ee400b41",
   "metadata": {},
   "outputs": [],
   "source": [
    "def main():\n",
    "    # 여러 페이지에서 크롤링을 위해 Session 사용\n",
    "    session = requests.Session()  \n",
    "    # scrape_list_page() 함수를 호출해서 제너레이터를 추출\n",
    "    response = session.get('http://www.hanbit.co.kr/store/books/new_book_list.html')\n",
    "    urls = scrape_list_page(response)\n",
    "    for url in urls:\n",
    "        response = session.get(url)  # Session을 사용해 상세 페이지를 추출\n",
    "        ebook = scrape_detail_page(response)  # 상세 페이지에서 상세 정보를 추출\n",
    "        print(ebook)  # 상세 정보 출력\n",
    "        break  "
   ]
  },
  {
   "cell_type": "code",
   "execution_count": 12,
   "id": "4ea7b21a-fdf8-41e2-aed1-2f856c72b64f",
   "metadata": {},
   "outputs": [],
   "source": [
    "def scrape_list_page(response):\n",
    "    root = lxml.html.fromstring(response.content)\n",
    "    root.make_links_absolute(response.url)\n",
    "    for a in root.cssselect('.view_box .book_tit a'):\n",
    "        url = a.get('href')\n",
    "        yield url"
   ]
  },
  {
   "cell_type": "code",
   "execution_count": 13,
   "id": "bd4c779b-c0ad-4ca6-a17d-9cff77ac9099",
   "metadata": {},
   "outputs": [],
   "source": [
    "def scrape_detail_page(response):\n",
    "    \"\"\"f\n",
    "    상세 페이지의 Response에서 책 정보를 dict로 추출\n",
    "    \"\"\"\n",
    "    root = lxml.html.fromstring(response.content)\n",
    "    ebook = {\n",
    "        'url': response.url,\n",
    "        'title': root.cssselect('.store_product_info_box h3')[0].text_content(),\n",
    "        'price': root.cssselect('.pbr strong')[0].text_content(),\n",
    "        'content': [p.text_content()\\\n",
    "            for p in root.cssselect('#tabs_3 .hanbit_edit_view p')]\n",
    "    }\n",
    "    return ebook"
   ]
  },
  {
   "cell_type": "code",
   "execution_count": 14,
   "id": "4574dbc2-c5f8-4c3a-9760-ba039e2de56f",
   "metadata": {},
   "outputs": [
    {
     "name": "stdout",
     "output_type": "stream",
     "text": [
      "{'url': 'https://www.hanbit.co.kr/store/books/look.php?p_code=B9923613168', 'title': '모바일 UX/UI 디자인 강의 with Adobe XD', 'price': '23,400', 'content': ['', '\\r\\n\\t\\t\\tPART 01. 모바일 UX/UI 디자인\\r\\n', '\\xa0', '\\r\\n\\t\\t\\tCHAPTER 01. 모바일 앱 UX의 시작\\xa0\\r\\n', 'LESSON 01. 모바일 앱과 UX 디자인의 발전\\xa0', 'UX 디자인의 등장\\xa0', '화면 크기의 변화와 UX의 발전', '실무에서 말하는 모바일 UX 디자인', '\\r\\n\\t\\t\\tLESSON 02. UX 디자인을 완성하는 세 가지 요소\\r\\n', 'UX(User Experience) 이해하기', '하나. UX는 발명이 아닌 발견이다', '둘. UX는 편리함보다 익숙함을 따른다', '셋. UX는 제품이 아닌 가치를 제공한다', '\\r\\n\\t\\t\\tLESSON 03. 직관적인 UX 디자인 요소\\r\\n', 'BX(Brand Experience)', 'UI(User Interface)', 'GUI(Graphical User Interface)', '인포그래픽(Infographics)', '인터랙션(Interaction)', '\\xa0', '\\r\\n\\t\\t\\tCHAPTER 02. 모바일 UX 시나리오\\r\\n', '\\r\\n\\t\\t\\tLESSON 01. 모바일 UX 시나리오 의미와 과정\\r\\n', '모바일 UX 시나리오 과정', '\\r\\n\\t\\t\\tLESSON 02. 서비스 구분하고 제작 방향 설정하기\\r\\n', '모바일 서비스 구분하기', '네이티브 앱 (Native App)\\xa0', '모바일 웹앱 (Mobile WebApp)\\xa0', '반응형 웹앱(RWD : Responsive Web Design)\\xa0', '적응형 웹앱(AWD : Adaptive Web Design)\\xa0', '하이브리드 앱(Hybrid App)', '\\r\\n\\t\\t\\tLESSON 03. 태스크 분석을 통한 주요 UI 설계하기\\xa0\\r\\n', '태스크 분석(Task Research) 과정\\xa0', '\\r\\n\\t\\t\\tLESSON 04. 카테고리 분석을 통한 디자인 포지션 찾기\\xa0\\r\\n', '1단계. 유사 카테고리 서비스 찾아 분석하기\\xa0', '2단계. 동일 사용자층 서비스 찾아 분석하기\\xa0', '3단계. 디자인 포지션(Design Position) 확정하기\\xa0', '예시로 알아보는 디자인 포지션 과정\\xa0', '\\r\\n\\t\\t\\tLESSON 05. 디자인 리서치를 통한 디자인 방향 설정하기\\xa0\\r\\n', '무드보드(Moodboard)\\xa0', '컬러 스와치(Color Swatch)', '[디자이너의 비밀노트] 컬러 시뮬레이션 서비스 활용하기', '\\r\\n\\t\\t\\tLESSON 06. 런처 아이콘과 런치 스크린 디자인하기\\r\\n', '런처 아이콘(Launcher Icon)\\xa0', '운영체제 규격에 맞게 디자인하기\\xa0', '사용자에게 동일한 BX 아이콘 제공하기\\xa0\\xa0', 'BX가 제대로 드러나게 디자인하기\\xa0\\xa0', '모바일 웹 런처 아이콘\\xa0\\xa0', '런치 스크린(Launch Screen)\\xa0\\xa0', '시각 보정을 이용해 로고 배치하기', '다양한 기능을 담은 런치 스크린\\xa0 \\xa0', '\\r\\n\\t\\t\\tLESSON 07. 와이어 프레임 형식의 UI 구조 설계하기\\xa0\\r\\n', 'UI 구조 설계(UI Structure)\\xa0 \\xa0', '페이퍼 프로토타입(Paper Prototype)과 UI 설계하기\\xa0', '동일한 구조의 UI 설계하기\\xa0', 'UI 뎁스(Depth)와 GUI 표시하기\\xa0', '정확한 화면 이름과 파일명 표기하기', '포지티브 와이어(Positive Wire)와 네거티브 와이어(Negative Wire) 표시하기', '\\xa0', '\\r\\n\\t\\t\\tCHAPTER 03. 모바일 해상도 및 제작 방법\\xa0\\r\\n', '\\r\\n\\t\\t\\tLESSON 01. 모바일 해상도와 72dpi 이해하기\\xa0\\r\\n', '모바일 해상도\\xa0', '72dpi\\xa0', '72dpi의 표현 해상도\\xa0', '\\r\\n\\t\\t\\tLESSON 02. Android의 DP 해상도 및 제작 방법\\xa0\\r\\n', 'Android DP 해상도 이해하기\\xa0', 'Android DP에 따른 표현 방식 알아보기\\xa0', 'Android DP에 따른 이미지 제작 방식 알아보기', '\\r\\n\\t\\t\\tLESSON 03. iOS의 Point 해상도와 제작 방법\\xa0\\xa0\\r\\n', 'iOS Point 해상도 이해하기\\xa0', 'iOS Point에 따른 이미지 제작 방식 알아보기\\xa0', '[디자이너의 비밀노트] 모바일 운영체제 디자인 가이드', '\\r\\n\\t\\t\\tLESSON 04. 모바일 웹과 Viewport 적용하기\\xa0\\xa0\\r\\n', 'Viewport\\xa0 \\xa0', 'Viewport를 적용한 모바일 뷰어 사용하기\\xa0\\xa0', 'Viewport에 따른 모바일 웹 이미지 제작 방식 알아보기\\xa0', '\\xa0', '\\r\\n\\t\\t\\tCHAPTER 04. 모바일 앱 GUI 디자인 및 레이아웃\\xa0\\r\\n', '\\r\\n\\t\\t\\tLESSON 01. 모바일 앱 GUI 디자인\\xa0\\xa0\\r\\n', '태스크 분석을 통한 GUI 디자인\\xa0\\xa0', '탭(Tap) GUI 구조\\xa0', '플로팅(Floating) GUI 구조\\xa0', '갤러리(Gallery) GUI 구조\\xa0\\xa0', '숨김 메뉴 GUI 구조\\xa0', '순차적 GUI 구조\\xa0 \\xa0', 'LESSON 02. UI-Kit 활용하기\\xa0\\xa0', 'XD에서 UI-Kit 다운로드하기\\xa0\\xa0', '앱 아이콘 다운로드하기\\xa0\\xa0', '폰트 다운로드하기\\xa0\\xa0', '\\r\\n\\t\\t\\tLESSON 03. Android 앱 주요 가이드라인\\xa0 \\xa0\\xa0\\r\\n', 'Android 앱 가이드라인\\xa0\\xa0', '툴 바의 버튼과 가장자리의 마진\\xa0\\xa0', '콘텐츠와 콘텐츠 사이 마진\\xa0 \\xa0', '전체 화면 마진\\xa0\\xa0', '상태 바와 아이콘\\xa0 \\xa0', '오른쪽 끝 마진\\xa0 \\xa0', '버튼의 터치 영역\\xa0\\xa0', '툴 바, 플로팅 버튼, 오버레이 마진\\xa0', '리스트 목록\\xa0', '\\r\\n\\t\\t\\tLESSON 04. iOS 앱 주요 가이드라인\\xa0\\r\\n', 'iOS 앱 디자인 전 체크 사항\\xa0', 'iOS 앱 주요 가이드라인\\xa0', '상태 바\\xa0', '내비게이션 바', '큰 타이틀 바\\xa0', '마진\\xa0', '탭 바\\xa0\\xa0', '홈 표시', '내부 디자인 아이콘의 터치 영역\\xa0', '\\r\\n\\t\\t\\tLESSON 05. 나인패치와 스트레칭 이미지\\xa0\\r\\n', '나인패치(Draw9patch)\\xa0', 'Android에 맞는 나인패치 제작\\xa0', 'iOS 스트레칭 이미지 제작\\xa0', '\\xa0', '\\r\\n\\t\\t\\tCHAPTER 05. 모바일 앱 디자인에 필요한 XD 핵심 기능 익히기\\xa0\\r\\n', '\\r\\n\\t\\t\\tLESSON 01. 아트보드 편집하고 저장하기\\xa0\\r\\n', '아트보드 편집하기\\xa0 \\xa0', '아트보드 크기 변경하기\\xa0', '데스크톱 화면 미리 보기\\xa0 \\xa0', '문서 설정하기\\xa0\\xa0', '문서 저장하고 열기\\xa0 \\xa0\\xa0', '외부 디자인 파일 열기(PSD, AI, Sketch)\\xa0\\xa0', '[디자이너의 비밀노트] XD 주요 단축키\\xa0\\xa0', '\\r\\n\\t\\t\\tLESSON 02. 기본 도구 활용하기\\xa0 \\xa0\\r\\n', '기본 도형 만들기', '속성 관리자에서 도형 변형하기\\xa0', '펜과 선을 이용해 드로잉하기\\xa0', '텍스트 입력하고 편집하기\\xa0', '텍스트 찾기\\xa0', '오브젝트 정렬과 결합\\xa0', '\\r\\n\\t\\t\\tLESSON 03. 외부 파일 불러오고 편집하기\\xa0\\xa0\\r\\n', '일러스트레이터(AI) 파일 불러오기\\xa0', '비트맵 파일 불러오기\\xa0', '\\r\\n\\t\\t\\tLESSON 04. XD 핵심 기능 익히기\\xa0\\xa0\\r\\n', '플러그인 활용하기\\xa0', 'UI-Kit 활용하기\\xa0', '문서 에셋 활용하기\\xa0', '구성 요소 등록하고 활용하기\\xa0', '문자 스타일 등록하고 활용하기', '색상 스타일 등록하고 편집하기\\xa0', '구성 요소 내부 인스턴스(Instance) 활용하기\\xa0', '반복 그리드', '반응형 크기 조정\\xa0', '아트보드 안내선과 그리드 시스템\\xa0', '[디자이너의 비밀노트] 앱 디자인 색상 사용 시 주의사항', '\\r\\n\\t\\t\\t\\r\\n', '\\xa0', '\\r\\n\\t\\t\\tPART 02. 모바일 UX/UI 디자인 프로젝트\\r\\n', '\\xa0', '\\r\\n\\t\\t\\tPROJECT 01. 젬픽 모바일 앱 로그인, 회원 가입 페이지 디자인_iOS\\xa0\\r\\n', '\\r\\n\\t\\t\\tSTEP 01. 로그인 및 회원 가입 디자인 준비하기\\xa0\\r\\n', '새 아트보드 만들어 기본 레이아웃 안내선 적용하기\\xa0 \\xa0', '로고, 아이콘, 색상을 문서 에셋에 등록하기\\xa0 \\xa0', '\\r\\n\\t\\t\\tSTEP 02. 로그인 페이지 디자인하기\\xa0 \\xa0\\r\\n', 'login_01 페이지에 로고, 이메일, 비밀번호, 로그인 버튼 제작하기\\xa0', 'SNS 로그인 버튼과 회원 가입 버튼 만들기\\xa0', 'login_02 페이지 디자인하기\\xa0', '아이콘을 문서 에셋에 등록하기', '\\r\\n\\t\\t\\tSTEP 03. 회원 가입 페이지 디자인하기\\xa0\\r\\n', 'signup_01 페이지 디자인하기\\xa0', 'signup_02 페이지 디자인하기', '\\r\\n\\t\\t\\tSTEP 04. 자연스러운 효과의 프로토타입 제작하기\\xa0\\r\\n', '런치 스크린에서 로그인과 회원 가입 연결하기\\xa0', 'Skip, SNS 로그인, CREATE 버튼과 메인 화면 연결하기\\xa0', '\\xa0', '\\xa0', '\\r\\n\\t\\t\\tPROJECT 02. 스크롤 기능을 이용한 메인 페이지 디자인_Android\\r\\n', '\\xa0', '\\r\\n\\t\\t\\tSTEP 01. 메인 페이지 UI 디자인 준비하기\\xa0\\xa0\\r\\n', '새 아트보드 만들어 기본 레이아웃 안내선 적용하기\\xa0\\xa0', '아이콘, 색상을 문서 에셋에 등록하기\\xa0\\xa0', '\\r\\n\\t\\t\\tSTEP 02. 상단 툴 바와 하단 메뉴 탭 바 디자인하기\\xa0\\xa0\\r\\n', 'main_01 페이지의 상단 툴 바 디자인하기\\xa0\\xa0', '내부 인스턴스를 활용해 하단 메뉴 탭 바 디자인하기\\xa0\\xa0', '메인 아이콘의 구성 요소를 활용해 내부 인스턴스 추가하기\\xa0\\xa0', '\\r\\n\\t\\t\\tSTEP 03. 인터랙션 기능으로 숨김 메뉴 만들기\\xa0\\xa0\\r\\n', '숨김 메뉴 구성 요소로 내부 인스턴스 추가하기\\xa0\\xa0', '인터랙션 숨김 메뉴의 프로토타입 만들기\\xa0\\xa0', '\\r\\n\\t\\t\\tSTEP 04. 뉴스 피드형 콘텐츠 디자인하기\\xa0 \\xa0\\r\\n', '섬네일을 이용한 사용자 리스트 제작하기\\xa0 \\xa0', '사진 크기 조절하고 뉴스 피드 콘텐츠 디자인하기\\xa0 \\xa0', '이미지 컨트롤 아이콘 디자인하기\\xa0\\xa0', '스크롤 기능의 메인 페이지 디자인하기\\xa0', '\\r\\n\\t\\t\\tSTEP 05. 오버레이 팝업 페이지의 프로토타입 제작하기\\xa0 \\xa0\\xa0\\r\\n', '팝업 페이지 제작하기\\xa0', '오버레이 효과의 프로토타입 제작하기\\xa0', '\\xa0', '\\xa0', '\\r\\n\\t\\t\\tPROJECT 03. 슬라이드 효과의 메인 페이지 디자인_iOS\\r\\n', '\\xa0', '\\r\\n\\t\\t\\tSTEP 01. 메인 페이지 디자인하기\\r\\n', '새 아트보드 만들어 기본 레이아웃 안내선 적용하기', '아이콘, 색상을 문서 에셋에 등록하기\\xa0', '\\r\\n\\t\\t\\tSTEP 02. 상단 툴 바와 하단 메뉴 탭 바 디자인하기\\r\\n', 'main_01 페이지의 상단 내비게이션 영역 디자인하기', '내부 인스턴스를 활용해 하단 메뉴 탭 바 디자인하기\\xa0', '메인 버튼 구성 요소로 내부 인스턴스 추가하기\\xa0', '\\r\\n\\t\\t\\tSTEP 03. 슬라이드 페이지의 콘텐츠 구성하기\\xa0\\r\\n', '슬라이드 페이지에 콘텐츠 배치하기\\xa0', '카테고리 버튼 아이콘 배치하기', '카테고리 버튼 구성 요소로 내부 인스턴스 추가하기\\xa0', '\\r\\n\\t\\t\\tSTEP 04. 슬라이드 효과의 프로토타입 제작하기\\xa0\\r\\n', '아트보드 복사하여 각 화면 구성하기\\xa0', '슬라이드(스냅) 효과의 인터랙션 적용하기\\xa0', '\\r\\n\\t\\t\\tSTEP 05. 자동 스크롤 효과의 프로토타입 제작하기\\xa0\\r\\n', 'sub_01 상세 페이지 제작하기\\xa0', '자동 스크롤 효과의 프로토타입 제작하기', '\\xa0', '\\xa0', '\\r\\n\\t\\t\\tPROJECT 04. 시작 애니메이션 효과의 메인 페이지 디자인_Android\\xa0\\r\\n', '\\xa0', '\\r\\n\\t\\t\\tSTEP 01. 시작 애니메이션 디자인 준비하기\\xa0\\xa0\\r\\n', '새 아트보드 만들어 기본 레이아웃 안내선 적용하기\\xa0\\xa0', '아이콘, 색상을 문서 에셋에 등록하기\\xa0', '\\r\\n\\t\\t\\tSTEP 02. 상단 툴 바와 메인 메뉴 디자인하기\\xa0\\xa0\\r\\n', 'main_start 페이지의 상단 툴 바 디자인하기\\xa0\\xa0', '내부 인스턴스를 활용한 메인 메뉴 디자인하기\\xa0\\xa0', '\\r\\n\\t\\t\\tSTEP 03. 내부 아이콘 및 슬라이드 버튼 디자인하기\\xa0\\r\\n', '내부 아이콘 만들기\\xa0', '원형 그래프 만들기\\xa0\\xa0', '데이터 수치 입력하기\\xa0', '정보 표시 입력하기\\xa0', '슬라이드 버튼 디자인하기\\xa0 \\xa0', '\\r\\n\\t\\t\\tSTEP 04. 시작 애니메이션과 슬라이드 효과의 프로토타입 제작하기\\xa0\\xa0\\r\\n', 'main_01 아트보드 페이지 디자인하기\\xa0', '메인 아트보드에 시작 애니메이션 연결하기\\xa0\\xa0', '슬라이드 버튼 인터랙션 제작하기\\xa0 \\xa0\\xa0', '\\r\\n\\t\\t\\tSTEP 05. 숨김 메뉴 디자인하고 프로토타입 제작하기\\xa0 \\xa0\\r\\n', '메뉴 배경과 섬네일 디자인하기\\xa0 \\xa0\\xa0', '메뉴 아이콘과 리스트 디자인하기\\xa0\\xa0', '메뉴 슬라이드 효과의 프로토타입 제작하기\\xa0\\xa0', '[디자이너의 비밀노트] 앱 UI 디자인의 메뉴(Menu)', '\\xa0', '\\xa0', '\\r\\n\\t\\t\\tPROJECT 05. 그리드 시스템을 이용한 반응형 UI 디자인_web\\r\\n', '\\xa0', '\\r\\n\\t\\t\\tSTEP 01. 메인 페이지 UI 디자인 준비하기\\xa0\\r\\n', '새 아트보드 만들기\\xa0 \\xa0', '그리드 시스템 적용하기\\xa0\\xa0', '\\r\\n\\t\\t\\tSTEP 02. 반응형 UI 툴 바와 메뉴 디자인하기\\xa0\\xa0\\r\\n', '숨김 메뉴 구성 요소로 내부 인스턴스 추가하기(mobile_UI)\\xa0\\xa0', '주요 메뉴에 마우스 오버 상태 추가하기\\xa0\\xa0', '구성 요소 인터랙션을 이용해 모바일 메뉴 디자인하기\\xa0\\xa0', '인터랙션 숨김 메뉴의 프로토타입 만들기\\xa0\\xa0', '메뉴 구성 요소로 펼침 메뉴 만들기(tablet_UI)\\xa0\\xa0', '메뉴 구성 요소로 메인 툴 바 만들기(web_UI)\\xa0 \\xa0', '\\r\\n\\t\\t\\tSTEP 03. 반응형 UI 내부 콘텐츠 디자인하기\\xa0\\xa0\\r\\n', '내부 콘텐츠 디자인하기(mobile_UI)\\xa0 \\xa0', '내부 콘텐츠 디자인하기(tablet_UI)\\xa0 \\xa0\\xa0', '내부 콘텐츠 디자인하기(web_UI)\\xa0\\xa0', '\\xa0', '\\xa0', '\\r\\n\\t\\t\\tPROJECT 06. 공유 기능을 이용한 개발자 협업\\xa0\\r\\n', '\\xa0', '\\r\\n\\t\\t\\tSTEP 01. XD 공유 기능 활용하기\\xa0\\r\\n', '공유 링크 만들기\\xa0\\xa0', '공유 링크 업데이트하고 관리하기\\xa0\\xa0', '공유 페이지 관리하기\\xa0 \\xa0', '댓글을 이용해 의견 나누기\\xa0 \\xa0', '\\r\\n\\t\\t\\tSTEP 02. 프로젝트 공유하고 실무에 활용하기\\xa0 \\xa0\\r\\n', '운영체제별 프로젝트 공유하기\\xa0 \\xa0\\xa0', '에셋, 색상, 문자 스타일 확인하기\\xa0 \\xa0', '디자인 가이드, 인터랙션 확인하기\\xa0\\xa0', '웹사이트 제작에 필요한 변수 CSS 다운로드\\xa0\\xa0', '[디자이너의 비밀노트] 제플린을 활용해 프로젝트 공유하기\\xa0\\xa0', '\\xa0', 'INDEX']}\n"
     ]
    }
   ],
   "source": [
    "if __name__ == '__main__':\n",
    "    main()"
   ]
  },
  {
   "cell_type": "markdown",
   "id": "c8a03eca-de74-49ba-91f8-a78059a6f9ad",
   "metadata": {},
   "source": [
    "---"
   ]
  },
  {
   "cell_type": "markdown",
   "id": "8ca9c6ea-da9c-4be6-9686-d6b716a47c37",
   "metadata": {},
   "source": [
    "* 목차에 포함돼 있는 공백을 제거할 수 있는 normalize_space() 함수 정의"
   ]
  },
  {
   "cell_type": "markdown",
   "id": "01a3898d-931f-4fb3-86fb-215d930aa781",
   "metadata": {},
   "source": [
    "* List Comprehension 구문에 조건을 추가해서 빈 문자열 제거"
   ]
  },
  {
   "cell_type": "code",
   "execution_count": 15,
   "id": "202b91d7-d280-4a5d-9561-a5fcb82a749f",
   "metadata": {},
   "outputs": [],
   "source": [
    "import re"
   ]
  },
  {
   "cell_type": "code",
   "execution_count": 16,
   "id": "25db7a15-f1d8-46b5-983d-ddbc1b6eb213",
   "metadata": {},
   "outputs": [],
   "source": [
    "def main():\n",
    "    # 여러 페이지에서 크롤링을 위해 Session 사용\n",
    "    session = requests.Session()  \n",
    "    # scrape_list_page() 함수를 호출해서 제너레이터를 추출\n",
    "    response = session.get('http://www.hanbit.co.kr/store/books/new_book_list.html')\n",
    "    urls = scrape_list_page(response)\n",
    "    for url in urls:\n",
    "        response = session.get(url)  # Session을 사용해 상세 페이지를 추출\n",
    "        ebook = scrape_detail_page(response)  # 상세 페이지에서 상세 정보를 추출\n",
    "        print(ebook)  # 상세 정보 출력\n",
    "        break  "
   ]
  },
  {
   "cell_type": "code",
   "execution_count": 17,
   "id": "f0a95679-8770-4c06-89d4-8952d97ea005",
   "metadata": {},
   "outputs": [],
   "source": [
    "def scrape_list_page(response):\n",
    "    root = lxml.html.fromstring(response.content)\n",
    "    root.make_links_absolute(response.url)\n",
    "    for a in root.cssselect('.view_box .book_tit a'):\n",
    "        url = a.get('href')\n",
    "        yield url"
   ]
  },
  {
   "cell_type": "code",
   "execution_count": 18,
   "id": "51daf075-98fc-4f99-8c2d-76e25aac703d",
   "metadata": {},
   "outputs": [],
   "source": [
    "def scrape_detail_page(response):\n",
    "    \"\"\"\n",
    "    상세 페이지의 Response에서 책 정보를 dict로 추출\n",
    "    \"\"\"\n",
    "    root = lxml.html.fromstring(response.content)\n",
    "    ebook = {\n",
    "        'url': response.url,\n",
    "        'title': root.cssselect('.store_product_info_box h3')[0].text_content(),\n",
    "        'price': root.cssselect('.pbr strong')[0].text_content(),\n",
    "        'content': [normalize_spaces(p.text_content())\n",
    "            for p in root.cssselect('#tabs_3 .hanbit_edit_view p')\n",
    "            if normalize_spaces(p.text_content()) != '']\n",
    "    }\n",
    "    return ebook"
   ]
  },
  {
   "cell_type": "code",
   "execution_count": 19,
   "id": "580cd47d-3594-4398-9f80-f34453c5bc99",
   "metadata": {},
   "outputs": [],
   "source": [
    "def normalize_spaces(s):\n",
    "    \"\"\"\n",
    "    연결된 공백을 하나의 공백으로 변경\n",
    "    \"\"\"\n",
    "    return re.sub(r'\\s+', ' ', s).strip()"
   ]
  },
  {
   "cell_type": "code",
   "execution_count": 21,
   "id": "a1af53ff-a261-47a6-a282-c2bd9971ebc7",
   "metadata": {},
   "outputs": [
    {
     "name": "stdout",
     "output_type": "stream",
     "text": [
      "{'url': 'https://www.hanbit.co.kr/store/books/look.php?p_code=B9923613168', 'title': '모바일 UX/UI 디자인 강의 with Adobe XD', 'price': '23,400', 'content': ['PART 01. 모바일 UX/UI 디자인', 'CHAPTER 01. 모바일 앱 UX의 시작', 'LESSON 01. 모바일 앱과 UX 디자인의 발전', 'UX 디자인의 등장', '화면 크기의 변화와 UX의 발전', '실무에서 말하는 모바일 UX 디자인', 'LESSON 02. UX 디자인을 완성하는 세 가지 요소', 'UX(User Experience) 이해하기', '하나. UX는 발명이 아닌 발견이다', '둘. UX는 편리함보다 익숙함을 따른다', '셋. UX는 제품이 아닌 가치를 제공한다', 'LESSON 03. 직관적인 UX 디자인 요소', 'BX(Brand Experience)', 'UI(User Interface)', 'GUI(Graphical User Interface)', '인포그래픽(Infographics)', '인터랙션(Interaction)', 'CHAPTER 02. 모바일 UX 시나리오', 'LESSON 01. 모바일 UX 시나리오 의미와 과정', '모바일 UX 시나리오 과정', 'LESSON 02. 서비스 구분하고 제작 방향 설정하기', '모바일 서비스 구분하기', '네이티브 앱 (Native App)', '모바일 웹앱 (Mobile WebApp)', '반응형 웹앱(RWD : Responsive Web Design)', '적응형 웹앱(AWD : Adaptive Web Design)', '하이브리드 앱(Hybrid App)', 'LESSON 03. 태스크 분석을 통한 주요 UI 설계하기', '태스크 분석(Task Research) 과정', 'LESSON 04. 카테고리 분석을 통한 디자인 포지션 찾기', '1단계. 유사 카테고리 서비스 찾아 분석하기', '2단계. 동일 사용자층 서비스 찾아 분석하기', '3단계. 디자인 포지션(Design Position) 확정하기', '예시로 알아보는 디자인 포지션 과정', 'LESSON 05. 디자인 리서치를 통한 디자인 방향 설정하기', '무드보드(Moodboard)', '컬러 스와치(Color Swatch)', '[디자이너의 비밀노트] 컬러 시뮬레이션 서비스 활용하기', 'LESSON 06. 런처 아이콘과 런치 스크린 디자인하기', '런처 아이콘(Launcher Icon)', '운영체제 규격에 맞게 디자인하기', '사용자에게 동일한 BX 아이콘 제공하기', 'BX가 제대로 드러나게 디자인하기', '모바일 웹 런처 아이콘', '런치 스크린(Launch Screen)', '시각 보정을 이용해 로고 배치하기', '다양한 기능을 담은 런치 스크린', 'LESSON 07. 와이어 프레임 형식의 UI 구조 설계하기', 'UI 구조 설계(UI Structure)', '페이퍼 프로토타입(Paper Prototype)과 UI 설계하기', '동일한 구조의 UI 설계하기', 'UI 뎁스(Depth)와 GUI 표시하기', '정확한 화면 이름과 파일명 표기하기', '포지티브 와이어(Positive Wire)와 네거티브 와이어(Negative Wire) 표시하기', 'CHAPTER 03. 모바일 해상도 및 제작 방법', 'LESSON 01. 모바일 해상도와 72dpi 이해하기', '모바일 해상도', '72dpi', '72dpi의 표현 해상도', 'LESSON 02. Android의 DP 해상도 및 제작 방법', 'Android DP 해상도 이해하기', 'Android DP에 따른 표현 방식 알아보기', 'Android DP에 따른 이미지 제작 방식 알아보기', 'LESSON 03. iOS의 Point 해상도와 제작 방법', 'iOS Point 해상도 이해하기', 'iOS Point에 따른 이미지 제작 방식 알아보기', '[디자이너의 비밀노트] 모바일 운영체제 디자인 가이드', 'LESSON 04. 모바일 웹과 Viewport 적용하기', 'Viewport', 'Viewport를 적용한 모바일 뷰어 사용하기', 'Viewport에 따른 모바일 웹 이미지 제작 방식 알아보기', 'CHAPTER 04. 모바일 앱 GUI 디자인 및 레이아웃', 'LESSON 01. 모바일 앱 GUI 디자인', '태스크 분석을 통한 GUI 디자인', '탭(Tap) GUI 구조', '플로팅(Floating) GUI 구조', '갤러리(Gallery) GUI 구조', '숨김 메뉴 GUI 구조', '순차적 GUI 구조', 'LESSON 02. UI-Kit 활용하기', 'XD에서 UI-Kit 다운로드하기', '앱 아이콘 다운로드하기', '폰트 다운로드하기', 'LESSON 03. Android 앱 주요 가이드라인', 'Android 앱 가이드라인', '툴 바의 버튼과 가장자리의 마진', '콘텐츠와 콘텐츠 사이 마진', '전체 화면 마진', '상태 바와 아이콘', '오른쪽 끝 마진', '버튼의 터치 영역', '툴 바, 플로팅 버튼, 오버레이 마진', '리스트 목록', 'LESSON 04. iOS 앱 주요 가이드라인', 'iOS 앱 디자인 전 체크 사항', 'iOS 앱 주요 가이드라인', '상태 바', '내비게이션 바', '큰 타이틀 바', '마진', '탭 바', '홈 표시', '내부 디자인 아이콘의 터치 영역', 'LESSON 05. 나인패치와 스트레칭 이미지', '나인패치(Draw9patch)', 'Android에 맞는 나인패치 제작', 'iOS 스트레칭 이미지 제작', 'CHAPTER 05. 모바일 앱 디자인에 필요한 XD 핵심 기능 익히기', 'LESSON 01. 아트보드 편집하고 저장하기', '아트보드 편집하기', '아트보드 크기 변경하기', '데스크톱 화면 미리 보기', '문서 설정하기', '문서 저장하고 열기', '외부 디자인 파일 열기(PSD, AI, Sketch)', '[디자이너의 비밀노트] XD 주요 단축키', 'LESSON 02. 기본 도구 활용하기', '기본 도형 만들기', '속성 관리자에서 도형 변형하기', '펜과 선을 이용해 드로잉하기', '텍스트 입력하고 편집하기', '텍스트 찾기', '오브젝트 정렬과 결합', 'LESSON 03. 외부 파일 불러오고 편집하기', '일러스트레이터(AI) 파일 불러오기', '비트맵 파일 불러오기', 'LESSON 04. XD 핵심 기능 익히기', '플러그인 활용하기', 'UI-Kit 활용하기', '문서 에셋 활용하기', '구성 요소 등록하고 활용하기', '문자 스타일 등록하고 활용하기', '색상 스타일 등록하고 편집하기', '구성 요소 내부 인스턴스(Instance) 활용하기', '반복 그리드', '반응형 크기 조정', '아트보드 안내선과 그리드 시스템', '[디자이너의 비밀노트] 앱 디자인 색상 사용 시 주의사항', 'PART 02. 모바일 UX/UI 디자인 프로젝트', 'PROJECT 01. 젬픽 모바일 앱 로그인, 회원 가입 페이지 디자인_iOS', 'STEP 01. 로그인 및 회원 가입 디자인 준비하기', '새 아트보드 만들어 기본 레이아웃 안내선 적용하기', '로고, 아이콘, 색상을 문서 에셋에 등록하기', 'STEP 02. 로그인 페이지 디자인하기', 'login_01 페이지에 로고, 이메일, 비밀번호, 로그인 버튼 제작하기', 'SNS 로그인 버튼과 회원 가입 버튼 만들기', 'login_02 페이지 디자인하기', '아이콘을 문서 에셋에 등록하기', 'STEP 03. 회원 가입 페이지 디자인하기', 'signup_01 페이지 디자인하기', 'signup_02 페이지 디자인하기', 'STEP 04. 자연스러운 효과의 프로토타입 제작하기', '런치 스크린에서 로그인과 회원 가입 연결하기', 'Skip, SNS 로그인, CREATE 버튼과 메인 화면 연결하기', 'PROJECT 02. 스크롤 기능을 이용한 메인 페이지 디자인_Android', 'STEP 01. 메인 페이지 UI 디자인 준비하기', '새 아트보드 만들어 기본 레이아웃 안내선 적용하기', '아이콘, 색상을 문서 에셋에 등록하기', 'STEP 02. 상단 툴 바와 하단 메뉴 탭 바 디자인하기', 'main_01 페이지의 상단 툴 바 디자인하기', '내부 인스턴스를 활용해 하단 메뉴 탭 바 디자인하기', '메인 아이콘의 구성 요소를 활용해 내부 인스턴스 추가하기', 'STEP 03. 인터랙션 기능으로 숨김 메뉴 만들기', '숨김 메뉴 구성 요소로 내부 인스턴스 추가하기', '인터랙션 숨김 메뉴의 프로토타입 만들기', 'STEP 04. 뉴스 피드형 콘텐츠 디자인하기', '섬네일을 이용한 사용자 리스트 제작하기', '사진 크기 조절하고 뉴스 피드 콘텐츠 디자인하기', '이미지 컨트롤 아이콘 디자인하기', '스크롤 기능의 메인 페이지 디자인하기', 'STEP 05. 오버레이 팝업 페이지의 프로토타입 제작하기', '팝업 페이지 제작하기', '오버레이 효과의 프로토타입 제작하기', 'PROJECT 03. 슬라이드 효과의 메인 페이지 디자인_iOS', 'STEP 01. 메인 페이지 디자인하기', '새 아트보드 만들어 기본 레이아웃 안내선 적용하기', '아이콘, 색상을 문서 에셋에 등록하기', 'STEP 02. 상단 툴 바와 하단 메뉴 탭 바 디자인하기', 'main_01 페이지의 상단 내비게이션 영역 디자인하기', '내부 인스턴스를 활용해 하단 메뉴 탭 바 디자인하기', '메인 버튼 구성 요소로 내부 인스턴스 추가하기', 'STEP 03. 슬라이드 페이지의 콘텐츠 구성하기', '슬라이드 페이지에 콘텐츠 배치하기', '카테고리 버튼 아이콘 배치하기', '카테고리 버튼 구성 요소로 내부 인스턴스 추가하기', 'STEP 04. 슬라이드 효과의 프로토타입 제작하기', '아트보드 복사하여 각 화면 구성하기', '슬라이드(스냅) 효과의 인터랙션 적용하기', 'STEP 05. 자동 스크롤 효과의 프로토타입 제작하기', 'sub_01 상세 페이지 제작하기', '자동 스크롤 효과의 프로토타입 제작하기', 'PROJECT 04. 시작 애니메이션 효과의 메인 페이지 디자인_Android', 'STEP 01. 시작 애니메이션 디자인 준비하기', '새 아트보드 만들어 기본 레이아웃 안내선 적용하기', '아이콘, 색상을 문서 에셋에 등록하기', 'STEP 02. 상단 툴 바와 메인 메뉴 디자인하기', 'main_start 페이지의 상단 툴 바 디자인하기', '내부 인스턴스를 활용한 메인 메뉴 디자인하기', 'STEP 03. 내부 아이콘 및 슬라이드 버튼 디자인하기', '내부 아이콘 만들기', '원형 그래프 만들기', '데이터 수치 입력하기', '정보 표시 입력하기', '슬라이드 버튼 디자인하기', 'STEP 04. 시작 애니메이션과 슬라이드 효과의 프로토타입 제작하기', 'main_01 아트보드 페이지 디자인하기', '메인 아트보드에 시작 애니메이션 연결하기', '슬라이드 버튼 인터랙션 제작하기', 'STEP 05. 숨김 메뉴 디자인하고 프로토타입 제작하기', '메뉴 배경과 섬네일 디자인하기', '메뉴 아이콘과 리스트 디자인하기', '메뉴 슬라이드 효과의 프로토타입 제작하기', '[디자이너의 비밀노트] 앱 UI 디자인의 메뉴(Menu)', 'PROJECT 05. 그리드 시스템을 이용한 반응형 UI 디자인_web', 'STEP 01. 메인 페이지 UI 디자인 준비하기', '새 아트보드 만들기', '그리드 시스템 적용하기', 'STEP 02. 반응형 UI 툴 바와 메뉴 디자인하기', '숨김 메뉴 구성 요소로 내부 인스턴스 추가하기(mobile_UI)', '주요 메뉴에 마우스 오버 상태 추가하기', '구성 요소 인터랙션을 이용해 모바일 메뉴 디자인하기', '인터랙션 숨김 메뉴의 프로토타입 만들기', '메뉴 구성 요소로 펼침 메뉴 만들기(tablet_UI)', '메뉴 구성 요소로 메인 툴 바 만들기(web_UI)', 'STEP 03. 반응형 UI 내부 콘텐츠 디자인하기', '내부 콘텐츠 디자인하기(mobile_UI)', '내부 콘텐츠 디자인하기(tablet_UI)', '내부 콘텐츠 디자인하기(web_UI)', 'PROJECT 06. 공유 기능을 이용한 개발자 협업', 'STEP 01. XD 공유 기능 활용하기', '공유 링크 만들기', '공유 링크 업데이트하고 관리하기', '공유 페이지 관리하기', '댓글을 이용해 의견 나누기', 'STEP 02. 프로젝트 공유하고 실무에 활용하기', '운영체제별 프로젝트 공유하기', '에셋, 색상, 문자 스타일 확인하기', '디자인 가이드, 인터랙션 확인하기', '웹사이트 제작에 필요한 변수 CSS 다운로드', '[디자이너의 비밀노트] 제플린을 활용해 프로젝트 공유하기', 'INDEX']}\n"
     ]
    }
   ],
   "source": [
    "if __name__ == '__main__':\n",
    "    main()"
   ]
  },
  {
   "cell_type": "markdown",
   "id": "e22748db-542d-4c75-a452-664a4f775035",
   "metadata": {},
   "source": [
    "---"
   ]
  },
  {
   "cell_type": "markdown",
   "id": "8800df34-0666-4765-87c2-0e5d3e72a142",
   "metadata": {},
   "source": [
    "* 전체 페이지 크롤링을 위해 main() 함수의 for 구문에서 break 제거"
   ]
  },
  {
   "cell_type": "markdown",
   "id": "df24461f-f37f-4de2-a84d-33eaee3dcbee",
   "metadata": {},
   "source": [
    "* 대상 서버에 부하를 주지 않은 상태에서 크롤링을 위해 time 모듈을 import 및 time.sleep(1)을 넣어 1초 동안 대기"
   ]
  },
  {
   "cell_type": "code",
   "execution_count": 22,
   "id": "9f29efc6-a163-4b9a-83dd-23c21c3c62ac",
   "metadata": {},
   "outputs": [],
   "source": [
    "import time"
   ]
  },
  {
   "cell_type": "code",
   "execution_count": 23,
   "id": "3d9741f5-d97a-45f3-976d-a2959a7cfe2e",
   "metadata": {},
   "outputs": [],
   "source": [
    "def main():\n",
    "    # 여러 페이지에서 크롤링을 위해 Session 사용\n",
    "    session = requests.Session()  \n",
    "    # scrape_list_page() 함수를 호출해서 제너레이터를 추출\n",
    "    response = session.get('http://www.hanbit.co.kr/store/books/new_book_list.html')\n",
    "    urls = scrape_list_page(response)\n",
    "    for url in urls:\n",
    "        time.sleep(1) # 1초간 대기\n",
    "        response = session.get(url)  # Session을 사용해 상세 페이지를 추출\n",
    "        ebook = scrape_detail_page(response)  # 상세 페이지에서 상세 정보를 추출\n",
    "        print(ebook)  # 상세 정보 출력\n",
    "        break  "
   ]
  },
  {
   "cell_type": "code",
   "execution_count": 24,
   "id": "5c7c5daf-3a5f-4353-b5a1-4772d348cae7",
   "metadata": {},
   "outputs": [],
   "source": [
    "def scrape_list_page(response):\n",
    "    root = lxml.html.fromstring(response.content)\n",
    "    root.make_links_absolute(response.url)\n",
    "    for a in root.cssselect('.view_box .book_tit a'):\n",
    "        url = a.get('href')\n",
    "        yield url"
   ]
  },
  {
   "cell_type": "code",
   "execution_count": 25,
   "id": "5ea23215-487c-474c-83b6-14036fba95f6",
   "metadata": {},
   "outputs": [],
   "source": [
    "def scrape_detail_page(response):\n",
    "    \"\"\"\n",
    "    상세 페이지의 Response에서 책 정보를 dict로 추출\n",
    "    \"\"\"\n",
    "    root = lxml.html.fromstring(response.content)\n",
    "    ebook = {\n",
    "        'url': response.url,\n",
    "        'title': root.cssselect('.store_product_info_box h3')[0].text_content(),\n",
    "        'price': root.cssselect('.pbr strong')[0].text_content(),\n",
    "        'content': [normalize_spaces(p.text_content())\n",
    "            for p in root.cssselect('#tabs_3 .hanbit_edit_view p')\n",
    "            if normalize_spaces(p.text_content()) != '']\n",
    "    }\n",
    "    return ebook"
   ]
  },
  {
   "cell_type": "code",
   "execution_count": 26,
   "id": "ada8432e-2323-4d4e-be3f-22ede6557785",
   "metadata": {},
   "outputs": [],
   "source": [
    "def normalize_spaces(s):\n",
    "    \"\"\"\n",
    "    연결된 공백을 하나의 공백으로 변경\n",
    "    \"\"\"\n",
    "    return re.sub(r'\\s+', ' ', s).strip()"
   ]
  },
  {
   "cell_type": "code",
   "execution_count": 27,
   "id": "ad2d39b7-c983-402b-85e3-592b2cbaa7c9",
   "metadata": {},
   "outputs": [
    {
     "name": "stdout",
     "output_type": "stream",
     "text": [
      "{'url': 'https://www.hanbit.co.kr/store/books/look.php?p_code=B9923613168', 'title': '모바일 UX/UI 디자인 강의 with Adobe XD', 'price': '23,400', 'content': ['PART 01. 모바일 UX/UI 디자인', 'CHAPTER 01. 모바일 앱 UX의 시작', 'LESSON 01. 모바일 앱과 UX 디자인의 발전', 'UX 디자인의 등장', '화면 크기의 변화와 UX의 발전', '실무에서 말하는 모바일 UX 디자인', 'LESSON 02. UX 디자인을 완성하는 세 가지 요소', 'UX(User Experience) 이해하기', '하나. UX는 발명이 아닌 발견이다', '둘. UX는 편리함보다 익숙함을 따른다', '셋. UX는 제품이 아닌 가치를 제공한다', 'LESSON 03. 직관적인 UX 디자인 요소', 'BX(Brand Experience)', 'UI(User Interface)', 'GUI(Graphical User Interface)', '인포그래픽(Infographics)', '인터랙션(Interaction)', 'CHAPTER 02. 모바일 UX 시나리오', 'LESSON 01. 모바일 UX 시나리오 의미와 과정', '모바일 UX 시나리오 과정', 'LESSON 02. 서비스 구분하고 제작 방향 설정하기', '모바일 서비스 구분하기', '네이티브 앱 (Native App)', '모바일 웹앱 (Mobile WebApp)', '반응형 웹앱(RWD : Responsive Web Design)', '적응형 웹앱(AWD : Adaptive Web Design)', '하이브리드 앱(Hybrid App)', 'LESSON 03. 태스크 분석을 통한 주요 UI 설계하기', '태스크 분석(Task Research) 과정', 'LESSON 04. 카테고리 분석을 통한 디자인 포지션 찾기', '1단계. 유사 카테고리 서비스 찾아 분석하기', '2단계. 동일 사용자층 서비스 찾아 분석하기', '3단계. 디자인 포지션(Design Position) 확정하기', '예시로 알아보는 디자인 포지션 과정', 'LESSON 05. 디자인 리서치를 통한 디자인 방향 설정하기', '무드보드(Moodboard)', '컬러 스와치(Color Swatch)', '[디자이너의 비밀노트] 컬러 시뮬레이션 서비스 활용하기', 'LESSON 06. 런처 아이콘과 런치 스크린 디자인하기', '런처 아이콘(Launcher Icon)', '운영체제 규격에 맞게 디자인하기', '사용자에게 동일한 BX 아이콘 제공하기', 'BX가 제대로 드러나게 디자인하기', '모바일 웹 런처 아이콘', '런치 스크린(Launch Screen)', '시각 보정을 이용해 로고 배치하기', '다양한 기능을 담은 런치 스크린', 'LESSON 07. 와이어 프레임 형식의 UI 구조 설계하기', 'UI 구조 설계(UI Structure)', '페이퍼 프로토타입(Paper Prototype)과 UI 설계하기', '동일한 구조의 UI 설계하기', 'UI 뎁스(Depth)와 GUI 표시하기', '정확한 화면 이름과 파일명 표기하기', '포지티브 와이어(Positive Wire)와 네거티브 와이어(Negative Wire) 표시하기', 'CHAPTER 03. 모바일 해상도 및 제작 방법', 'LESSON 01. 모바일 해상도와 72dpi 이해하기', '모바일 해상도', '72dpi', '72dpi의 표현 해상도', 'LESSON 02. Android의 DP 해상도 및 제작 방법', 'Android DP 해상도 이해하기', 'Android DP에 따른 표현 방식 알아보기', 'Android DP에 따른 이미지 제작 방식 알아보기', 'LESSON 03. iOS의 Point 해상도와 제작 방법', 'iOS Point 해상도 이해하기', 'iOS Point에 따른 이미지 제작 방식 알아보기', '[디자이너의 비밀노트] 모바일 운영체제 디자인 가이드', 'LESSON 04. 모바일 웹과 Viewport 적용하기', 'Viewport', 'Viewport를 적용한 모바일 뷰어 사용하기', 'Viewport에 따른 모바일 웹 이미지 제작 방식 알아보기', 'CHAPTER 04. 모바일 앱 GUI 디자인 및 레이아웃', 'LESSON 01. 모바일 앱 GUI 디자인', '태스크 분석을 통한 GUI 디자인', '탭(Tap) GUI 구조', '플로팅(Floating) GUI 구조', '갤러리(Gallery) GUI 구조', '숨김 메뉴 GUI 구조', '순차적 GUI 구조', 'LESSON 02. UI-Kit 활용하기', 'XD에서 UI-Kit 다운로드하기', '앱 아이콘 다운로드하기', '폰트 다운로드하기', 'LESSON 03. Android 앱 주요 가이드라인', 'Android 앱 가이드라인', '툴 바의 버튼과 가장자리의 마진', '콘텐츠와 콘텐츠 사이 마진', '전체 화면 마진', '상태 바와 아이콘', '오른쪽 끝 마진', '버튼의 터치 영역', '툴 바, 플로팅 버튼, 오버레이 마진', '리스트 목록', 'LESSON 04. iOS 앱 주요 가이드라인', 'iOS 앱 디자인 전 체크 사항', 'iOS 앱 주요 가이드라인', '상태 바', '내비게이션 바', '큰 타이틀 바', '마진', '탭 바', '홈 표시', '내부 디자인 아이콘의 터치 영역', 'LESSON 05. 나인패치와 스트레칭 이미지', '나인패치(Draw9patch)', 'Android에 맞는 나인패치 제작', 'iOS 스트레칭 이미지 제작', 'CHAPTER 05. 모바일 앱 디자인에 필요한 XD 핵심 기능 익히기', 'LESSON 01. 아트보드 편집하고 저장하기', '아트보드 편집하기', '아트보드 크기 변경하기', '데스크톱 화면 미리 보기', '문서 설정하기', '문서 저장하고 열기', '외부 디자인 파일 열기(PSD, AI, Sketch)', '[디자이너의 비밀노트] XD 주요 단축키', 'LESSON 02. 기본 도구 활용하기', '기본 도형 만들기', '속성 관리자에서 도형 변형하기', '펜과 선을 이용해 드로잉하기', '텍스트 입력하고 편집하기', '텍스트 찾기', '오브젝트 정렬과 결합', 'LESSON 03. 외부 파일 불러오고 편집하기', '일러스트레이터(AI) 파일 불러오기', '비트맵 파일 불러오기', 'LESSON 04. XD 핵심 기능 익히기', '플러그인 활용하기', 'UI-Kit 활용하기', '문서 에셋 활용하기', '구성 요소 등록하고 활용하기', '문자 스타일 등록하고 활용하기', '색상 스타일 등록하고 편집하기', '구성 요소 내부 인스턴스(Instance) 활용하기', '반복 그리드', '반응형 크기 조정', '아트보드 안내선과 그리드 시스템', '[디자이너의 비밀노트] 앱 디자인 색상 사용 시 주의사항', 'PART 02. 모바일 UX/UI 디자인 프로젝트', 'PROJECT 01. 젬픽 모바일 앱 로그인, 회원 가입 페이지 디자인_iOS', 'STEP 01. 로그인 및 회원 가입 디자인 준비하기', '새 아트보드 만들어 기본 레이아웃 안내선 적용하기', '로고, 아이콘, 색상을 문서 에셋에 등록하기', 'STEP 02. 로그인 페이지 디자인하기', 'login_01 페이지에 로고, 이메일, 비밀번호, 로그인 버튼 제작하기', 'SNS 로그인 버튼과 회원 가입 버튼 만들기', 'login_02 페이지 디자인하기', '아이콘을 문서 에셋에 등록하기', 'STEP 03. 회원 가입 페이지 디자인하기', 'signup_01 페이지 디자인하기', 'signup_02 페이지 디자인하기', 'STEP 04. 자연스러운 효과의 프로토타입 제작하기', '런치 스크린에서 로그인과 회원 가입 연결하기', 'Skip, SNS 로그인, CREATE 버튼과 메인 화면 연결하기', 'PROJECT 02. 스크롤 기능을 이용한 메인 페이지 디자인_Android', 'STEP 01. 메인 페이지 UI 디자인 준비하기', '새 아트보드 만들어 기본 레이아웃 안내선 적용하기', '아이콘, 색상을 문서 에셋에 등록하기', 'STEP 02. 상단 툴 바와 하단 메뉴 탭 바 디자인하기', 'main_01 페이지의 상단 툴 바 디자인하기', '내부 인스턴스를 활용해 하단 메뉴 탭 바 디자인하기', '메인 아이콘의 구성 요소를 활용해 내부 인스턴스 추가하기', 'STEP 03. 인터랙션 기능으로 숨김 메뉴 만들기', '숨김 메뉴 구성 요소로 내부 인스턴스 추가하기', '인터랙션 숨김 메뉴의 프로토타입 만들기', 'STEP 04. 뉴스 피드형 콘텐츠 디자인하기', '섬네일을 이용한 사용자 리스트 제작하기', '사진 크기 조절하고 뉴스 피드 콘텐츠 디자인하기', '이미지 컨트롤 아이콘 디자인하기', '스크롤 기능의 메인 페이지 디자인하기', 'STEP 05. 오버레이 팝업 페이지의 프로토타입 제작하기', '팝업 페이지 제작하기', '오버레이 효과의 프로토타입 제작하기', 'PROJECT 03. 슬라이드 효과의 메인 페이지 디자인_iOS', 'STEP 01. 메인 페이지 디자인하기', '새 아트보드 만들어 기본 레이아웃 안내선 적용하기', '아이콘, 색상을 문서 에셋에 등록하기', 'STEP 02. 상단 툴 바와 하단 메뉴 탭 바 디자인하기', 'main_01 페이지의 상단 내비게이션 영역 디자인하기', '내부 인스턴스를 활용해 하단 메뉴 탭 바 디자인하기', '메인 버튼 구성 요소로 내부 인스턴스 추가하기', 'STEP 03. 슬라이드 페이지의 콘텐츠 구성하기', '슬라이드 페이지에 콘텐츠 배치하기', '카테고리 버튼 아이콘 배치하기', '카테고리 버튼 구성 요소로 내부 인스턴스 추가하기', 'STEP 04. 슬라이드 효과의 프로토타입 제작하기', '아트보드 복사하여 각 화면 구성하기', '슬라이드(스냅) 효과의 인터랙션 적용하기', 'STEP 05. 자동 스크롤 효과의 프로토타입 제작하기', 'sub_01 상세 페이지 제작하기', '자동 스크롤 효과의 프로토타입 제작하기', 'PROJECT 04. 시작 애니메이션 효과의 메인 페이지 디자인_Android', 'STEP 01. 시작 애니메이션 디자인 준비하기', '새 아트보드 만들어 기본 레이아웃 안내선 적용하기', '아이콘, 색상을 문서 에셋에 등록하기', 'STEP 02. 상단 툴 바와 메인 메뉴 디자인하기', 'main_start 페이지의 상단 툴 바 디자인하기', '내부 인스턴스를 활용한 메인 메뉴 디자인하기', 'STEP 03. 내부 아이콘 및 슬라이드 버튼 디자인하기', '내부 아이콘 만들기', '원형 그래프 만들기', '데이터 수치 입력하기', '정보 표시 입력하기', '슬라이드 버튼 디자인하기', 'STEP 04. 시작 애니메이션과 슬라이드 효과의 프로토타입 제작하기', 'main_01 아트보드 페이지 디자인하기', '메인 아트보드에 시작 애니메이션 연결하기', '슬라이드 버튼 인터랙션 제작하기', 'STEP 05. 숨김 메뉴 디자인하고 프로토타입 제작하기', '메뉴 배경과 섬네일 디자인하기', '메뉴 아이콘과 리스트 디자인하기', '메뉴 슬라이드 효과의 프로토타입 제작하기', '[디자이너의 비밀노트] 앱 UI 디자인의 메뉴(Menu)', 'PROJECT 05. 그리드 시스템을 이용한 반응형 UI 디자인_web', 'STEP 01. 메인 페이지 UI 디자인 준비하기', '새 아트보드 만들기', '그리드 시스템 적용하기', 'STEP 02. 반응형 UI 툴 바와 메뉴 디자인하기', '숨김 메뉴 구성 요소로 내부 인스턴스 추가하기(mobile_UI)', '주요 메뉴에 마우스 오버 상태 추가하기', '구성 요소 인터랙션을 이용해 모바일 메뉴 디자인하기', '인터랙션 숨김 메뉴의 프로토타입 만들기', '메뉴 구성 요소로 펼침 메뉴 만들기(tablet_UI)', '메뉴 구성 요소로 메인 툴 바 만들기(web_UI)', 'STEP 03. 반응형 UI 내부 콘텐츠 디자인하기', '내부 콘텐츠 디자인하기(mobile_UI)', '내부 콘텐츠 디자인하기(tablet_UI)', '내부 콘텐츠 디자인하기(web_UI)', 'PROJECT 06. 공유 기능을 이용한 개발자 협업', 'STEP 01. XD 공유 기능 활용하기', '공유 링크 만들기', '공유 링크 업데이트하고 관리하기', '공유 페이지 관리하기', '댓글을 이용해 의견 나누기', 'STEP 02. 프로젝트 공유하고 실무에 활용하기', '운영체제별 프로젝트 공유하기', '에셋, 색상, 문자 스타일 확인하기', '디자인 가이드, 인터랙션 확인하기', '웹사이트 제작에 필요한 변수 CSS 다운로드', '[디자이너의 비밀노트] 제플린을 활용해 프로젝트 공유하기', 'INDEX']}\n"
     ]
    }
   ],
   "source": [
    "if __name__ == '__main__':\n",
    "    main()"
   ]
  }
 ],
 "metadata": {
  "kernelspec": {
   "display_name": "Python 3",
   "language": "python",
   "name": "python3"
  },
  "language_info": {
   "codemirror_mode": {
    "name": "ipython",
    "version": 3
   },
   "file_extension": ".py",
   "mimetype": "text/x-python",
   "name": "python",
   "nbconvert_exporter": "python",
   "pygments_lexer": "ipython3",
   "version": "3.8.8"
  }
 },
 "nbformat": 4,
 "nbformat_minor": 5
}
