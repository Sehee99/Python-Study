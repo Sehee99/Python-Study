{
 "cells": [
  {
   "cell_type": "markdown",
   "id": "ae4a0f90-2512-4416-8b73-70f77b97d7f1",
   "metadata": {},
   "source": [
    "### 정규식(Regular expressions, Regex, Regexp)"
   ]
  },
  {
   "cell_type": "code",
   "execution_count": 1,
   "id": "76f47c69-4370-46b8-88ff-b3f487e135bf",
   "metadata": {},
   "outputs": [],
   "source": [
    "import re"
   ]
  },
  {
   "cell_type": "code",
   "execution_count": 2,
   "id": "3783f602-98cc-446e-8252-7e8adca2da15",
   "metadata": {},
   "outputs": [
    {
     "data": {
      "text/plain": [
       "<re.Match object; span=(0, 3), match='abc'>"
      ]
     },
     "execution_count": 2,
     "metadata": {},
     "output_type": "execute_result"
    }
   ],
   "source": [
    "# re.search()함수를 사용하면 두 번째 매개변수의 문자열이 첫 번째 매개변수의 정규 표현식과 매칭되는지 확인 가능\n",
    "# 매칭되는 경우 Match 객체를 반환, 매칭되지 않는 경우 None을 반환\n",
    "re.search(r'a.*c', 'abc123DEF')"
   ]
  },
  {
   "cell_type": "code",
   "execution_count": 3,
   "id": "242acfbe-e6e7-4dc9-a1ae-36d8ea3dfa4d",
   "metadata": {},
   "outputs": [],
   "source": [
    "# 다음 예는 정규 표현식에 맞지 않으므로 None을 반환\n",
    "result = re.search(r'a.*D', 'abc123DEF')"
   ]
  },
  {
   "cell_type": "code",
   "execution_count": 4,
   "id": "c0d46cfe-192d-463c-b110-b9d91410225c",
   "metadata": {},
   "outputs": [
    {
     "name": "stdout",
     "output_type": "stream",
     "text": [
      "0 7\n",
      "abc123DEF\n"
     ]
    }
   ],
   "source": [
    "start, end = result.span()\n",
    "print(start, end)\n",
    "print(result.string)"
   ]
  },
  {
   "cell_type": "code",
   "execution_count": 5,
   "id": "f9b001f3-3434-4c1e-a697-d22946ad2b5b",
   "metadata": {},
   "outputs": [
    {
     "data": {
      "text/plain": [
       "<re.Match object; span=(0, 7), match='abc123D'>"
      ]
     },
     "execution_count": 5,
     "metadata": {},
     "output_type": "execute_result"
    }
   ],
   "source": [
    "# re.IGNORECASE(또는 re.I)를 지정하면 대소문자를 무시\n",
    "re.search(r'a.*d', 'abc123DEF', re.IGNORECASE)"
   ]
  },
  {
   "cell_type": "code",
   "execution_count": 6,
   "id": "fcb35845-2c6e-4764-b02d-875cdc3ea692",
   "metadata": {},
   "outputs": [
    {
     "data": {
      "text/plain": [
       "'abc123DEFaddc'"
      ]
     },
     "execution_count": 6,
     "metadata": {},
     "output_type": "execute_result"
    }
   ],
   "source": [
    "# Match 객체의 group() 메서드로 일치한 값을 추출\n",
    "# 매개변수에 0을 지정하면 매치된 모든 값을 반환\n",
    "m = re.search(r'a(.*)c', 'abc123DEFaddc')\n",
    "m.group(0)"
   ]
  },
  {
   "cell_type": "code",
   "execution_count": 7,
   "id": "cfd11d83-fbc9-4d15-b9c8-18489696ba48",
   "metadata": {},
   "outputs": [
    {
     "data": {
      "text/plain": [
       "'bc123DEFadd'"
      ]
     },
     "execution_count": 7,
     "metadata": {},
     "output_type": "execute_result"
    }
   ],
   "source": [
    "# 매개변수에 1 이상의 숫자를 지정하면 정규 표현식에서 0로 감싼 부분에 해당하는 값을 추출\n",
    "# 1이라면 1번째 그룹, 2라면 2번째 그룹 추출\n",
    "m.group(1)"
   ]
  },
  {
   "cell_type": "code",
   "execution_count": 8,
   "id": "8eacb028-63c7-48b5-82b0-c513e3cc4c1c",
   "metadata": {},
   "outputs": [
    {
     "data": {
      "text/plain": [
       "['Thi', 'is', 'pen']"
      ]
     },
     "execution_count": 8,
     "metadata": {},
     "output_type": "execute_result"
    }
   ],
   "source": [
    "# re.findall() 함수를 사용하면 정규 표현식에 맞는 모든 문자열을 리스트 타입으로 추출 가능\n",
    "# 다음 예에서는 2글자 이상의 단어를 모두 추출\n",
    "# \\w는 유니코드로 글자를 비교, 공백 문자는 \\s 등으로 추출할 수 있습니다.\n",
    "re.findall(r'\\w{2,3}', 'This is a pen')"
   ]
  },
  {
   "cell_type": "code",
   "execution_count": 9,
   "id": "4306c60b-9ea9-4665-b488-876b4c68a259",
   "metadata": {},
   "outputs": [
    {
     "data": {
      "text/plain": [
       "'That is a pen'"
      ]
     },
     "execution_count": 9,
     "metadata": {},
     "output_type": "execute_result"
    }
   ],
   "source": [
    "# re.subO()함수를 사용하면 정규 표현식에 매칭되는 문자열 치환\n",
    "# 3번째 매개변수에 넣은 문자열에서 첫 번째 정규 표현식에 매칭되는 문자열을 2번째 매개변수 문자열로 치환\n",
    "re.sub(r'\\w{4}', 'That', 'This is a pen')"
   ]
  },
  {
   "cell_type": "code",
   "execution_count": 10,
   "id": "98a22e16-5688-4ab1-80d8-1ded0d38bbf2",
   "metadata": {},
   "outputs": [
    {
     "data": {
      "text/plain": [
       "<re.Match object; span=(1, 4), match='abc'>"
      ]
     },
     "execution_count": 10,
     "metadata": {},
     "output_type": "execute_result"
    }
   ],
   "source": [
    "result = re.search(r'a.*c', ' abc123DEF')\n",
    "result"
   ]
  },
  {
   "cell_type": "code",
   "execution_count": 11,
   "id": "6905ceba-c381-453c-aaf5-484cbfce6e4f",
   "metadata": {},
   "outputs": [
    {
     "data": {
      "text/plain": [
       "<re.Match object; span=(0, 3), match='abc'>"
      ]
     },
     "execution_count": 11,
     "metadata": {},
     "output_type": "execute_result"
    }
   ],
   "source": [
    "# match는 시작부터 일치하는지를 검사, search는 매칭되는 위치가 어디인지 탐색\n",
    "result = re.match(r'a.*c', 'abc123DEF')\n",
    "result"
   ]
  },
  {
   "cell_type": "markdown",
   "id": "cbdf8c8d-22d4-44b4-bc9b-3f419ad5a265",
   "metadata": {},
   "source": [
    "---"
   ]
  },
  {
   "cell_type": "markdown",
   "id": "f9ae37e3-7f48-4216-80c1-f6bc8b9607e7",
   "metadata": {},
   "source": [
    "### 1. 정규 표현식을 이용한 스크래핑"
   ]
  },
  {
   "cell_type": "code",
   "execution_count": 12,
   "id": "442d3d5c-be79-4056-93fa-b79621344aea",
   "metadata": {},
   "outputs": [],
   "source": [
    "import re\n",
    "from html import unescape"
   ]
  },
  {
   "cell_type": "code",
   "execution_count": 13,
   "id": "8433455a-ae8c-4ec7-9b32-dbc6275090a6",
   "metadata": {},
   "outputs": [],
   "source": [
    "# 이전 절에서 다운로드한 파일을 열고 html이라는 변수에 저장\n",
    "with open('dp.html', encoding='utf-8') as f:\n",
    "    html = f.read()"
   ]
  },
  {
   "cell_type": "code",
   "execution_count": 14,
   "id": "dfabde89-8c71-450a-8e1d-1d0a711c19bf",
   "metadata": {},
   "outputs": [
    {
     "data": {
      "text/plain": [
       "['<td class=\"left\"><a href=\"/store/books/look.php?p_code=B9923613168\">모바일 UX/UI 디자인 강의 with Adobe XD</a></td>',\n",
       " '<td class=\"left\"><a href=\"/store/books/look.php?p_code=B9037188841\">방구석 심리학 실험실</a></td>',\n",
       " '<td class=\"left\"><a href=\"/store/books/look.php?p_code=B8955111301\">스파크를 이용한 자연어 처리</a></td>',\n",
       " '<td class=\"left\"><a href=\"/store/books/look.php?p_code=B6758255857\">클라우드 네이티브를 위한 데이터 센터 네트워크 구축</a></td>',\n",
       " '<td class=\"left\"><a href=\"/store/books/look.php?p_code=B9737048306\">감으로만 일하던 김 팀장은 어떻게 데이터 좀 아는 팀장이 되었나</a></td>',\n",
       " '<td class=\"left\"><a href=\"/store/books/look.php?p_code=B1833400260\">쉽게 배우고 익히는 회계원리[객관식/학습문제 해답]&#40;4판&#41;</a></td>',\n",
       " '<td class=\"left\"><a href=\"/store/books/look.php?p_code=B9009516784\">미래조직을 위한 조직설계의 이해&#40;4판&#41;</a></td>',\n",
       " '<td class=\"left\"><a href=\"/store/books/look.php?p_code=B7533828722\">쉽게 배우고 익히는 회계원리&#40;4판&#41;</a></td>',\n",
       " '<td class=\"left\"><a href=\"/store/books/look.php?p_code=B7970422863\">fastai와 파이토치가 만나 꽃피운 딥러닝</a></td>',\n",
       " '<td class=\"left\"><a href=\"/store/books/look.php?p_code=B8128498093\">스케치업 & V-Ray 트레이닝 북&#40;개정판&#41;</a></td>',\n",
       " '<td class=\"left\"><a href=\"/store/books/look.php?p_code=B6993093151\">IT CookBook, 짧고 굵게 배우는 JSP 웹 프로그래밍과 스프링 프레임워크</a></td>',\n",
       " '<td class=\"left\"><a href=\"/store/books/look.php?p_code=B7030127165\">생각과 말로 글을 늘리는 초등 10분 글쓰기</a></td>',\n",
       " '<td class=\"left\"><a href=\"/store/books/look.php?p_code=B7628794939\">만들면서 배우는 파이토치 딥러닝</a></td>',\n",
       " '<td class=\"left\"><a href=\"/store/books/look.php?p_code=B9949658683\">데이터베이스 시스템&#40;7판&#41;</a></td>',\n",
       " '<td class=\"left\"><a href=\"/store/books/look.php?p_code=B9783423109\">실리콘밸리 리더십</a></td>',\n",
       " '<td class=\"left\"><a href=\"/store/books/look.php?p_code=B1598189984\">처음 시작하는 마이크로서비스</a></td>',\n",
       " '<td class=\"left\"><a href=\"/store/books/look.php?p_code=B7123382765\">눈 떠보니 선진국</a></td>',\n",
       " '<td class=\"left\"><a href=\"/store/books/look.php?p_code=B2354289186\">텐서플로 라이트를 활용한 안드로이드 딥러닝</a></td>',\n",
       " '<td class=\"left\"><a href=\"/store/books/look.php?p_code=B9934227624\">회사에서 바로 통하는  오토캐드 AutoCAD 2022</a></td>',\n",
       " '<td class=\"left\"><a href=\"/store/books/look.php?p_code=B3464803426\">5리터의 피</a></td>',\n",
       " '<td class=\"left\"><a href=\"/store/books/look.php?p_code=B4332804661\">미국주식 스팩투자법</a></td>',\n",
       " '<td class=\"left\"><a href=\"/store/books/look.php?p_code=B3130478771\">재미있고 빠른 숫자 쓰기 1권 : 0부터 50까지</a></td>',\n",
       " '<td class=\"left\"><a href=\"/store/books/look.php?p_code=B8498015749\">재미있고 빠른 숫자 쓰기 2권 : 0부터 100까지</a></td>',\n",
       " '<td class=\"left\"><a href=\"/store/books/look.php?p_code=B9329914886\">재미있고 빠른 알파벳 쓰기</a></td>',\n",
       " '<td class=\"left\"><a href=\"/store/books/look.php?p_code=B3467206212\">이기적이라 살아남았습니다</a></td>',\n",
       " '<td class=\"left\"><a href=\"/store/books/look.php?p_code=B2179952545\">비즈니스 애널리틱스</a></td>',\n",
       " '<td class=\"left\"><a href=\"/store/books/look.php?p_code=B1047091568\">스벨트 앤 새퍼 인 액션</a></td>',\n",
       " '<td class=\"left\"><a href=\"/store/books/look.php?p_code=B2499110389\">STEM CookBook, 문제 해결력을 키우는 정역학</a></td>',\n",
       " '<td class=\"left\"><a href=\"/store/books/look.php?p_code=B7623190015\">최신 관리회계</a></td>',\n",
       " '<td class=\"left\"><a href=\"/store/books/look.php?p_code=B4300598719\">리눅스 입문자를 위한 명령어 사전</a></td>',\n",
       " '<td class=\"left\"><a href=\"/store/books/look.php?p_code=B9108907099\">파타고니아 이야기</a></td>',\n",
       " '<td class=\"left\"><a href=\"/store/books/look.php?p_code=B7015117381\">풀스택 서버리스 :  리액트, AWS, 그래프QL을 이용한 최신 애플리케이션 개발</a></td>',\n",
       " '<td class=\"left\"><a href=\"/store/books/look.php?p_code=B7448632539\">한 권으로 배우는 작고 예쁜 꽃자수</a></td>',\n",
       " '<td class=\"left\"><a href=\"/store/books/look.php?p_code=B3148701816\">IT CookBook, 처음 만나는 회로이론&#40;2판&#41;</a></td>',\n",
       " '<td class=\"left\"><a href=\"/store/books/look.php?p_code=B2591303726\">안전필수 시스템 제어 설계</a></td>',\n",
       " '<td class=\"left\"><a href=\"/store/books/look.php?p_code=B7468885216\">러닝 리액트&#40;2판&#41;</a></td>',\n",
       " '<td class=\"left\"><a href=\"/store/books/look.php?p_code=B9354330938\">업무에 바로 쓰는 SQL 튜닝</a></td>',\n",
       " '<td class=\"left\"><a href=\"/store/books/look.php?p_code=B9602652686\">데이터 스토리</a></td>',\n",
       " '<td class=\"left\"><a href=\"/store/books/look.php?p_code=B1108557246\">상식의 재구성</a></td>',\n",
       " '<td class=\"left\"><a href=\"/store/books/look.php?p_code=B3573121629\">처음 배우는 네트워크 보안</a></td>',\n",
       " '<td class=\"left\"><a href=\"/store/books/look.php?p_code=B6918140228\">찾아도 찾아도 끝판왕 1000개 숨은그림찾기 우리 동네</a></td>',\n",
       " '<td class=\"left\"><a href=\"/store/books/look.php?p_code=B9380943452\">찾아도 찾아도 끝판왕 1000개 숨은그림찾기 숲속 놀이터</a></td>',\n",
       " '<td class=\"left\"><a href=\"/store/books/look.php?p_code=B2388883228\">IT CookBook, 디지털 콘텐츠 기획&#40;2판&#41;</a></td>',\n",
       " '<td class=\"left\"><a href=\"/store/books/look.php?p_code=B3006151946\">IT CookBook, C로 배우는 쉬운 자료구조&#40;4판&#41;</a></td>',\n",
       " '<td class=\"left\"><a href=\"/store/books/look.php?p_code=B4766499846\">IT CookBook, 쉽게 배우는 소프트웨어 공학&#40;2판&#41;</a></td>',\n",
       " '<td class=\"left\"><a href=\"/store/books/look.php?p_code=B1904486238\">IT CookBook, 컴퓨터 구조와 원리 3.0</a></td>',\n",
       " '<td class=\"left\"><a href=\"/store/books/look.php?p_code=B2500085297\">IT CookBook, 최신 기술 동향으로 알아보는 ICT와 4차 산업혁명</a></td>',\n",
       " '<td class=\"left\"><a href=\"/store/books/look.php?p_code=B3935386244\">초보 판매자가 빅파워셀러로 거듭나는 네이버 스마트스토어 마케팅 시작하기</a></td>',\n",
       " '<td class=\"left\"><a href=\"/store/books/look.php?p_code=B5696471156\">STEM CookBook, 한 걸음씩 알아가는 선형대수학</a></td>',\n",
       " '<td class=\"left\"><a href=\"/store/books/look.php?p_code=B4712980610\">STEM CookBook, 해석학 첫걸음</a></td>']"
      ]
     },
     "execution_count": 14,
     "metadata": {},
     "output_type": "execute_result"
    }
   ],
   "source": [
    "re.findall(r'<td class=\"left\"><a.*?</td>', html, re.DOTALL)"
   ]
  },
  {
   "cell_type": "code",
   "execution_count": 15,
   "id": "1c1ce445-9bee-403f-96cd-00b46e8be3c4",
   "metadata": {},
   "outputs": [
    {
     "name": "stdout",
     "output_type": "stream",
     "text": [
      "url: http://www.hanbit.co.kr/store/books/look.php?p_code=B9923613168\n",
      "title: 모바일 UX/UI 디자인 강의 with Adobe XD\n",
      "---\n",
      "url: http://www.hanbit.co.kr/store/books/look.php?p_code=B9037188841\n",
      "title: 방구석 심리학 실험실\n",
      "---\n",
      "url: http://www.hanbit.co.kr/store/books/look.php?p_code=B8955111301\n",
      "title: 스파크를 이용한 자연어 처리\n",
      "---\n",
      "url: http://www.hanbit.co.kr/store/books/look.php?p_code=B6758255857\n",
      "title: 클라우드 네이티브를 위한 데이터 센터 네트워크 구축\n",
      "---\n",
      "url: http://www.hanbit.co.kr/store/books/look.php?p_code=B9737048306\n",
      "title: 감으로만 일하던 김 팀장은 어떻게 데이터 좀 아는 팀장이 되었나\n",
      "---\n",
      "url: http://www.hanbit.co.kr/store/books/look.php?p_code=B1833400260\n",
      "title: 쉽게 배우고 익히는 회계원리[객관식/학습문제 해답](4판)\n",
      "---\n",
      "url: http://www.hanbit.co.kr/store/books/look.php?p_code=B9009516784\n",
      "title: 미래조직을 위한 조직설계의 이해(4판)\n",
      "---\n",
      "url: http://www.hanbit.co.kr/store/books/look.php?p_code=B7533828722\n",
      "title: 쉽게 배우고 익히는 회계원리(4판)\n",
      "---\n",
      "url: http://www.hanbit.co.kr/store/books/look.php?p_code=B7970422863\n",
      "title: fastai와 파이토치가 만나 꽃피운 딥러닝\n",
      "---\n",
      "url: http://www.hanbit.co.kr/store/books/look.php?p_code=B8128498093\n",
      "title: 스케치업 & V-Ray 트레이닝 북(개정판)\n",
      "---\n",
      "url: http://www.hanbit.co.kr/store/books/look.php?p_code=B6993093151\n",
      "title: IT CookBook, 짧고 굵게 배우는 JSP 웹 프로그래밍과 스프링 프레임워크\n",
      "---\n",
      "url: http://www.hanbit.co.kr/store/books/look.php?p_code=B7030127165\n",
      "title: 생각과 말로 글을 늘리는 초등 10분 글쓰기\n",
      "---\n",
      "url: http://www.hanbit.co.kr/store/books/look.php?p_code=B7628794939\n",
      "title: 만들면서 배우는 파이토치 딥러닝\n",
      "---\n",
      "url: http://www.hanbit.co.kr/store/books/look.php?p_code=B9949658683\n",
      "title: 데이터베이스 시스템(7판)\n",
      "---\n",
      "url: http://www.hanbit.co.kr/store/books/look.php?p_code=B9783423109\n",
      "title: 실리콘밸리 리더십\n",
      "---\n",
      "url: http://www.hanbit.co.kr/store/books/look.php?p_code=B1598189984\n",
      "title: 처음 시작하는 마이크로서비스\n",
      "---\n",
      "url: http://www.hanbit.co.kr/store/books/look.php?p_code=B7123382765\n",
      "title: 눈 떠보니 선진국\n",
      "---\n",
      "url: http://www.hanbit.co.kr/store/books/look.php?p_code=B2354289186\n",
      "title: 텐서플로 라이트를 활용한 안드로이드 딥러닝\n",
      "---\n",
      "url: http://www.hanbit.co.kr/store/books/look.php?p_code=B9934227624\n",
      "title: 회사에서 바로 통하는  오토캐드 AutoCAD 2022\n",
      "---\n",
      "url: http://www.hanbit.co.kr/store/books/look.php?p_code=B3464803426\n",
      "title: 5리터의 피\n",
      "---\n",
      "url: http://www.hanbit.co.kr/store/books/look.php?p_code=B4332804661\n",
      "title: 미국주식 스팩투자법\n",
      "---\n",
      "url: http://www.hanbit.co.kr/store/books/look.php?p_code=B3130478771\n",
      "title: 재미있고 빠른 숫자 쓰기 1권 : 0부터 50까지\n",
      "---\n",
      "url: http://www.hanbit.co.kr/store/books/look.php?p_code=B8498015749\n",
      "title: 재미있고 빠른 숫자 쓰기 2권 : 0부터 100까지\n",
      "---\n",
      "url: http://www.hanbit.co.kr/store/books/look.php?p_code=B9329914886\n",
      "title: 재미있고 빠른 알파벳 쓰기\n",
      "---\n",
      "url: http://www.hanbit.co.kr/store/books/look.php?p_code=B3467206212\n",
      "title: 이기적이라 살아남았습니다\n",
      "---\n",
      "url: http://www.hanbit.co.kr/store/books/look.php?p_code=B2179952545\n",
      "title: 비즈니스 애널리틱스\n",
      "---\n",
      "url: http://www.hanbit.co.kr/store/books/look.php?p_code=B1047091568\n",
      "title: 스벨트 앤 새퍼 인 액션\n",
      "---\n",
      "url: http://www.hanbit.co.kr/store/books/look.php?p_code=B2499110389\n",
      "title: STEM CookBook, 문제 해결력을 키우는 정역학\n",
      "---\n",
      "url: http://www.hanbit.co.kr/store/books/look.php?p_code=B7623190015\n",
      "title: 최신 관리회계\n",
      "---\n",
      "url: http://www.hanbit.co.kr/store/books/look.php?p_code=B4300598719\n",
      "title: 리눅스 입문자를 위한 명령어 사전\n",
      "---\n",
      "url: http://www.hanbit.co.kr/store/books/look.php?p_code=B9108907099\n",
      "title: 파타고니아 이야기\n",
      "---\n",
      "url: http://www.hanbit.co.kr/store/books/look.php?p_code=B7015117381\n",
      "title: 풀스택 서버리스 :  리액트, AWS, 그래프QL을 이용한 최신 애플리케이션 개발\n",
      "---\n",
      "url: http://www.hanbit.co.kr/store/books/look.php?p_code=B7448632539\n",
      "title: 한 권으로 배우는 작고 예쁜 꽃자수\n",
      "---\n",
      "url: http://www.hanbit.co.kr/store/books/look.php?p_code=B3148701816\n",
      "title: IT CookBook, 처음 만나는 회로이론(2판)\n",
      "---\n",
      "url: http://www.hanbit.co.kr/store/books/look.php?p_code=B2591303726\n",
      "title: 안전필수 시스템 제어 설계\n",
      "---\n",
      "url: http://www.hanbit.co.kr/store/books/look.php?p_code=B7468885216\n",
      "title: 러닝 리액트(2판)\n",
      "---\n",
      "url: http://www.hanbit.co.kr/store/books/look.php?p_code=B9354330938\n",
      "title: 업무에 바로 쓰는 SQL 튜닝\n",
      "---\n",
      "url: http://www.hanbit.co.kr/store/books/look.php?p_code=B9602652686\n",
      "title: 데이터 스토리\n",
      "---\n",
      "url: http://www.hanbit.co.kr/store/books/look.php?p_code=B1108557246\n",
      "title: 상식의 재구성\n",
      "---\n",
      "url: http://www.hanbit.co.kr/store/books/look.php?p_code=B3573121629\n",
      "title: 처음 배우는 네트워크 보안\n",
      "---\n",
      "url: http://www.hanbit.co.kr/store/books/look.php?p_code=B6918140228\n",
      "title: 찾아도 찾아도 끝판왕 1000개 숨은그림찾기 우리 동네\n",
      "---\n",
      "url: http://www.hanbit.co.kr/store/books/look.php?p_code=B9380943452\n",
      "title: 찾아도 찾아도 끝판왕 1000개 숨은그림찾기 숲속 놀이터\n",
      "---\n",
      "url: http://www.hanbit.co.kr/store/books/look.php?p_code=B2388883228\n",
      "title: IT CookBook, 디지털 콘텐츠 기획(2판)\n",
      "---\n",
      "url: http://www.hanbit.co.kr/store/books/look.php?p_code=B3006151946\n",
      "title: IT CookBook, C로 배우는 쉬운 자료구조(4판)\n",
      "---\n",
      "url: http://www.hanbit.co.kr/store/books/look.php?p_code=B4766499846\n",
      "title: IT CookBook, 쉽게 배우는 소프트웨어 공학(2판)\n",
      "---\n",
      "url: http://www.hanbit.co.kr/store/books/look.php?p_code=B1904486238\n",
      "title: IT CookBook, 컴퓨터 구조와 원리 3.0\n",
      "---\n",
      "url: http://www.hanbit.co.kr/store/books/look.php?p_code=B2500085297\n",
      "title: IT CookBook, 최신 기술 동향으로 알아보는 ICT와 4차 산업혁명\n",
      "---\n",
      "url: http://www.hanbit.co.kr/store/books/look.php?p_code=B3935386244\n",
      "title: 초보 판매자가 빅파워셀러로 거듭나는 네이버 스마트스토어 마케팅 시작하기\n",
      "---\n",
      "url: http://www.hanbit.co.kr/store/books/look.php?p_code=B5696471156\n",
      "title: STEM CookBook, 한 걸음씩 알아가는 선형대수학\n",
      "---\n",
      "url: http://www.hanbit.co.kr/store/books/look.php?p_code=B4712980610\n",
      "title: STEM CookBook, 해석학 첫걸음\n",
      "---\n"
     ]
    }
   ],
   "source": [
    "# re.findall() 메서드를 통해 도서 하나에 해당하는 HTML을 추출\n",
    "for partial_html in re.findall(r'<td class=\"left\"><a.*?</td>', html, re.DOTALL):\n",
    "    # 도서의 URL을 추출\n",
    "    url = re.search(r'<a href=\"(.*?)\">', partial_html).group(1)\n",
    "    url = 'http://www.hanbit.co.kr' + url\n",
    "    # 태그를 제거해서 도서의 제목을 추출\n",
    "    title = re.sub(r'<.*?>', '', partial_html)\n",
    "    title = unescape(title)\n",
    "    print('url:', url)\n",
    "    print('title:', title)\n",
    "    print('---')"
   ]
  },
  {
   "cell_type": "markdown",
   "id": "263095b7-19a2-4360-b5a9-df472ad58988",
   "metadata": {},
   "source": [
    "### 2. XML을 이용한 스크래핑"
   ]
  },
  {
   "cell_type": "markdown",
   "id": "ecdeebd5-4381-481d-9b19-82734449668a",
   "metadata": {},
   "source": [
    "* RSS 스크래핑"
   ]
  },
  {
   "cell_type": "code",
   "execution_count": 16,
   "id": "b87243f9-219e-4a86-9f77-2a58e9ba59d9",
   "metadata": {},
   "outputs": [],
   "source": [
    "# ElementTree 모듈을 로드\n",
    "from xml.etree import ElementTree"
   ]
  },
  {
   "cell_type": "code",
   "execution_count": 17,
   "id": "1cc55c7e-3e63-48cd-977f-7d27832dc7b8",
   "metadata": {},
   "outputs": [],
   "source": [
    "# parse() 함수로 파일을 읽고 ElementTree 객체를 생성\n",
    "tree = ElementTree.parse('rss.xml')"
   ]
  },
  {
   "cell_type": "code",
   "execution_count": 18,
   "id": "da751deb-2d76-4764-87b6-a2a31f5d8cba",
   "metadata": {},
   "outputs": [],
   "source": [
    "# getroot() 메서드로 XML의 루트 element를 추출\n",
    "root = tree.getroot()"
   ]
  },
  {
   "cell_type": "code",
   "execution_count": 19,
   "id": "433cc17e-c035-485e-8949-30f2e6566ee4",
   "metadata": {},
   "outputs": [],
   "source": [
    "import pandas as pd"
   ]
  },
  {
   "cell_type": "code",
   "execution_count": 20,
   "id": "3f653774-1620-423a-8fea-46ceb4d425e0",
   "metadata": {},
   "outputs": [
    {
     "data": {
      "text/html": [
       "<div>\n",
       "<style scoped>\n",
       "    .dataframe tbody tr th:only-of-type {\n",
       "        vertical-align: middle;\n",
       "    }\n",
       "\n",
       "    .dataframe tbody tr th {\n",
       "        vertical-align: top;\n",
       "    }\n",
       "\n",
       "    .dataframe thead th {\n",
       "        text-align: right;\n",
       "    }\n",
       "</style>\n",
       "<table border=\"1\" class=\"dataframe\">\n",
       "  <thead>\n",
       "    <tr style=\"text-align: right;\">\n",
       "      <th></th>\n",
       "      <th>일시</th>\n",
       "      <th>최저기온</th>\n",
       "      <th>최고기온</th>\n",
       "      <th>날씨</th>\n",
       "    </tr>\n",
       "  </thead>\n",
       "  <tbody>\n",
       "    <tr>\n",
       "      <th>0</th>\n",
       "      <td>2020-06-25 00:00</td>\n",
       "      <td>21</td>\n",
       "      <td>26</td>\n",
       "      <td>흐리고 비</td>\n",
       "    </tr>\n",
       "    <tr>\n",
       "      <th>0</th>\n",
       "      <td>2020-06-25 12:00</td>\n",
       "      <td>21</td>\n",
       "      <td>26</td>\n",
       "      <td>흐리고 비</td>\n",
       "    </tr>\n",
       "    <tr>\n",
       "      <th>0</th>\n",
       "      <td>2020-06-26 00:00</td>\n",
       "      <td>21</td>\n",
       "      <td>29</td>\n",
       "      <td>흐리고 비</td>\n",
       "    </tr>\n",
       "    <tr>\n",
       "      <th>0</th>\n",
       "      <td>2020-06-26 12:00</td>\n",
       "      <td>21</td>\n",
       "      <td>29</td>\n",
       "      <td>구름많음</td>\n",
       "    </tr>\n",
       "    <tr>\n",
       "      <th>0</th>\n",
       "      <td>2020-06-27 00:00</td>\n",
       "      <td>22</td>\n",
       "      <td>29</td>\n",
       "      <td>구름많음</td>\n",
       "    </tr>\n",
       "    <tr>\n",
       "      <th>...</th>\n",
       "      <td>...</td>\n",
       "      <td>...</td>\n",
       "      <td>...</td>\n",
       "      <td>...</td>\n",
       "    </tr>\n",
       "    <tr>\n",
       "      <th>0</th>\n",
       "      <td>2020-06-29 00:00</td>\n",
       "      <td>23</td>\n",
       "      <td>26</td>\n",
       "      <td>흐리고 비</td>\n",
       "    </tr>\n",
       "    <tr>\n",
       "      <th>0</th>\n",
       "      <td>2020-06-29 12:00</td>\n",
       "      <td>23</td>\n",
       "      <td>26</td>\n",
       "      <td>흐리고 비</td>\n",
       "    </tr>\n",
       "    <tr>\n",
       "      <th>0</th>\n",
       "      <td>2020-06-30 00:00</td>\n",
       "      <td>22</td>\n",
       "      <td>26</td>\n",
       "      <td>흐리고 비</td>\n",
       "    </tr>\n",
       "    <tr>\n",
       "      <th>0</th>\n",
       "      <td>2020-07-01 00:00</td>\n",
       "      <td>22</td>\n",
       "      <td>26</td>\n",
       "      <td>흐리고 비</td>\n",
       "    </tr>\n",
       "    <tr>\n",
       "      <th>0</th>\n",
       "      <td>2020-07-02 00:00</td>\n",
       "      <td>22</td>\n",
       "      <td>27</td>\n",
       "      <td>흐림</td>\n",
       "    </tr>\n",
       "  </tbody>\n",
       "</table>\n",
       "<p>533 rows × 4 columns</p>\n",
       "</div>"
      ],
      "text/plain": [
       "                  일시 최저기온 최고기온     날씨\n",
       "0   2020-06-25 00:00   21   26  흐리고 비\n",
       "0   2020-06-25 12:00   21   26  흐리고 비\n",
       "0   2020-06-26 00:00   21   29  흐리고 비\n",
       "0   2020-06-26 12:00   21   29   구름많음\n",
       "0   2020-06-27 00:00   22   29   구름많음\n",
       "..               ...  ...  ...    ...\n",
       "0   2020-06-29 00:00   23   26  흐리고 비\n",
       "0   2020-06-29 12:00   23   26  흐리고 비\n",
       "0   2020-06-30 00:00   22   26  흐리고 비\n",
       "0   2020-07-01 00:00   22   26  흐리고 비\n",
       "0   2020-07-02 00:00   22   27     흐림\n",
       "\n",
       "[533 rows x 4 columns]"
      ]
     },
     "execution_count": 20,
     "metadata": {},
     "output_type": "execute_result"
    }
   ],
   "source": [
    "데이터프레임_리스트 = []\n",
    "for item in root.findall('channel/item/description/body/location/data'):\n",
    "    # find() 메서드로 element 탐색, text 속성으로 값을 추출\n",
    "    tm_ef = item.find('tmEf').text\n",
    "    tmn = item.find('tmn').text\n",
    "    tmx = item.find('tmx').text\n",
    "    wf = item.find('wf').text\n",
    "    데이터프레임 = pd.DataFrame({\n",
    "        '일시':[tm_ef],\n",
    "        '최저기온':[tmn],\n",
    "        '최고기온':[tmx],\n",
    "        '날씨':[wf],\n",
    "    })\n",
    "    데이터프레임_리스트.append(데이터프레임)\n",
    "날씨정보 = pd.concat(데이터프레임_리스트)\n",
    "날씨정보  "
   ]
  },
  {
   "cell_type": "code",
   "execution_count": 21,
   "id": "9f0386dd-ce8e-450f-8501-191e7ef35edc",
   "metadata": {},
   "outputs": [
    {
     "data": {
      "text/plain": [
       "pandas.core.frame.DataFrame"
      ]
     },
     "execution_count": 21,
     "metadata": {},
     "output_type": "execute_result"
    }
   ],
   "source": [
    "type(날씨정보)"
   ]
  },
  {
   "cell_type": "code",
   "execution_count": 22,
   "id": "c4f4a6c1-2da9-4172-8ba1-07670870bebb",
   "metadata": {},
   "outputs": [],
   "source": [
    "날씨정보.to_csv('날씨정보.csv')"
   ]
  },
  {
   "cell_type": "code",
   "execution_count": 23,
   "id": "a035cf45-279e-41c3-ae7d-b006b63e1091",
   "metadata": {},
   "outputs": [],
   "source": [
    "엑셀 = pd.ExcelWriter('날씨정보.xlsx')\n",
    "날씨정보.to_excel(엑셀, '.', index=False)\n",
    "엑셀.save()"
   ]
  },
  {
   "cell_type": "code",
   "execution_count": null,
   "id": "8bf60124-70fd-4e00-b354-4cb67ad86c60",
   "metadata": {},
   "outputs": [],
   "source": []
  },
  {
   "cell_type": "code",
   "execution_count": null,
   "id": "68c46ec6-b1e3-4fce-8581-c741418cc47e",
   "metadata": {},
   "outputs": [],
   "source": []
  },
  {
   "cell_type": "code",
   "execution_count": 24,
   "id": "b98e70bd-adcd-4419-9e2f-10242aea153a",
   "metadata": {},
   "outputs": [],
   "source": [
    "날씨정보.reset_index(drop=True, inplace=True)"
   ]
  },
  {
   "cell_type": "code",
   "execution_count": 25,
   "id": "c56bfa17-89a1-47e3-adc5-6a58dd852e0c",
   "metadata": {},
   "outputs": [],
   "source": [
    "날씨정보.to_json('날씨정보.json')"
   ]
  },
  {
   "cell_type": "code",
   "execution_count": 26,
   "id": "2e7c794a-d6ea-4f2f-99d2-b58a31eada9f",
   "metadata": {},
   "outputs": [],
   "source": [
    "import sqlite3\n",
    "from pandas.io import sql\n",
    "import os"
   ]
  },
  {
   "cell_type": "code",
   "execution_count": 27,
   "id": "387a50b2-0ccc-4140-a6b8-e2e0c35eee09",
   "metadata": {},
   "outputs": [],
   "source": [
    "with sqlite3.connect(os.path.join('.','sqliteDB')) as con: # sqlite DB 파일이 존재하지 않는 경우 파일생성\n",
    "    try:\n",
    "        날씨정보.to_sql(name = 'WEATHER_INFO', con = con, index = False, if_exists='append') \n",
    "        #if_exists : {'fail', 'replace', 'append'} default : fail\n",
    "    except Exception as e:\n",
    "        print(str(e))\n",
    "    \n",
    "    query = 'SELECT * FROM WEATHER_INFO'\n",
    "    데이터프레임1 = pd.read_sql(query, con = con)"
   ]
  },
  {
   "cell_type": "code",
   "execution_count": 28,
   "id": "ba79c21c-783f-4eb6-a42c-4e76a3f48ec4",
   "metadata": {},
   "outputs": [
    {
     "data": {
      "text/html": [
       "<div>\n",
       "<style scoped>\n",
       "    .dataframe tbody tr th:only-of-type {\n",
       "        vertical-align: middle;\n",
       "    }\n",
       "\n",
       "    .dataframe tbody tr th {\n",
       "        vertical-align: top;\n",
       "    }\n",
       "\n",
       "    .dataframe thead th {\n",
       "        text-align: right;\n",
       "    }\n",
       "</style>\n",
       "<table border=\"1\" class=\"dataframe\">\n",
       "  <thead>\n",
       "    <tr style=\"text-align: right;\">\n",
       "      <th></th>\n",
       "      <th>일시</th>\n",
       "      <th>최저기온</th>\n",
       "      <th>최고기온</th>\n",
       "      <th>날씨</th>\n",
       "    </tr>\n",
       "  </thead>\n",
       "  <tbody>\n",
       "    <tr>\n",
       "      <th>0</th>\n",
       "      <td>2020-06-25 00:00</td>\n",
       "      <td>21</td>\n",
       "      <td>26</td>\n",
       "      <td>흐리고 비</td>\n",
       "    </tr>\n",
       "    <tr>\n",
       "      <th>1</th>\n",
       "      <td>2020-06-25 12:00</td>\n",
       "      <td>21</td>\n",
       "      <td>26</td>\n",
       "      <td>흐리고 비</td>\n",
       "    </tr>\n",
       "    <tr>\n",
       "      <th>2</th>\n",
       "      <td>2020-06-26 00:00</td>\n",
       "      <td>21</td>\n",
       "      <td>29</td>\n",
       "      <td>흐리고 비</td>\n",
       "    </tr>\n",
       "    <tr>\n",
       "      <th>3</th>\n",
       "      <td>2020-06-26 12:00</td>\n",
       "      <td>21</td>\n",
       "      <td>29</td>\n",
       "      <td>구름많음</td>\n",
       "    </tr>\n",
       "    <tr>\n",
       "      <th>4</th>\n",
       "      <td>2020-06-27 00:00</td>\n",
       "      <td>22</td>\n",
       "      <td>29</td>\n",
       "      <td>구름많음</td>\n",
       "    </tr>\n",
       "    <tr>\n",
       "      <th>...</th>\n",
       "      <td>...</td>\n",
       "      <td>...</td>\n",
       "      <td>...</td>\n",
       "      <td>...</td>\n",
       "    </tr>\n",
       "    <tr>\n",
       "      <th>1594</th>\n",
       "      <td>2020-06-29 00:00</td>\n",
       "      <td>23</td>\n",
       "      <td>26</td>\n",
       "      <td>흐리고 비</td>\n",
       "    </tr>\n",
       "    <tr>\n",
       "      <th>1595</th>\n",
       "      <td>2020-06-29 12:00</td>\n",
       "      <td>23</td>\n",
       "      <td>26</td>\n",
       "      <td>흐리고 비</td>\n",
       "    </tr>\n",
       "    <tr>\n",
       "      <th>1596</th>\n",
       "      <td>2020-06-30 00:00</td>\n",
       "      <td>22</td>\n",
       "      <td>26</td>\n",
       "      <td>흐리고 비</td>\n",
       "    </tr>\n",
       "    <tr>\n",
       "      <th>1597</th>\n",
       "      <td>2020-07-01 00:00</td>\n",
       "      <td>22</td>\n",
       "      <td>26</td>\n",
       "      <td>흐리고 비</td>\n",
       "    </tr>\n",
       "    <tr>\n",
       "      <th>1598</th>\n",
       "      <td>2020-07-02 00:00</td>\n",
       "      <td>22</td>\n",
       "      <td>27</td>\n",
       "      <td>흐림</td>\n",
       "    </tr>\n",
       "  </tbody>\n",
       "</table>\n",
       "<p>1599 rows × 4 columns</p>\n",
       "</div>"
      ],
      "text/plain": [
       "                    일시 최저기온 최고기온     날씨\n",
       "0     2020-06-25 00:00   21   26  흐리고 비\n",
       "1     2020-06-25 12:00   21   26  흐리고 비\n",
       "2     2020-06-26 00:00   21   29  흐리고 비\n",
       "3     2020-06-26 12:00   21   29   구름많음\n",
       "4     2020-06-27 00:00   22   29   구름많음\n",
       "...                ...  ...  ...    ...\n",
       "1594  2020-06-29 00:00   23   26  흐리고 비\n",
       "1595  2020-06-29 12:00   23   26  흐리고 비\n",
       "1596  2020-06-30 00:00   22   26  흐리고 비\n",
       "1597  2020-07-01 00:00   22   26  흐리고 비\n",
       "1598  2020-07-02 00:00   22   27     흐림\n",
       "\n",
       "[1599 rows x 4 columns]"
      ]
     },
     "execution_count": 28,
     "metadata": {},
     "output_type": "execute_result"
    }
   ],
   "source": [
    "데이터프레임1"
   ]
  },
  {
   "cell_type": "code",
   "execution_count": 29,
   "id": "22213403-9c37-4fc8-9de9-5e703e15fd7e",
   "metadata": {},
   "outputs": [],
   "source": [
    "엑셀 = pd.ExcelWriter('날씨정보2.xlsx')\n",
    "데이터프레임1.to_excel(엑셀, '.', index=False)\n",
    "엑셀.save()"
   ]
  },
  {
   "cell_type": "code",
   "execution_count": 30,
   "id": "d64f09d1-7e1d-40ce-ab3e-1aca00b2dd94",
   "metadata": {},
   "outputs": [],
   "source": [
    "df = pd.read_excel('날씨정보2.xlsx')"
   ]
  },
  {
   "cell_type": "code",
   "execution_count": 31,
   "id": "63fffbf6-512e-401e-af26-8bafd6d51eca",
   "metadata": {},
   "outputs": [
    {
     "data": {
      "text/html": [
       "<div>\n",
       "<style scoped>\n",
       "    .dataframe tbody tr th:only-of-type {\n",
       "        vertical-align: middle;\n",
       "    }\n",
       "\n",
       "    .dataframe tbody tr th {\n",
       "        vertical-align: top;\n",
       "    }\n",
       "\n",
       "    .dataframe thead th {\n",
       "        text-align: right;\n",
       "    }\n",
       "</style>\n",
       "<table border=\"1\" class=\"dataframe\">\n",
       "  <thead>\n",
       "    <tr style=\"text-align: right;\">\n",
       "      <th></th>\n",
       "      <th>일시</th>\n",
       "      <th>최저기온</th>\n",
       "      <th>최고기온</th>\n",
       "      <th>날씨</th>\n",
       "    </tr>\n",
       "  </thead>\n",
       "  <tbody>\n",
       "    <tr>\n",
       "      <th>0</th>\n",
       "      <td>2020-06-25 00:00</td>\n",
       "      <td>21</td>\n",
       "      <td>26</td>\n",
       "      <td>흐리고 비</td>\n",
       "    </tr>\n",
       "    <tr>\n",
       "      <th>1</th>\n",
       "      <td>2020-06-25 12:00</td>\n",
       "      <td>21</td>\n",
       "      <td>26</td>\n",
       "      <td>흐리고 비</td>\n",
       "    </tr>\n",
       "    <tr>\n",
       "      <th>2</th>\n",
       "      <td>2020-06-26 00:00</td>\n",
       "      <td>21</td>\n",
       "      <td>29</td>\n",
       "      <td>흐리고 비</td>\n",
       "    </tr>\n",
       "    <tr>\n",
       "      <th>3</th>\n",
       "      <td>2020-06-26 12:00</td>\n",
       "      <td>21</td>\n",
       "      <td>29</td>\n",
       "      <td>구름많음</td>\n",
       "    </tr>\n",
       "    <tr>\n",
       "      <th>4</th>\n",
       "      <td>2020-06-27 00:00</td>\n",
       "      <td>22</td>\n",
       "      <td>29</td>\n",
       "      <td>구름많음</td>\n",
       "    </tr>\n",
       "    <tr>\n",
       "      <th>...</th>\n",
       "      <td>...</td>\n",
       "      <td>...</td>\n",
       "      <td>...</td>\n",
       "      <td>...</td>\n",
       "    </tr>\n",
       "    <tr>\n",
       "      <th>1594</th>\n",
       "      <td>2020-06-29 00:00</td>\n",
       "      <td>23</td>\n",
       "      <td>26</td>\n",
       "      <td>흐리고 비</td>\n",
       "    </tr>\n",
       "    <tr>\n",
       "      <th>1595</th>\n",
       "      <td>2020-06-29 12:00</td>\n",
       "      <td>23</td>\n",
       "      <td>26</td>\n",
       "      <td>흐리고 비</td>\n",
       "    </tr>\n",
       "    <tr>\n",
       "      <th>1596</th>\n",
       "      <td>2020-06-30 00:00</td>\n",
       "      <td>22</td>\n",
       "      <td>26</td>\n",
       "      <td>흐리고 비</td>\n",
       "    </tr>\n",
       "    <tr>\n",
       "      <th>1597</th>\n",
       "      <td>2020-07-01 00:00</td>\n",
       "      <td>22</td>\n",
       "      <td>26</td>\n",
       "      <td>흐리고 비</td>\n",
       "    </tr>\n",
       "    <tr>\n",
       "      <th>1598</th>\n",
       "      <td>2020-07-02 00:00</td>\n",
       "      <td>22</td>\n",
       "      <td>27</td>\n",
       "      <td>흐림</td>\n",
       "    </tr>\n",
       "  </tbody>\n",
       "</table>\n",
       "<p>1599 rows × 4 columns</p>\n",
       "</div>"
      ],
      "text/plain": [
       "                    일시  최저기온  최고기온     날씨\n",
       "0     2020-06-25 00:00    21    26  흐리고 비\n",
       "1     2020-06-25 12:00    21    26  흐리고 비\n",
       "2     2020-06-26 00:00    21    29  흐리고 비\n",
       "3     2020-06-26 12:00    21    29   구름많음\n",
       "4     2020-06-27 00:00    22    29   구름많음\n",
       "...                ...   ...   ...    ...\n",
       "1594  2020-06-29 00:00    23    26  흐리고 비\n",
       "1595  2020-06-29 12:00    23    26  흐리고 비\n",
       "1596  2020-06-30 00:00    22    26  흐리고 비\n",
       "1597  2020-07-01 00:00    22    26  흐리고 비\n",
       "1598  2020-07-02 00:00    22    27     흐림\n",
       "\n",
       "[1599 rows x 4 columns]"
      ]
     },
     "execution_count": 31,
     "metadata": {},
     "output_type": "execute_result"
    }
   ],
   "source": [
    "df"
   ]
  }
 ],
 "metadata": {
  "kernelspec": {
   "display_name": "Python 3",
   "language": "python",
   "name": "python3"
  },
  "language_info": {
   "codemirror_mode": {
    "name": "ipython",
    "version": 3
   },
   "file_extension": ".py",
   "mimetype": "text/x-python",
   "name": "python",
   "nbconvert_exporter": "python",
   "pygments_lexer": "ipython3",
   "version": "3.8.8"
  }
 },
 "nbformat": 4,
 "nbformat_minor": 5
}
