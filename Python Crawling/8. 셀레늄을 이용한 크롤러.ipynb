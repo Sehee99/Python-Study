{
 "cells": [
  {
   "cell_type": "code",
   "execution_count": 1,
   "id": "04517f80-11a7-4a82-b318-b18414349669",
   "metadata": {},
   "outputs": [
    {
     "name": "stdout",
     "output_type": "stream",
     "text": [
      "Requirement already satisfied: selenium in c:\\users\\user\\anaconda3\\lib\\site-packages (3.141.0)\n",
      "Requirement already satisfied: urllib3 in c:\\users\\user\\anaconda3\\lib\\site-packages (from selenium) (1.26.4)\n",
      "Note: you may need to restart the kernel to use updated packages.\n"
     ]
    }
   ],
   "source": [
    "pip install selenium"
   ]
  },
  {
   "cell_type": "markdown",
   "id": "b18656ec-0f45-43eb-a57e-23eb9579e17b",
   "metadata": {},
   "source": [
    "### Webdriver 로드 및 크롬 브라우저 기동"
   ]
  },
  {
   "cell_type": "code",
   "execution_count": 2,
   "id": "98d566e9-7d12-4d59-9af4-278dc256c221",
   "metadata": {},
   "outputs": [],
   "source": [
    "from selenium.webdriver import Chrome\n",
    "import time\n",
    "import sqlite3\n",
    "from pandas.io import sql\n",
    "import os\n",
    "import pandas as pd"
   ]
  },
  {
   "cell_type": "code",
   "execution_count": 3,
   "id": "0f297456-7e03-4b47-bbf0-3e266c95c17b",
   "metadata": {},
   "outputs": [],
   "source": [
    "from selenium import webdriver\n",
    "\n",
    "options = webdriver.ChromeOptions()\n",
    "options.add_argument(\"--start-maximized\");   # 브라우저 크기 최대화\n",
    "\n",
    "browser = webdriver.Chrome('chromedriver', options = options)  # 옵션 반영"
   ]
  },
  {
   "cell_type": "markdown",
   "id": "b028849f-b5ae-4c6b-893f-98227883c2eb",
   "metadata": {},
   "source": [
    "### 기동된 브라우저를 통한 URL 접속"
   ]
  },
  {
   "cell_type": "code",
   "execution_count": 4,
   "id": "83ce4df9-d5f3-4169-8c92-7c67f7c89dfb",
   "metadata": {},
   "outputs": [],
   "source": [
    "browser.get('https://www.data.go.kr/')\n",
    "browser.implicitly_wait(5)  # 묵시적으로 5초 대기(네트워크 속도에 의해 지연될 수 있으므로)"
   ]
  },
  {
   "cell_type": "code",
   "execution_count": 5,
   "id": "22dee6d9-bda7-4531-9dd9-e43a05c9e017",
   "metadata": {},
   "outputs": [],
   "source": [
    "browser.find_element_by_xpath('//*[@id=\"header\"]/div/div/div/div[2]/div/a[1]').click()\n",
    "browser.implicitly_wait(5)"
   ]
  },
  {
   "cell_type": "markdown",
   "id": "8858f240-5e65-42b7-b4e5-1ef4ef64e352",
   "metadata": {},
   "source": [
    "### ID/Password 입력 및 로그인"
   ]
  },
  {
   "cell_type": "code",
   "execution_count": 6,
   "id": "09a64850-1e92-4135-a248-32d209f5322a",
   "metadata": {},
   "outputs": [],
   "source": [
    "browser.find_element_by_xpath('//*[@id=\"mberId\"]').send_keys('wjdtpgml99')"
   ]
  },
  {
   "cell_type": "code",
   "execution_count": 7,
   "id": "b8770eaa-de02-4d29-a5a8-f1725da3d27b",
   "metadata": {},
   "outputs": [],
   "source": [
    "browser.find_element_by_xpath('//*[@id=\"pswrd\"]').send_keys('tpgml586900!')"
   ]
  },
  {
   "cell_type": "code",
   "execution_count": 8,
   "id": "01058054-cf55-46c2-b863-e57eb452f510",
   "metadata": {},
   "outputs": [],
   "source": [
    "browser.find_element_by_xpath('//*[@id=\"loginVo\"]/div[2]/div[2]/div[2]/div/div[1]/button').click()\n",
    "browser.implicitly_wait(5)"
   ]
  },
  {
   "cell_type": "markdown",
   "id": "f5094f99-ecfe-46e8-bc67-a5610356d79d",
   "metadata": {},
   "source": [
    "### 정보공유 링크 클릭"
   ]
  },
  {
   "cell_type": "code",
   "execution_count": 9,
   "id": "cba3cec9-e78e-469a-a13e-eea8259fe480",
   "metadata": {},
   "outputs": [],
   "source": [
    "browser.find_element_by_xpath('//*[@id=\"M000400_pc\"]/a').click()"
   ]
  },
  {
   "cell_type": "markdown",
   "id": "1636d794-65e7-48bd-a72c-fbf4ba52229e",
   "metadata": {},
   "source": [
    "### 자료실 링크 클릭"
   ]
  },
  {
   "cell_type": "code",
   "execution_count": 10,
   "id": "df767b57-cece-47cc-ae34-74b3ad468243",
   "metadata": {},
   "outputs": [],
   "source": [
    "browser.find_element_by_xpath('//*[@id=\"M000402_pc\"]/a').click()"
   ]
  },
  {
   "cell_type": "markdown",
   "id": "d816f52e-9a8e-4f7f-a21b-3995e3d47c47",
   "metadata": {},
   "source": [
    "### 자료실 데이터 추출 및 저장"
   ]
  },
  {
   "cell_type": "code",
   "execution_count": 11,
   "id": "cbdaa4e6-db56-48a6-923e-fb99f3517c1a",
   "metadata": {},
   "outputs": [],
   "source": [
    "def db_save(ARTICLE_LIST):\n",
    "    with sqlite3.connect(os.path.join('.', 'sqliteDB')) as con:   # sqlite DB 파일이 존재하지 않는 경우 파일생성\n",
    "        try:\n",
    "            ARTICLE_LIST.to_sql(name = 'ARTICLE_LIST', con = con, index = False, if_exists = 'append')\n",
    "            #if_exists : {'fail', 'replace', 'append'} default : fail\n",
    "        except Exception as e:\n",
    "            print(str(e))\n",
    "        print(len(ARTICLE_LIST), '건 저장완료..')"
   ]
  },
  {
   "cell_type": "code",
   "execution_count": 12,
   "id": "4a8f1420-4057-4d22-980a-c1d5137874c1",
   "metadata": {},
   "outputs": [
    {
     "name": "stdout",
     "output_type": "stream",
     "text": [
      "10 건 저장완료..\n"
     ]
    }
   ],
   "source": [
    "trs = browser.find_elements_by_xpath('//*[@id=\"searchVO\"]/div[5]/table/tbody/tr')\n",
    "df_list = []\n",
    "for tr in trs:\n",
    "    df = pd.DataFrame({\n",
    "        'NO': [tr.find_element_by_xpath('td[1]').text],\n",
    "        'TITLE': [tr.find_element_by_xpath('td[2]').text],\n",
    "        'IQRY': [tr.find_element_by_xpath('td[3]').text],\n",
    "        'REGDT': [tr.find_element_by_xpath('td[4]').text],\n",
    "        'CHGDT': [tr.find_element_by_xpath('td[5]').text],\n",
    "    })\n",
    "    df_list.append(df)\n",
    "    \n",
    "ARTICLE_LIST = pd.concat(df_list)\n",
    "db_save(ARTICLE_LIST)"
   ]
  },
  {
   "cell_type": "markdown",
   "id": "4fe8b72e-9589-415a-a3f8-8f8c3a2de3cd",
   "metadata": {},
   "source": [
    "### 자료실 글 목록 상세보기 클릭"
   ]
  },
  {
   "cell_type": "code",
   "execution_count": 13,
   "id": "9940767d-0dd4-46a0-a20d-299e0963be7b",
   "metadata": {},
   "outputs": [],
   "source": [
    "browser.find_element_by_xpath('//*[@id=\"searchVO\"]/div[5]/table/tbody/tr[1]/td[2]/a').click()\n",
    "browser.implicitly_wait(3)"
   ]
  },
  {
   "cell_type": "markdown",
   "id": "383e1bf3-a150-4d30-b963-d20a09699c4b",
   "metadata": {},
   "source": [
    "### 상세보기 첨부파일 다운로드 및 브라우저 종료"
   ]
  },
  {
   "cell_type": "code",
   "execution_count": 14,
   "id": "28123a7c-f98d-41dd-99cf-94625f1118aa",
   "metadata": {},
   "outputs": [],
   "source": [
    "browser.find_element_by_xpath('//*[@id=\"recsroomDetail\"]/div[2]/div[4]/div/a').click()\n",
    "time.sleep(10)"
   ]
  },
  {
   "cell_type": "code",
   "execution_count": 15,
   "id": "8f53f4b9-e74f-4360-a2af-30e032f2e863",
   "metadata": {},
   "outputs": [],
   "source": [
    "browser.quit()  # 졸료 안하면 webdriver가 메모리 상에 계속 기동"
   ]
  },
  {
   "cell_type": "markdown",
   "id": "841dd81c-062c-4094-a896-fa132d95da10",
   "metadata": {},
   "source": [
    "---"
   ]
  },
  {
   "cell_type": "markdown",
   "id": "f090696e-2dcc-45fc-a42c-316f57a795e3",
   "metadata": {},
   "source": [
    "### * 브라우저를 기동하지 않고 background 작업 수행 - headless 기능 이용"
   ]
  },
  {
   "cell_type": "code",
   "execution_count": 16,
   "id": "53cc0054-669c-42bd-8fd6-89b0a8dc58a0",
   "metadata": {},
   "outputs": [],
   "source": [
    "options = webdriver.ChromeOptions()\n",
    "options.add_argument('--headless')\n",
    "options.add_argument('--disable-gpu')\n",
    "options.add_argument('--window-size=1280x1024')\n",
    "\n",
    "browser = webdriver.Chrome('chromedriver', options = options)"
   ]
  },
  {
   "cell_type": "code",
   "execution_count": 17,
   "id": "e6adca56-d19e-4a7d-8970-28d09221d668",
   "metadata": {},
   "outputs": [],
   "source": [
    "browser.get('https://www.data.go.kr/')\n",
    "browser.implicitly_wait(5)"
   ]
  },
  {
   "cell_type": "code",
   "execution_count": 18,
   "id": "07e84240-447f-4e04-9807-7743f6f6dd13",
   "metadata": {},
   "outputs": [],
   "source": [
    "browser.find_element_by_xpath('//*[@id=\"header\"]/div/div/div/div[2]/div/a[1]').click()\n",
    "browser.implicitly_wait(5)"
   ]
  },
  {
   "cell_type": "code",
   "execution_count": 19,
   "id": "e4bc2845-8e66-4870-bc81-44d02b6ef763",
   "metadata": {},
   "outputs": [],
   "source": [
    "browser.find_element_by_xpath('//*[@id=\"mberId\"]').send_keys('wjdtpgml99')"
   ]
  },
  {
   "cell_type": "code",
   "execution_count": 20,
   "id": "2f0d3c03-1238-413c-a91a-d55a19eef82d",
   "metadata": {},
   "outputs": [],
   "source": [
    "browser.find_element_by_xpath('//*[@id=\"pswrd\"]').send_keys('tpgml586900!')"
   ]
  },
  {
   "cell_type": "code",
   "execution_count": 21,
   "id": "0061f569-96ac-431f-b1d6-7801a9bb91d4",
   "metadata": {},
   "outputs": [],
   "source": [
    "browser.find_element_by_xpath('//*[@id=\"loginVo\"]/div[2]/div[2]/div[2]/div/div[1]/button').click()\n",
    "browser.implicitly_wait(5)"
   ]
  },
  {
   "cell_type": "code",
   "execution_count": 23,
   "id": "cc7367bf-6f40-4d4f-b2fd-d1b8bf2995b7",
   "metadata": {},
   "outputs": [],
   "source": [
    "browser.find_element_by_xpath('//*[@id=\"M000400_pc\"]/a').click()"
   ]
  },
  {
   "cell_type": "code",
   "execution_count": 24,
   "id": "2bcd4f3e-9c97-42ba-b4aa-3a3b3dad3986",
   "metadata": {},
   "outputs": [],
   "source": [
    "browser.find_element_by_xpath('//*[@id=\"M000402_pc\"]/a').click()"
   ]
  },
  {
   "cell_type": "code",
   "execution_count": 25,
   "id": "85eeaf44-5b00-4504-8258-c169254a98a6",
   "metadata": {},
   "outputs": [
    {
     "name": "stdout",
     "output_type": "stream",
     "text": [
      "10 건 저장완료..\n"
     ]
    }
   ],
   "source": [
    "trs = browser.find_elements_by_xpath('//*[@id=\"searchVO\"]/div[5]/table/tbody/tr')\n",
    "df_list = []\n",
    "for tr in trs:\n",
    "    df = pd.DataFrame({\n",
    "        'NO': [tr.find_element_by_xpath('td[1]').text],\n",
    "        'TITLE': [tr.find_element_by_xpath('td[2]').text],\n",
    "        'IQRY': [tr.find_element_by_xpath('td[3]').text],\n",
    "        'REGDT': [tr.find_element_by_xpath('td[4]').text],\n",
    "        'CHGDT': [tr.find_element_by_xpath('td[5]').text],\n",
    "    })\n",
    "    df_list.append(df)\n",
    "    \n",
    "ARTICLE_LIST = pd.concat(df_list)\n",
    "db_save(ARTICLE_LIST)"
   ]
  },
  {
   "cell_type": "code",
   "execution_count": 26,
   "id": "cf3c2394-7376-4b86-ab07-cb19ccc754f3",
   "metadata": {},
   "outputs": [],
   "source": [
    "browser.find_element_by_xpath('//*[@id=\"searchVO\"]/div[5]/table/tbody/tr[1]/td[2]/a').click()\n",
    "browser.implicitly_wait(3)"
   ]
  },
  {
   "cell_type": "code",
   "execution_count": 27,
   "id": "68d17750-ba34-43f4-ac17-e758d0537386",
   "metadata": {},
   "outputs": [],
   "source": [
    "browser.find_element_by_xpath('//*[@id=\"recsroomDetail\"]/div[2]/div[4]/div/a').click()\n",
    "time.sleep(10)"
   ]
  },
  {
   "cell_type": "code",
   "execution_count": 28,
   "id": "9423aa20-77f9-4150-ac3b-6d6db07c715c",
   "metadata": {},
   "outputs": [],
   "source": [
    "browser.quit()"
   ]
  }
 ],
 "metadata": {
  "kernelspec": {
   "display_name": "Python 3",
   "language": "python",
   "name": "python3"
  },
  "language_info": {
   "codemirror_mode": {
    "name": "ipython",
    "version": 3
   },
   "file_extension": ".py",
   "mimetype": "text/x-python",
   "name": "python",
   "nbconvert_exporter": "python",
   "pygments_lexer": "ipython3",
   "version": "3.8.8"
  }
 },
 "nbformat": 4,
 "nbformat_minor": 5
}
