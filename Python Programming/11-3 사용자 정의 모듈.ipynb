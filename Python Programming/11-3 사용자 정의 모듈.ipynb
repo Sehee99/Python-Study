{
 "cells": [
  {
   "cell_type": "markdown",
   "id": "bd4294b2-fceb-4eca-93f8-5b36d86eb575",
   "metadata": {},
   "source": [
    "### 사용자 정의 모듈 작성"
   ]
  },
  {
   "cell_type": "markdown",
   "id": "07075260-088f-4904-9e56-a0be11d7abbc",
   "metadata": {},
   "source": [
    "현재 디렉토리에 myprint.py로 저장"
   ]
  },
  {
   "cell_type": "code",
   "execution_count": 2,
   "id": "cc64e7c4-93a6-4243-95ad-80aaf95b623c",
   "metadata": {},
   "outputs": [],
   "source": [
    "#!/usr/bin/env python\n",
    "# coding: utf-8\n",
    "\n",
    "# def print1(st):\n",
    "    # print('*'*50)\n",
    "    # print(st)\n",
    "    # print('*'*50)\n",
    "\n",
    "# def print2(st):\n",
    "    # print('-'*50)\n",
    "    # print(st)\n",
    "    # print('-'*50) "
   ]
  },
  {
   "cell_type": "markdown",
   "id": "4921e9f2-8d07-4a9b-ae6e-8d3181521e8c",
   "metadata": {},
   "source": [
    "현재 디렉토리에  mymodule 디렉토리 생성 및 myprint2.py로 저장"
   ]
  },
  {
   "cell_type": "code",
   "execution_count": 3,
   "id": "14ca6b07-5a38-476c-8916-f177d3aeba06",
   "metadata": {},
   "outputs": [],
   "source": [
    "#!/usr/bin/env python\n",
    "# coding: utf-8\n",
    "\n",
    "# def print3(st):\n",
    "    # print('*'*50)\n",
    "    # print(st)\n",
    "    # print('*'*50)\n",
    "    \n",
    "# def print4(st):\n",
    "    # print('-'*50)\n",
    "    # print(st)\n",
    "    # print('-'*50)"
   ]
  },
  {
   "cell_type": "markdown",
   "id": "d27ec83d-b613-4b85-85e8-2923f677acbf",
   "metadata": {},
   "source": [
    "### 사용자 정의 모듈 사용"
   ]
  },
  {
   "cell_type": "markdown",
   "id": "1ae3cd1a-3cfd-48f8-bf04-fd9fae30b1e6",
   "metadata": {},
   "source": [
    "myprint.py 모듈 import 및 함수 사용"
   ]
  },
  {
   "cell_type": "code",
   "execution_count": 1,
   "id": "966b8a82-649d-45c8-9403-4d8e20fde4a3",
   "metadata": {},
   "outputs": [],
   "source": [
    "import myprint"
   ]
  },
  {
   "cell_type": "code",
   "execution_count": 2,
   "id": "172ce895-35fd-4d01-9156-f67a190a9ea4",
   "metadata": {},
   "outputs": [],
   "source": [
    "hello='Hello World Python'"
   ]
  },
  {
   "cell_type": "code",
   "execution_count": null,
   "id": "45f4d7cf-e596-4d85-9fc2-0f0acd748ccf",
   "metadata": {},
   "outputs": [],
   "source": []
  },
  {
   "cell_type": "code",
   "execution_count": 4,
   "id": "dfa3d72c-b48a-4db9-9b4a-83961c36428a",
   "metadata": {},
   "outputs": [
    {
     "name": "stdout",
     "output_type": "stream",
     "text": [
      "**************************************************\n",
      "Hello World Python\n",
      "**************************************************\n"
     ]
    }
   ],
   "source": [
    "myprint.print1(hello)"
   ]
  },
  {
   "cell_type": "code",
   "execution_count": 5,
   "id": "f5d6d800-86c9-4985-9e6f-1a61744bf34c",
   "metadata": {},
   "outputs": [
    {
     "name": "stdout",
     "output_type": "stream",
     "text": [
      "--------------------------------------------------\n",
      "Hello World Python\n",
      "--------------------------------------------------\n"
     ]
    }
   ],
   "source": [
    "myprint.print2(hello)"
   ]
  },
  {
   "cell_type": "markdown",
   "id": "ec526040-9599-45ab-a193-7270c5cc394f",
   "metadata": {},
   "source": [
    "---"
   ]
  },
  {
   "cell_type": "markdown",
   "id": "3f3d2aca-74b0-4fbb-a701-a055f9a507d0",
   "metadata": {},
   "source": [
    "myprint2.py 모듈 import 및 함수 사용"
   ]
  },
  {
   "cell_type": "code",
   "execution_count": 6,
   "id": "9aba552f-306f-43f8-8346-b60a1c7a2189",
   "metadata": {},
   "outputs": [],
   "source": [
    "from mymodule import myprint2"
   ]
  },
  {
   "cell_type": "code",
   "execution_count": 7,
   "id": "2dac9e7a-0d7e-4841-b8b8-90ee567254a9",
   "metadata": {},
   "outputs": [
    {
     "name": "stdout",
     "output_type": "stream",
     "text": [
      "**************************************************\n",
      "Hello World Python\n",
      "**************************************************\n"
     ]
    }
   ],
   "source": [
    "myprint2.print3(hello)"
   ]
  },
  {
   "cell_type": "code",
   "execution_count": 8,
   "id": "1f3fb3ba-cb17-4434-8035-062543b53c93",
   "metadata": {},
   "outputs": [
    {
     "name": "stdout",
     "output_type": "stream",
     "text": [
      "--------------------------------------------------\n",
      "Hello World Python\n",
      "--------------------------------------------------\n"
     ]
    }
   ],
   "source": [
    "myprint2.print4(hello)"
   ]
  }
 ],
 "metadata": {
  "kernelspec": {
   "display_name": "Python 3",
   "language": "python",
   "name": "python3"
  },
  "language_info": {
   "codemirror_mode": {
    "name": "ipython",
    "version": 3
   },
   "file_extension": ".py",
   "mimetype": "text/x-python",
   "name": "python",
   "nbconvert_exporter": "python",
   "pygments_lexer": "ipython3",
   "version": "3.8.8"
  }
 },
 "nbformat": 4,
 "nbformat_minor": 5
}
