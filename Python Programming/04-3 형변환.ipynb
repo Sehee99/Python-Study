{
 "cells": [
  {
   "cell_type": "markdown",
   "id": "f38bfd24-e034-467b-85b4-574e7eb3062c",
   "metadata": {},
   "source": [
    "### 묵시적 형변환(implicit type casting)"
   ]
  },
  {
   "cell_type": "code",
   "execution_count": 1,
   "id": "cba4c369-cbc5-441c-94cc-ff6537d84c4f",
   "metadata": {},
   "outputs": [],
   "source": [
    "price=1000"
   ]
  },
  {
   "cell_type": "code",
   "execution_count": 2,
   "id": "72eccb2d-6a55-4708-8116-43e00f1fcc9b",
   "metadata": {
    "tags": []
   },
   "outputs": [
    {
     "name": "stdout",
     "output_type": "stream",
     "text": [
      "<class 'int'>\n"
     ]
    }
   ],
   "source": [
    "print(type(price))"
   ]
  },
  {
   "cell_type": "code",
   "execution_count": 3,
   "id": "5c3788f4-d46d-4a3a-8c3b-522209d7951e",
   "metadata": {},
   "outputs": [],
   "source": [
    "price=price*0.05"
   ]
  },
  {
   "cell_type": "code",
   "execution_count": 4,
   "id": "7bba4d8c-4d75-4f59-b05e-8762e426ec65",
   "metadata": {},
   "outputs": [
    {
     "name": "stdout",
     "output_type": "stream",
     "text": [
      "50.0\n"
     ]
    }
   ],
   "source": [
    "print(price)"
   ]
  },
  {
   "cell_type": "code",
   "execution_count": 5,
   "id": "910f3fc5-eb8d-44b2-8807-edd03906a591",
   "metadata": {},
   "outputs": [
    {
     "name": "stdout",
     "output_type": "stream",
     "text": [
      "<class 'float'>\n"
     ]
    }
   ],
   "source": [
    "print(type(price))"
   ]
  },
  {
   "cell_type": "markdown",
   "id": "5a4f638b-50e3-40b6-864a-afc07c09120b",
   "metadata": {},
   "source": [
    "---"
   ]
  },
  {
   "cell_type": "code",
   "execution_count": 6,
   "id": "c9440970-c2ef-4f9a-b59d-2e275292eb91",
   "metadata": {},
   "outputs": [],
   "source": [
    "i1=1000"
   ]
  },
  {
   "cell_type": "code",
   "execution_count": 7,
   "id": "668fbe28-7939-4818-8720-371aa03268bb",
   "metadata": {},
   "outputs": [
    {
     "name": "stdout",
     "output_type": "stream",
     "text": [
      "<class 'int'>\n"
     ]
    }
   ],
   "source": [
    "print(type(i1))"
   ]
  },
  {
   "cell_type": "code",
   "execution_count": 8,
   "id": "2f9c00fc-39a0-41eb-997c-7a542a8d424b",
   "metadata": {},
   "outputs": [],
   "source": [
    "i1=i1/4"
   ]
  },
  {
   "cell_type": "code",
   "execution_count": 9,
   "id": "fa30f4b6-2074-4738-a20b-77644a4b91d4",
   "metadata": {},
   "outputs": [
    {
     "name": "stdout",
     "output_type": "stream",
     "text": [
      "250.0\n"
     ]
    }
   ],
   "source": [
    "print(i1)"
   ]
  },
  {
   "cell_type": "code",
   "execution_count": 10,
   "id": "b9aff672-ce25-484e-bbed-a37a9a847fec",
   "metadata": {},
   "outputs": [
    {
     "name": "stdout",
     "output_type": "stream",
     "text": [
      "<class 'float'>\n"
     ]
    }
   ],
   "source": [
    "print(type(i1))"
   ]
  },
  {
   "cell_type": "markdown",
   "id": "6fbc07ad-c1e2-4398-909d-384545bb1d2a",
   "metadata": {},
   "source": [
    "### 명시적 형변환(explicit type casting)"
   ]
  },
  {
   "cell_type": "code",
   "execution_count": 2,
   "id": "5fffbc76-e611-47ed-a972-13792164056a",
   "metadata": {},
   "outputs": [],
   "source": [
    "f1=3.14   # float -> int"
   ]
  },
  {
   "cell_type": "code",
   "execution_count": 12,
   "id": "d8c8565d-ce47-4557-8556-8080b2c160c3",
   "metadata": {},
   "outputs": [
    {
     "name": "stdout",
     "output_type": "stream",
     "text": [
      "<class 'float'>\n"
     ]
    }
   ],
   "source": [
    "print(type(f1))"
   ]
  },
  {
   "cell_type": "code",
   "execution_count": 13,
   "id": "cefd2b66-dd33-48bd-9249-abb57ffc4ded",
   "metadata": {},
   "outputs": [],
   "source": [
    "i1=int(f1)"
   ]
  },
  {
   "cell_type": "code",
   "execution_count": 14,
   "id": "587269ce-37be-4e57-9acd-85c8aa6ce22c",
   "metadata": {},
   "outputs": [
    {
     "name": "stdout",
     "output_type": "stream",
     "text": [
      "3\n"
     ]
    }
   ],
   "source": [
    "print(i1)"
   ]
  },
  {
   "cell_type": "code",
   "execution_count": 15,
   "id": "f0961e5f-6dd4-4d47-b60d-013800023002",
   "metadata": {},
   "outputs": [
    {
     "name": "stdout",
     "output_type": "stream",
     "text": [
      "<class 'int'>\n"
     ]
    }
   ],
   "source": [
    "print(type(i1))"
   ]
  },
  {
   "cell_type": "markdown",
   "id": "dad95bf3-19f8-4fc3-a4a0-ee39a8b656a1",
   "metadata": {},
   "source": [
    "---"
   ]
  },
  {
   "cell_type": "code",
   "execution_count": 3,
   "id": "8e9b38ef-d4f3-4103-a18d-6a452d7c2b44",
   "metadata": {},
   "outputs": [],
   "source": [
    "s1='12345'   # str -> int"
   ]
  },
  {
   "cell_type": "code",
   "execution_count": 17,
   "id": "376239d5-2a40-44ea-8d98-458f01ab67dd",
   "metadata": {},
   "outputs": [
    {
     "name": "stdout",
     "output_type": "stream",
     "text": [
      "<class 'str'>\n"
     ]
    }
   ],
   "source": [
    "print(type(s1))"
   ]
  },
  {
   "cell_type": "code",
   "execution_count": 18,
   "id": "a4ff80fa-05e7-4019-aff1-198e3e93d8fb",
   "metadata": {},
   "outputs": [],
   "source": [
    "i1=int(s1)"
   ]
  },
  {
   "cell_type": "code",
   "execution_count": 19,
   "id": "5c11a386-a121-4f8c-a221-15e969c206fb",
   "metadata": {},
   "outputs": [
    {
     "name": "stdout",
     "output_type": "stream",
     "text": [
      "12345\n"
     ]
    }
   ],
   "source": [
    "print(i1)"
   ]
  },
  {
   "cell_type": "code",
   "execution_count": 20,
   "id": "1c683d59-dd67-493b-9573-f8ba550f88d5",
   "metadata": {},
   "outputs": [
    {
     "name": "stdout",
     "output_type": "stream",
     "text": [
      "<class 'int'>\n"
     ]
    }
   ],
   "source": [
    "print(type(i1))"
   ]
  },
  {
   "cell_type": "markdown",
   "id": "4b60cf8f-34ee-4b10-9035-acd370cbb5ac",
   "metadata": {},
   "source": [
    "---"
   ]
  },
  {
   "cell_type": "code",
   "execution_count": 21,
   "id": "80d545f7-ac02-400d-9dac-5c010718c41b",
   "metadata": {},
   "outputs": [],
   "source": [
    "s2='12345a'"
   ]
  },
  {
   "cell_type": "code",
   "execution_count": 22,
   "id": "a90ff481-7411-4096-89e6-c1692cb41f38",
   "metadata": {},
   "outputs": [
    {
     "ename": "ValueError",
     "evalue": "invalid literal for int() with base 10: '12345a'",
     "output_type": "error",
     "traceback": [
      "\u001b[1;31m---------------------------------------------------------------------------\u001b[0m",
      "\u001b[1;31mValueError\u001b[0m                                Traceback (most recent call last)",
      "\u001b[1;32m<ipython-input-22-40e5c06a2e43>\u001b[0m in \u001b[0;36m<module>\u001b[1;34m\u001b[0m\n\u001b[1;32m----> 1\u001b[1;33m \u001b[0mint\u001b[0m\u001b[1;33m(\u001b[0m\u001b[0ms2\u001b[0m\u001b[1;33m)\u001b[0m\u001b[1;33m\u001b[0m\u001b[1;33m\u001b[0m\u001b[0m\n\u001b[0m",
      "\u001b[1;31mValueError\u001b[0m: invalid literal for int() with base 10: '12345a'"
     ]
    }
   ],
   "source": [
    "int(s2)"
   ]
  },
  {
   "cell_type": "code",
   "execution_count": 1,
   "id": "06cf631b-4ff2-4ae1-8b83-70176f7550bc",
   "metadata": {},
   "outputs": [],
   "source": [
    "s2='1234 '  # 공백은 알아서 제거(맨 끝의 공백만 가능한듯)"
   ]
  },
  {
   "cell_type": "code",
   "execution_count": 24,
   "id": "80013186-9689-461d-9cef-8417aef6eb8c",
   "metadata": {},
   "outputs": [
    {
     "data": {
      "text/plain": [
       "1234"
      ]
     },
     "execution_count": 24,
     "metadata": {},
     "output_type": "execute_result"
    }
   ],
   "source": [
    "int(s2)"
   ]
  },
  {
   "cell_type": "markdown",
   "id": "d82045ce-5e39-4c03-961f-4b5b806a6f0e",
   "metadata": {},
   "source": [
    "---"
   ]
  },
  {
   "cell_type": "code",
   "execution_count": 4,
   "id": "f4f0b537-b36e-4a5d-9957-29541fdfdad9",
   "metadata": {},
   "outputs": [],
   "source": [
    "i1=100   # int -> float"
   ]
  },
  {
   "cell_type": "code",
   "execution_count": 26,
   "id": "eae91fb3-91ff-4349-a31d-7481f7a6eb06",
   "metadata": {},
   "outputs": [
    {
     "name": "stdout",
     "output_type": "stream",
     "text": [
      "<class 'int'>\n"
     ]
    }
   ],
   "source": [
    "print(type(i1))"
   ]
  },
  {
   "cell_type": "code",
   "execution_count": 27,
   "id": "64567020-dbc9-4429-9c8c-05c7e8bd2497",
   "metadata": {},
   "outputs": [],
   "source": [
    "f1=float(i1)"
   ]
  },
  {
   "cell_type": "code",
   "execution_count": 28,
   "id": "af3d7b7f-51cb-4683-8531-54a66cbb50c5",
   "metadata": {},
   "outputs": [
    {
     "name": "stdout",
     "output_type": "stream",
     "text": [
      "100.0\n"
     ]
    }
   ],
   "source": [
    "print(f1)"
   ]
  },
  {
   "cell_type": "code",
   "execution_count": 29,
   "id": "1c846ecc-4d1d-433d-96b1-a021bd3e6cd1",
   "metadata": {},
   "outputs": [
    {
     "name": "stdout",
     "output_type": "stream",
     "text": [
      "<class 'float'>\n"
     ]
    }
   ],
   "source": [
    "print(type(f1))"
   ]
  },
  {
   "cell_type": "markdown",
   "id": "e7804871-33b1-446e-a765-08b41146d675",
   "metadata": {},
   "source": [
    "---"
   ]
  },
  {
   "cell_type": "code",
   "execution_count": 5,
   "id": "1a4dd9a9-1789-44db-a802-02e8229a5f8a",
   "metadata": {},
   "outputs": [],
   "source": [
    "s1='3.14'   # str -> float"
   ]
  },
  {
   "cell_type": "code",
   "execution_count": 32,
   "id": "7a9b403a-14ca-4ef2-b001-4ad43a8ad5ce",
   "metadata": {},
   "outputs": [
    {
     "name": "stdout",
     "output_type": "stream",
     "text": [
      "<class 'str'>\n"
     ]
    }
   ],
   "source": [
    "print(type(s1))"
   ]
  },
  {
   "cell_type": "code",
   "execution_count": 33,
   "id": "83295937-f5ca-4073-acb3-5ff59370b8ff",
   "metadata": {},
   "outputs": [],
   "source": [
    "f1=float(s1)"
   ]
  },
  {
   "cell_type": "code",
   "execution_count": 34,
   "id": "6a03baff-fba7-41fc-9519-9601f4ce1e9f",
   "metadata": {},
   "outputs": [
    {
     "name": "stdout",
     "output_type": "stream",
     "text": [
      "3.14\n"
     ]
    }
   ],
   "source": [
    "print(f1)"
   ]
  },
  {
   "cell_type": "code",
   "execution_count": 35,
   "id": "c9e2ca99-5301-4f7a-8b7e-dd5ed1cc1462",
   "metadata": {},
   "outputs": [
    {
     "name": "stdout",
     "output_type": "stream",
     "text": [
      "<class 'float'>\n"
     ]
    }
   ],
   "source": [
    "print(type(f1))"
   ]
  }
 ],
 "metadata": {
  "kernelspec": {
   "display_name": "Python 3",
   "language": "python",
   "name": "python3"
  },
  "language_info": {
   "codemirror_mode": {
    "name": "ipython",
    "version": 3
   },
   "file_extension": ".py",
   "mimetype": "text/x-python",
   "name": "python",
   "nbconvert_exporter": "python",
   "pygments_lexer": "ipython3",
   "version": "3.8.8"
  }
 },
 "nbformat": 4,
 "nbformat_minor": 5
}
