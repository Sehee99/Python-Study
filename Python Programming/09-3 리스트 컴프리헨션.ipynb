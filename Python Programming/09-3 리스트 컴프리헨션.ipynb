{
 "cells": [
  {
   "cell_type": "markdown",
   "id": "0295e6a8-e9d7-4d09-8346-17d6d95b682d",
   "metadata": {},
   "source": [
    "### 리스트 컴프리헨션(Comprehension)"
   ]
  },
  {
   "cell_type": "markdown",
   "id": "5120adf7-7242-46cc-b18b-6b06322bc5b8",
   "metadata": {},
   "source": [
    "1. 리스트 각 원소들에 대해 연산 수행"
   ]
  },
  {
   "cell_type": "code",
   "execution_count": 1,
   "id": "9b436725-994e-4e4e-924c-d967299deed9",
   "metadata": {},
   "outputs": [
    {
     "name": "stdout",
     "output_type": "stream",
     "text": [
      "[1, 2, 3, 4, 5, 6, 7, 8, 9, 10]\n"
     ]
    }
   ],
   "source": [
    "list1=list(range(1,11))\n",
    "print(list1)"
   ]
  },
  {
   "cell_type": "code",
   "execution_count": 2,
   "id": "b141c068-ce8c-496a-8961-56fc0390afb3",
   "metadata": {},
   "outputs": [
    {
     "data": {
      "text/plain": [
       "[2, 4, 6, 8, 10, 12, 14, 16, 18, 20]"
      ]
     },
     "execution_count": 2,
     "metadata": {},
     "output_type": "execute_result"
    }
   ],
   "source": [
    "list2=[i*2 for i in list1]\n",
    "list2"
   ]
  },
  {
   "cell_type": "markdown",
   "id": "01f6eb98-c5d3-4778-a5bd-a2799a581103",
   "metadata": {},
   "source": [
    "2. 리스트 원소를 필터링하여 연산 수행"
   ]
  },
  {
   "cell_type": "code",
   "execution_count": 3,
   "id": "95808341-889f-47cf-9951-73e79776a545",
   "metadata": {},
   "outputs": [
    {
     "name": "stdout",
     "output_type": "stream",
     "text": [
      "[1, 2, 3, 4, 5, 6, 7, 8, 9, 10]\n"
     ]
    }
   ],
   "source": [
    "list1=list(range(1,11))\n",
    "print(list1)"
   ]
  },
  {
   "cell_type": "code",
   "execution_count": 4,
   "id": "b615a083-11a0-4608-bd19-97ab0befd0cf",
   "metadata": {},
   "outputs": [
    {
     "data": {
      "text/plain": [
       "[1, 9, 25, 49, 81]"
      ]
     },
     "execution_count": 4,
     "metadata": {},
     "output_type": "execute_result"
    }
   ],
   "source": [
    "list3=[i**2 for i in list1 if i%2==1]\n",
    "list3"
   ]
  }
 ],
 "metadata": {
  "kernelspec": {
   "display_name": "Python 3",
   "language": "python",
   "name": "python3"
  },
  "language_info": {
   "codemirror_mode": {
    "name": "ipython",
    "version": 3
   },
   "file_extension": ".py",
   "mimetype": "text/x-python",
   "name": "python",
   "nbconvert_exporter": "python",
   "pygments_lexer": "ipython3",
   "version": "3.8.8"
  }
 },
 "nbformat": 4,
 "nbformat_minor": 5
}
