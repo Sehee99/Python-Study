{
 "cells": [
  {
   "cell_type": "markdown",
   "id": "9f2765e4-c206-4b1e-a400-6543db32771e",
   "metadata": {},
   "source": [
    "### 파일 읽기"
   ]
  },
  {
   "cell_type": "markdown",
   "id": "bebbf7ee-b8f5-486d-946f-b137e28fef3b",
   "metadata": {},
   "source": [
    "1. 파일객체 생성"
   ]
  },
  {
   "cell_type": "code",
   "execution_count": 4,
   "id": "bef7426c-77ab-449c-952f-ede94e665ebb",
   "metadata": {},
   "outputs": [],
   "source": [
    "fr=open('./12-1 hello.txt', 'r')   # .: 현재 디렉토리"
   ]
  },
  {
   "cell_type": "markdown",
   "id": "172983a0-98e9-4cee-b836-a4b221f69728",
   "metadata": {},
   "source": [
    "2. 파일 읽기(라인 단위)"
   ]
  },
  {
   "cell_type": "code",
   "execution_count": 5,
   "id": "9089eb97-4c62-40e2-bb99-7d7377440451",
   "metadata": {},
   "outputs": [
    {
     "name": "stdout",
     "output_type": "stream",
     "text": [
      "Hello World Python!!!\n",
      "\n",
      "Welcome to Python World!!!\n"
     ]
    }
   ],
   "source": [
    "for line in fr:\n",
    "    print(line)"
   ]
  },
  {
   "cell_type": "markdown",
   "id": "70dd9a3d-87c8-4d34-b9cf-259d523dccd5",
   "metadata": {},
   "source": [
    "3. 파일객체 닫기: 닫지 않으면 시스템 장애 발생"
   ]
  },
  {
   "cell_type": "code",
   "execution_count": 6,
   "id": "f7fc9b85-de27-4104-9220-cda62787d8bd",
   "metadata": {},
   "outputs": [],
   "source": [
    "fr.close()"
   ]
  },
  {
   "cell_type": "markdown",
   "id": "a06a8570-99e8-4f83-b786-d1f8d8f1091d",
   "metadata": {},
   "source": [
    "---"
   ]
  },
  {
   "cell_type": "markdown",
   "id": "48a1241e-8ed0-406c-b1d3-af0f10a08453",
   "metadata": {},
   "source": [
    "### 파일 읽기 - with 구문"
   ]
  },
  {
   "cell_type": "markdown",
   "id": "021f4d42-119a-4b2f-945e-0f2274b344fd",
   "metadata": {},
   "source": [
    "* 자동으로 사용했던 resource 정리"
   ]
  },
  {
   "cell_type": "code",
   "execution_count": 8,
   "id": "62176ee6-7d1a-4287-a965-fbd39803256e",
   "metadata": {},
   "outputs": [
    {
     "name": "stdout",
     "output_type": "stream",
     "text": [
      "Hello World Python!!!\n",
      "\n",
      "Welcome to Python World!!!\n"
     ]
    }
   ],
   "source": [
    "with open('./12-1 hello.txt', 'r') as fr:\n",
    "    for line in fr:\n",
    "        print(line)"
   ]
  }
 ],
 "metadata": {
  "kernelspec": {
   "display_name": "Python 3",
   "language": "python",
   "name": "python3"
  },
  "language_info": {
   "codemirror_mode": {
    "name": "ipython",
    "version": 3
   },
   "file_extension": ".py",
   "mimetype": "text/x-python",
   "name": "python",
   "nbconvert_exporter": "python",
   "pygments_lexer": "ipython3",
   "version": "3.8.8"
  }
 },
 "nbformat": 4,
 "nbformat_minor": 5
}
