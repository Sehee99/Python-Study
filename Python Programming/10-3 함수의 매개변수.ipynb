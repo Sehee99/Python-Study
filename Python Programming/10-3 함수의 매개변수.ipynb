{
 "cells": [
  {
   "cell_type": "markdown",
   "id": "55d876b8-e29e-49b8-be72-a4276c50a752",
   "metadata": {},
   "source": [
    "### 매개변수 기본값"
   ]
  },
  {
   "cell_type": "code",
   "execution_count": 2,
   "id": "0714c9ac-9088-49bb-92f6-a3a60b297ae8",
   "metadata": {},
   "outputs": [],
   "source": [
    "def square2(x=2, y=3):\n",
    "    x=x**2\n",
    "    y=y**2\n",
    "    return x,y"
   ]
  },
  {
   "cell_type": "code",
   "execution_count": 5,
   "id": "51bfffb4-f174-4846-8a5a-8245e34d26e6",
   "metadata": {},
   "outputs": [
    {
     "data": {
      "text/plain": [
       "(4, 9)"
      ]
     },
     "execution_count": 5,
     "metadata": {},
     "output_type": "execute_result"
    }
   ],
   "source": [
    "square2()   # 인자 전달 X, 하지만 기본적으로 매개변수 값이 있음(기본값)"
   ]
  },
  {
   "cell_type": "code",
   "execution_count": 6,
   "id": "c1a78d9e-15a0-4d9b-bb3d-8f759d68930b",
   "metadata": {},
   "outputs": [
    {
     "data": {
      "text/plain": [
       "(4, 9)"
      ]
     },
     "execution_count": 6,
     "metadata": {},
     "output_type": "execute_result"
    }
   ],
   "source": [
    "square2(2)  # 하나의 인자, y값은 기본값 사용"
   ]
  },
  {
   "cell_type": "code",
   "execution_count": 7,
   "id": "33bdb07a-bc1f-4a38-ada6-64b8618e015e",
   "metadata": {},
   "outputs": [
    {
     "data": {
      "text/plain": [
       "(4, 9)"
      ]
     },
     "execution_count": 7,
     "metadata": {},
     "output_type": "execute_result"
    }
   ],
   "source": [
    "square2(2, 3)"
   ]
  },
  {
   "cell_type": "markdown",
   "id": "a5427197-2a1c-4d2c-ba05-275afa098faf",
   "metadata": {},
   "source": [
    "### 매개변수 지정 인자값"
   ]
  },
  {
   "cell_type": "code",
   "execution_count": 9,
   "id": "ab714f6e-244b-41e4-9da0-b190b720903f",
   "metadata": {},
   "outputs": [],
   "source": [
    "def square2(x=2, y=3):\n",
    "    x=x**2\n",
    "    y=y**2\n",
    "    return x,y"
   ]
  },
  {
   "cell_type": "code",
   "execution_count": 10,
   "id": "1bd8ec35-6952-4dd8-baf4-1653cc133907",
   "metadata": {},
   "outputs": [
    {
     "data": {
      "text/plain": [
       "(16, 25)"
      ]
     },
     "execution_count": 10,
     "metadata": {},
     "output_type": "execute_result"
    }
   ],
   "source": [
    "square2(4,5)"
   ]
  },
  {
   "cell_type": "code",
   "execution_count": 8,
   "id": "d8bd08c7-8051-414f-8463-fd42fcd0f6ae",
   "metadata": {},
   "outputs": [
    {
     "data": {
      "text/plain": [
       "(16, 25)"
      ]
     },
     "execution_count": 8,
     "metadata": {},
     "output_type": "execute_result"
    }
   ],
   "source": [
    "square2(y=5, x=4)   # 순서 상관X"
   ]
  },
  {
   "cell_type": "markdown",
   "id": "15fba008-17bf-4ee0-b239-df49b753886c",
   "metadata": {},
   "source": [
    "### 가변 매개변수"
   ]
  },
  {
   "cell_type": "markdown",
   "id": "603f80b8-7a89-483f-95d5-0e503b1b1d64",
   "metadata": {},
   "source": [
    "* 매개변수 앞에 *를 붙여서 매개변수 정의: 일반 매개변수 할당 후, 나머지 인자는 튜플로 할당"
   ]
  },
  {
   "cell_type": "code",
   "execution_count": 11,
   "id": "88625845-2c59-42b2-ad61-c4a3339a9d55",
   "metadata": {},
   "outputs": [],
   "source": [
    "def changeble(x, *y):\n",
    "    print(x, y)"
   ]
  },
  {
   "cell_type": "code",
   "execution_count": 12,
   "id": "77a33c9c-04d8-4baf-b911-93a4f1d8c618",
   "metadata": {},
   "outputs": [
    {
     "name": "stdout",
     "output_type": "stream",
     "text": [
      "1 ()\n"
     ]
    }
   ],
   "source": [
    "changeble(1)"
   ]
  },
  {
   "cell_type": "code",
   "execution_count": 13,
   "id": "5ba2af2c-fb45-49d5-a2f9-934b50e728ad",
   "metadata": {},
   "outputs": [
    {
     "name": "stdout",
     "output_type": "stream",
     "text": [
      "1 (2,)\n"
     ]
    }
   ],
   "source": [
    "changeble(1, 2)"
   ]
  },
  {
   "cell_type": "code",
   "execution_count": 14,
   "id": "0211c0b8-332e-4a0a-8f9b-5c3d58307e59",
   "metadata": {},
   "outputs": [
    {
     "name": "stdout",
     "output_type": "stream",
     "text": [
      "1 (2, 3)\n"
     ]
    }
   ],
   "source": [
    "changeble(1, 2, 3)"
   ]
  },
  {
   "cell_type": "code",
   "execution_count": 15,
   "id": "65c5de0d-87c4-4675-956b-56e501a33692",
   "metadata": {},
   "outputs": [
    {
     "name": "stdout",
     "output_type": "stream",
     "text": [
      "1 (2, 3, 4)\n"
     ]
    }
   ],
   "source": [
    "changeble(1, 2, 3, 4)"
   ]
  },
  {
   "cell_type": "code",
   "execution_count": 16,
   "id": "c5b9778d-7af8-491f-90d0-46972d719041",
   "metadata": {},
   "outputs": [
    {
     "name": "stdout",
     "output_type": "stream",
     "text": [
      "1 (2, 3, 4, 5)\n"
     ]
    }
   ],
   "source": [
    "changeble(1, 2, 3, 4, 5)"
   ]
  }
 ],
 "metadata": {
  "kernelspec": {
   "display_name": "Python 3",
   "language": "python",
   "name": "python3"
  },
  "language_info": {
   "codemirror_mode": {
    "name": "ipython",
    "version": 3
   },
   "file_extension": ".py",
   "mimetype": "text/x-python",
   "name": "python",
   "nbconvert_exporter": "python",
   "pygments_lexer": "ipython3",
   "version": "3.8.8"
  }
 },
 "nbformat": 4,
 "nbformat_minor": 5
}
