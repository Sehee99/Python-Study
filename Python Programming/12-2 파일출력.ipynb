{
 "cells": [
  {
   "cell_type": "markdown",
   "id": "056e30bf-b992-4bd4-a282-fcbf1bfd59b8",
   "metadata": {},
   "source": [
    "### 파일 쓰기"
   ]
  },
  {
   "cell_type": "markdown",
   "id": "aa376ffe-de6d-4759-97de-a17e6cf82db0",
   "metadata": {},
   "source": [
    "1. 파일객체 생성"
   ]
  },
  {
   "cell_type": "code",
   "execution_count": 5,
   "id": "ec03f410-1125-4e31-bb18-62ea7bd3e877",
   "metadata": {},
   "outputs": [],
   "source": [
    "fw=open('./hello_write.txt', 'w')   # 모드(w): 동일 경로/파일명 존재시 overwrite"
   ]
  },
  {
   "cell_type": "markdown",
   "id": "4fbc0ef6-fb39-4526-ae3c-13c280426483",
   "metadata": {},
   "source": [
    "2. 파일 쓰기(라인 단위)"
   ]
  },
  {
   "cell_type": "code",
   "execution_count": 6,
   "id": "1aca0946-790e-4729-8282-21d4fae5ea6b",
   "metadata": {},
   "outputs": [
    {
     "data": {
      "text/plain": [
       "22"
      ]
     },
     "execution_count": 6,
     "metadata": {},
     "output_type": "execute_result"
    }
   ],
   "source": [
    "fw.write('Hello World Python!!!\\n')   # 문자열의 길이가 표시됨"
   ]
  },
  {
   "cell_type": "code",
   "execution_count": 7,
   "id": "187b9f13-5a5d-431a-9273-c75a6833b230",
   "metadata": {},
   "outputs": [
    {
     "data": {
      "text/plain": [
       "26"
      ]
     },
     "execution_count": 7,
     "metadata": {},
     "output_type": "execute_result"
    }
   ],
   "source": [
    "fw.write('Welcom to Python  World!!!')"
   ]
  },
  {
   "cell_type": "markdown",
   "id": "1b283735-411a-4805-9ff1-e1ccd8e9909f",
   "metadata": {},
   "source": [
    "3. 파일객체 닫기"
   ]
  },
  {
   "cell_type": "code",
   "execution_count": 8,
   "id": "7e508790-6c79-4258-b19b-a03664b6a3d2",
   "metadata": {},
   "outputs": [],
   "source": [
    "fw.close()"
   ]
  },
  {
   "cell_type": "markdown",
   "id": "29b95488-cccf-4283-a501-755991cc5d4c",
   "metadata": {},
   "source": [
    "---"
   ]
  },
  {
   "cell_type": "markdown",
   "id": "2e08174f-e876-4521-9f7f-588ff420b108",
   "metadata": {},
   "source": [
    "### 파일 쓰기 - with 구문"
   ]
  },
  {
   "cell_type": "code",
   "execution_count": 7,
   "id": "8ec216be-8191-434c-964b-b8bd074fd77c",
   "metadata": {},
   "outputs": [
    {
     "ename": "FileExistsError",
     "evalue": "[Errno 17] File exists: './hello_write.txt'",
     "output_type": "error",
     "traceback": [
      "\u001b[1;31m---------------------------------------------------------------------------\u001b[0m",
      "\u001b[1;31mFileExistsError\u001b[0m                           Traceback (most recent call last)",
      "\u001b[1;32m<ipython-input-7-1e8120cfdc35>\u001b[0m in \u001b[0;36m<module>\u001b[1;34m\u001b[0m\n\u001b[1;32m----> 1\u001b[1;33m \u001b[1;32mwith\u001b[0m \u001b[0mopen\u001b[0m\u001b[1;33m(\u001b[0m\u001b[1;34m'./hello_write.txt'\u001b[0m\u001b[1;33m,\u001b[0m \u001b[1;34m'x'\u001b[0m\u001b[1;33m)\u001b[0m \u001b[1;32mas\u001b[0m \u001b[0mfw\u001b[0m\u001b[1;33m:\u001b[0m\u001b[1;33m\u001b[0m\u001b[1;33m\u001b[0m\u001b[0m\n\u001b[0m\u001b[0;32m      2\u001b[0m     \u001b[0mfw\u001b[0m\u001b[1;33m.\u001b[0m\u001b[0mwrite\u001b[0m\u001b[1;33m(\u001b[0m\u001b[1;34m'Hello World Python!!!\\n'\u001b[0m\u001b[1;33m)\u001b[0m\u001b[1;33m\u001b[0m\u001b[1;33m\u001b[0m\u001b[0m\n\u001b[0;32m      3\u001b[0m     \u001b[0mfw\u001b[0m\u001b[1;33m.\u001b[0m\u001b[0mwrite\u001b[0m\u001b[1;33m(\u001b[0m\u001b[1;34m'Welcom to Python  World!!!'\u001b[0m\u001b[1;33m)\u001b[0m\u001b[1;33m\u001b[0m\u001b[1;33m\u001b[0m\u001b[0m\n",
      "\u001b[1;31mFileExistsError\u001b[0m: [Errno 17] File exists: './hello_write.txt'"
     ]
    }
   ],
   "source": [
    "with open('./hello_write.txt', 'x') as fw:   # 모드(x): 동일 경로/파일명 존재시 error\n",
    "    fw.write('Hello World Python!!!\\n')\n",
    "    fw.write('Welcom to Python  World!!!')"
   ]
  },
  {
   "cell_type": "code",
   "execution_count": null,
   "id": "5ed8e4d6-5dfa-4c02-8a57-20d98a97257e",
   "metadata": {},
   "outputs": [],
   "source": []
  },
  {
   "cell_type": "code",
   "execution_count": 9,
   "id": "aa6593d1-8b4c-4451-8dbe-962210a227a9",
   "metadata": {},
   "outputs": [],
   "source": [
    "with open('./hello_write.txt', 'a') as fw:   # 모드(a): 동일 경로/파일명 존재시 append\n",
    "    fw.write('New line append!!!')"
   ]
  }
 ],
 "metadata": {
  "kernelspec": {
   "display_name": "Python 3",
   "language": "python",
   "name": "python3"
  },
  "language_info": {
   "codemirror_mode": {
    "name": "ipython",
    "version": 3
   },
   "file_extension": ".py",
   "mimetype": "text/x-python",
   "name": "python",
   "nbconvert_exporter": "python",
   "pygments_lexer": "ipython3",
   "version": "3.8.8"
  }
 },
 "nbformat": 4,
 "nbformat_minor": 5
}
