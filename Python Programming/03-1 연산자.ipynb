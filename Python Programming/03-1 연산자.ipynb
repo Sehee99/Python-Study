{
 "cells": [
  {
   "cell_type": "markdown",
   "id": "b35b2b10-46a5-46de-9945-3554b4982032",
   "metadata": {},
   "source": [
    "### 연산자"
   ]
  },
  {
   "cell_type": "markdown",
   "id": "fa91e754-aa29-4997-b686-7df2917c27c9",
   "metadata": {},
   "source": [
    "더하기"
   ]
  },
  {
   "cell_type": "code",
   "execution_count": 1,
   "id": "ce158610-c235-4d5f-bfaf-96e3693b4160",
   "metadata": {
    "tags": []
   },
   "outputs": [
    {
     "data": {
      "text/plain": [
       "6"
      ]
     },
     "execution_count": 1,
     "metadata": {},
     "output_type": "execute_result"
    }
   ],
   "source": [
    "2+4"
   ]
  },
  {
   "cell_type": "markdown",
   "id": "e422bc6b-870f-4d51-8010-9a6072fbf274",
   "metadata": {},
   "source": [
    "빼기"
   ]
  },
  {
   "cell_type": "code",
   "execution_count": 3,
   "id": "3d83170e-a4a0-4642-98bd-dac9fc22e79d",
   "metadata": {},
   "outputs": [
    {
     "data": {
      "text/plain": [
       "2"
      ]
     },
     "execution_count": 3,
     "metadata": {},
     "output_type": "execute_result"
    }
   ],
   "source": [
    "4-2"
   ]
  },
  {
   "cell_type": "markdown",
   "id": "38b201c8-3eab-4cfd-919f-b3ee44e36f1f",
   "metadata": {},
   "source": [
    "곱하기"
   ]
  },
  {
   "cell_type": "code",
   "execution_count": 4,
   "id": "28601fcb-528b-414e-a7a1-38b6094b98a1",
   "metadata": {},
   "outputs": [
    {
     "data": {
      "text/plain": [
       "8"
      ]
     },
     "execution_count": 4,
     "metadata": {},
     "output_type": "execute_result"
    }
   ],
   "source": [
    "2*4"
   ]
  },
  {
   "cell_type": "markdown",
   "id": "11d65ea9-24e7-48c6-b370-4885a92fa0c2",
   "metadata": {},
   "source": [
    "나누기"
   ]
  },
  {
   "cell_type": "code",
   "execution_count": 5,
   "id": "3bdbf18f-f253-42bc-a080-584b5facb4aa",
   "metadata": {},
   "outputs": [
    {
     "data": {
      "text/plain": [
       "2.0"
      ]
     },
     "execution_count": 5,
     "metadata": {},
     "output_type": "execute_result"
    }
   ],
   "source": [
    "4/2"
   ]
  },
  {
   "cell_type": "markdown",
   "id": "6faff921-ac46-4c7d-ada2-8457f106dc3f",
   "metadata": {},
   "source": [
    "제곱"
   ]
  },
  {
   "cell_type": "code",
   "execution_count": 6,
   "id": "bddcf2e5-619a-4fcc-839a-7aa0c454b357",
   "metadata": {},
   "outputs": [
    {
     "data": {
      "text/plain": [
       "16"
      ]
     },
     "execution_count": 6,
     "metadata": {},
     "output_type": "execute_result"
    }
   ],
   "source": [
    "4**2"
   ]
  },
  {
   "cell_type": "markdown",
   "id": "c71d452a-aa7c-4a79-a434-44b5a0b6bad4",
   "metadata": {},
   "source": [
    "몫"
   ]
  },
  {
   "cell_type": "code",
   "execution_count": 7,
   "id": "64d4842c-7600-455d-bb79-6d42f54ab328",
   "metadata": {},
   "outputs": [
    {
     "data": {
      "text/plain": [
       "3.5"
      ]
     },
     "execution_count": 7,
     "metadata": {},
     "output_type": "execute_result"
    }
   ],
   "source": [
    "7/2"
   ]
  },
  {
   "cell_type": "markdown",
   "id": "b5cf1085-3026-4994-a6c7-5fb850d952f5",
   "metadata": {},
   "source": [
    "정수몫"
   ]
  },
  {
   "cell_type": "code",
   "execution_count": 8,
   "id": "c0289998-de8e-4eb0-acac-5f916b741a02",
   "metadata": {},
   "outputs": [
    {
     "data": {
      "text/plain": [
       "3"
      ]
     },
     "execution_count": 8,
     "metadata": {},
     "output_type": "execute_result"
    }
   ],
   "source": [
    "7//2"
   ]
  },
  {
   "cell_type": "markdown",
   "id": "99ee0fd8-22ef-4907-98f9-17ae514675d8",
   "metadata": {},
   "source": [
    "나머지"
   ]
  },
  {
   "cell_type": "code",
   "execution_count": 9,
   "id": "4ad763cc-d918-4818-b9b9-91d5f4c64507",
   "metadata": {},
   "outputs": [
    {
     "data": {
      "text/plain": [
       "1"
      ]
     },
     "execution_count": 9,
     "metadata": {},
     "output_type": "execute_result"
    }
   ],
   "source": [
    "7%2"
   ]
  },
  {
   "cell_type": "markdown",
   "id": "bb40332b-539e-41be-b344-83b7f2100435",
   "metadata": {},
   "source": [
    "---"
   ]
  },
  {
   "cell_type": "markdown",
   "id": "7fd3ae9c-9f32-41b6-9753-f91895d55c2f",
   "metadata": {},
   "source": [
    "### 주석문"
   ]
  },
  {
   "cell_type": "code",
   "execution_count": 2,
   "id": "eafaa13d-192d-453b-b969-f6ecc5b39b40",
   "metadata": {},
   "outputs": [],
   "source": [
    "# ctrl+/, 1.처리 2.해제"
   ]
  },
  {
   "cell_type": "code",
   "execution_count": 11,
   "id": "e53a50d4-1926-41ff-a588-c38481390c90",
   "metadata": {},
   "outputs": [],
   "source": [
    "# 파이썬 주석문"
   ]
  },
  {
   "cell_type": "code",
   "execution_count": 13,
   "id": "61d088f8-1dd4-42c6-a707-f49af3eb99f5",
   "metadata": {},
   "outputs": [],
   "source": [
    "# 파이썬\n",
    "# 주석문"
   ]
  },
  {
   "cell_type": "code",
   "execution_count": 14,
   "id": "0b3541b9-e987-41ed-8e0f-bae02aec4676",
   "metadata": {},
   "outputs": [
    {
     "name": "stdout",
     "output_type": "stream",
     "text": [
      "1\n"
     ]
    }
   ],
   "source": [
    "'''\n",
    "파이썬\n",
    "블럭\n",
    "주석문\n",
    "'''\n",
    "print(1)"
   ]
  },
  {
   "cell_type": "markdown",
   "id": "bf84c327-3553-4954-ba7c-3b5a992f3bbd",
   "metadata": {},
   "source": [
    "### 들여쓰기"
   ]
  },
  {
   "cell_type": "code",
   "execution_count": 3,
   "id": "c0c198c0-c07d-4265-baa7-a96c30c21643",
   "metadata": {},
   "outputs": [
    {
     "name": "stdout",
     "output_type": "stream",
     "text": [
      "True\n"
     ]
    }
   ],
   "source": [
    "a = True\n",
    "if a:                     # 코드 블록의 시작은 콜론(:)\n",
    "    print(\"True\")         # 들여쓰기로 탭을 사용할 수 있지만 권장하지 않으며, 스페이스 4칸을 권장\n",
    "else:\n",
    "    print(\"False\")"
   ]
  },
  {
   "cell_type": "code",
   "execution_count": 4,
   "id": "e9f44771-5f8d-4563-b78b-c46aac6ccba2",
   "metadata": {},
   "outputs": [
    {
     "name": "stdout",
     "output_type": "stream",
     "text": [
      "True\n",
      "True End ...\n",
      "End...\n"
     ]
    }
   ],
   "source": [
    "a = True\n",
    "if a:\n",
    "    print(\"True\")\n",
    "    print(\"True End ...\")\n",
    "else:\n",
    "    print(\"False\")\n",
    "print('End...')"
   ]
  },
  {
   "cell_type": "code",
   "execution_count": null,
   "id": "346fa85a-b7af-42c4-bdaa-d24ed17ade46",
   "metadata": {},
   "outputs": [],
   "source": []
  }
 ],
 "metadata": {
  "kernelspec": {
   "display_name": "Python 3",
   "language": "python",
   "name": "python3"
  },
  "language_info": {
   "codemirror_mode": {
    "name": "ipython",
    "version": 3
   },
   "file_extension": ".py",
   "mimetype": "text/x-python",
   "name": "python",
   "nbconvert_exporter": "python",
   "pygments_lexer": "ipython3",
   "version": "3.8.8"
  }
 },
 "nbformat": 4,
 "nbformat_minor": 5
}
