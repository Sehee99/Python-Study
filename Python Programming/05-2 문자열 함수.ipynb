{
 "cells": [
  {
   "cell_type": "markdown",
   "id": "7a718e69-4bf5-4dd3-86e2-0780517a192b",
   "metadata": {},
   "source": [
    "### 문자열 함수"
   ]
  },
  {
   "cell_type": "markdown",
   "id": "aa06c216-c481-415a-aef4-748fa6794e7a",
   "metadata": {},
   "source": [
    "len() 함수: 문자열의 길이 계산"
   ]
  },
  {
   "cell_type": "code",
   "execution_count": 1,
   "id": "9eacc299-a6a0-4ca4-a291-c29b420e9005",
   "metadata": {},
   "outputs": [
    {
     "data": {
      "text/plain": [
       "16"
      ]
     },
     "execution_count": 1,
     "metadata": {},
     "output_type": "execute_result"
    }
   ],
   "source": [
    "len('HelloWorldPython')"
   ]
  },
  {
   "cell_type": "markdown",
   "id": "d665738d-0db9-4c78-8ede-1f6e0a6c3be6",
   "metadata": {},
   "source": [
    "join() 함수: 지정된 문자로 문자열을 연결"
   ]
  },
  {
   "cell_type": "code",
   "execution_count": 2,
   "id": "2f523077-d6da-44c4-974f-fb07ca861192",
   "metadata": {},
   "outputs": [
    {
     "data": {
      "text/plain": [
       "'H-e-l-l-o-W-o-l-r-d-P-y-t-h-o-n'"
      ]
     },
     "execution_count": 2,
     "metadata": {},
     "output_type": "execute_result"
    }
   ],
   "source": [
    "'-'.join('HelloWolrdPython')"
   ]
  },
  {
   "cell_type": "code",
   "execution_count": 3,
   "id": "5b7d386f-f710-4a11-90e0-9195541cf408",
   "metadata": {},
   "outputs": [
    {
     "data": {
      "text/plain": [
       "'1-2-3-4-5'"
      ]
     },
     "execution_count": 3,
     "metadata": {},
     "output_type": "execute_result"
    }
   ],
   "source": [
    "'-'.join('12345')"
   ]
  },
  {
   "cell_type": "markdown",
   "id": "5e966c03-514c-4156-879a-8b17f981ab09",
   "metadata": {},
   "source": [
    "split() 함수: 지정된 문자로 분할하여 리스트로 반환"
   ]
  },
  {
   "cell_type": "code",
   "execution_count": 4,
   "id": "793cc071-2b2c-4221-ad88-20fd45845801",
   "metadata": {},
   "outputs": [
    {
     "data": {
      "text/plain": [
       "['Hello=Wrold', 'Python']"
      ]
     },
     "execution_count": 4,
     "metadata": {},
     "output_type": "execute_result"
    }
   ],
   "source": [
    "'Hello=Wrold-Python'.split('-')"
   ]
  },
  {
   "cell_type": "code",
   "execution_count": 5,
   "id": "3e183f6a-3ab6-4a1b-ab69-1e3255eb5fa7",
   "metadata": {},
   "outputs": [
    {
     "data": {
      "text/plain": [
       "['서울시', '마포구', '상암동', '1585']"
      ]
     },
     "execution_count": 5,
     "metadata": {},
     "output_type": "execute_result"
    }
   ],
   "source": [
    "'서울시 마포구 상암동 1585'.split()"
   ]
  },
  {
   "cell_type": "markdown",
   "id": "b24591e3-7828-4ff2-97ea-45ebddd62e2c",
   "metadata": {},
   "source": [
    "strip() 함수\" 지정된 문자를 문자열로부터 제거"
   ]
  },
  {
   "cell_type": "code",
   "execution_count": 6,
   "id": "8493829b-7615-42b4-8c83-94dd0ab730e7",
   "metadata": {},
   "outputs": [
    {
     "data": {
      "text/plain": [
       "'문자열 정리'"
      ]
     },
     "execution_count": 6,
     "metadata": {},
     "output_type": "execute_result"
    }
   ],
   "source": [
    "text='\\t 문자열 정리    \\n'   #\\t(tab), \\n(enter) escape 문자\n",
    "text.strip()      #띄어쓰기 공백은 제거되지 않음"
   ]
  },
  {
   "cell_type": "markdown",
   "id": "09db5b73-0219-41ac-a3c6-26370dd68868",
   "metadata": {},
   "source": [
    "replace() 함수: 문자열 내 특정 문자를 다른 문자로 대체"
   ]
  },
  {
   "cell_type": "code",
   "execution_count": 7,
   "id": "d1ff02ed-2bac-4c6a-ba98-2a1d86f3ac86",
   "metadata": {},
   "outputs": [
    {
     "data": {
      "text/plain": [
       "'2016-08-30'"
      ]
     },
     "execution_count": 7,
     "metadata": {},
     "output_type": "execute_result"
    }
   ],
   "source": [
    "생일='2016/08/30'\n",
    "생일.replace('/', '-')"
   ]
  },
  {
   "cell_type": "markdown",
   "id": "f68c8c91-7bba-4164-9e95-30dae0377507",
   "metadata": {},
   "source": [
    "startswith() / endswith() 함수: 특정 문자열로 시작 / 종료 여부 검사, bool 자료형으로 반환"
   ]
  },
  {
   "cell_type": "code",
   "execution_count": 8,
   "id": "e93a0fe2-1410-4d03-842b-5e48fbfd7c5d",
   "metadata": {},
   "outputs": [
    {
     "data": {
      "text/plain": [
       "True"
      ]
     },
     "execution_count": 8,
     "metadata": {},
     "output_type": "execute_result"
    }
   ],
   "source": [
    "'Hello World Python'.startswith('Hello')"
   ]
  },
  {
   "cell_type": "code",
   "execution_count": 9,
   "id": "cdb9c917-d587-4f68-be27-c43ea5d54303",
   "metadata": {},
   "outputs": [
    {
     "data": {
      "text/plain": [
       "False"
      ]
     },
     "execution_count": 9,
     "metadata": {},
     "output_type": "execute_result"
    }
   ],
   "source": [
    "'Hello World Python'.startswith('hello')"
   ]
  },
  {
   "cell_type": "code",
   "execution_count": 10,
   "id": "d398e7b2-b559-4e2f-82f1-377358976c02",
   "metadata": {},
   "outputs": [
    {
     "data": {
      "text/plain": [
       "True"
      ]
     },
     "execution_count": 10,
     "metadata": {},
     "output_type": "execute_result"
    }
   ],
   "source": [
    "'Hello World Python'.endswith('Python')"
   ]
  },
  {
   "cell_type": "code",
   "execution_count": 11,
   "id": "d5dfc22d-cceb-4c55-973b-efaf29d8edf7",
   "metadata": {},
   "outputs": [
    {
     "data": {
      "text/plain": [
       "False"
      ]
     },
     "execution_count": 11,
     "metadata": {},
     "output_type": "execute_result"
    }
   ],
   "source": [
    "'Hello World Python'.endswith('python')"
   ]
  },
  {
   "cell_type": "markdown",
   "id": "f5240a86-36e7-4437-8ec2-4ce05c4428a9",
   "metadata": {},
   "source": [
    "count()함수: 문자열 내 지정된 문자의 개수"
   ]
  },
  {
   "cell_type": "code",
   "execution_count": 12,
   "id": "bc7d32f3-13b1-43e2-b544-4dc883151474",
   "metadata": {},
   "outputs": [
    {
     "data": {
      "text/plain": [
       "3"
      ]
     },
     "execution_count": 12,
     "metadata": {},
     "output_type": "execute_result"
    }
   ],
   "source": [
    "text='Hello World Python'\n",
    "text.count('o')"
   ]
  },
  {
   "cell_type": "code",
   "execution_count": 13,
   "id": "248c74dc-a464-4b67-8f11-385375bafa77",
   "metadata": {},
   "outputs": [
    {
     "data": {
      "text/plain": [
       "2"
      ]
     },
     "execution_count": 13,
     "metadata": {},
     "output_type": "execute_result"
    }
   ],
   "source": [
    "text='Hello World Python, Welcome to Python World'\n",
    "text.count('Python')"
   ]
  },
  {
   "cell_type": "markdown",
   "id": "5d05edf2-6c52-41e8-863b-93cc8d98a3ea",
   "metadata": {},
   "source": [
    "index() / find() 함수: 문자열 내 지정된 문자 / 문자열 위치 인덱스"
   ]
  },
  {
   "cell_type": "code",
   "execution_count": 14,
   "id": "87cd6e38-116c-4da8-b840-5881a16d5999",
   "metadata": {},
   "outputs": [
    {
     "data": {
      "text/plain": [
       "4"
      ]
     },
     "execution_count": 14,
     "metadata": {},
     "output_type": "execute_result"
    }
   ],
   "source": [
    "text.index('o')"
   ]
  },
  {
   "cell_type": "code",
   "execution_count": 15,
   "id": "265fd7e6-1fcd-4735-ace8-21c78534a4cd",
   "metadata": {},
   "outputs": [
    {
     "data": {
      "text/plain": [
       "7"
      ]
     },
     "execution_count": 15,
     "metadata": {},
     "output_type": "execute_result"
    }
   ],
   "source": [
    "text.index('o', 5) #index 5 이후부터"
   ]
  },
  {
   "cell_type": "code",
   "execution_count": 16,
   "id": "f619ea45-4080-4024-8575-4ae64bf6547f",
   "metadata": {},
   "outputs": [
    {
     "data": {
      "text/plain": [
       "12"
      ]
     },
     "execution_count": 16,
     "metadata": {},
     "output_type": "execute_result"
    }
   ],
   "source": [
    "text.find('Python') #문자열이 처음 등장하는 index"
   ]
  },
  {
   "cell_type": "code",
   "execution_count": 17,
   "id": "908069e8-fad3-4a1b-aa3e-0bf84296f37c",
   "metadata": {},
   "outputs": [
    {
     "data": {
      "text/plain": [
       "31"
      ]
     },
     "execution_count": 17,
     "metadata": {},
     "output_type": "execute_result"
    }
   ],
   "source": [
    "text.find('Python', 20)"
   ]
  },
  {
   "cell_type": "markdown",
   "id": "d87548eb-14b8-49ae-9d55-9ca557e7e7a2",
   "metadata": {},
   "source": [
    "capitalize() / lower() / upper() 함수: 문자열을 첫 글자만 대문자 / 소문자 / 대문자로 반환"
   ]
  },
  {
   "cell_type": "code",
   "execution_count": 18,
   "id": "3de6834c-9b0e-466d-a52c-efee7afde7ad",
   "metadata": {},
   "outputs": [
    {
     "data": {
      "text/plain": [
       "'Hello world'"
      ]
     },
     "execution_count": 18,
     "metadata": {},
     "output_type": "execute_result"
    }
   ],
   "source": [
    "'Hello World'.capitalize()"
   ]
  },
  {
   "cell_type": "code",
   "execution_count": 19,
   "id": "f077fe82-24da-4f46-b270-f8e160975259",
   "metadata": {},
   "outputs": [
    {
     "data": {
      "text/plain": [
       "'hello wolrd'"
      ]
     },
     "execution_count": 19,
     "metadata": {},
     "output_type": "execute_result"
    }
   ],
   "source": [
    "'Hello Wolrd'.lower()"
   ]
  },
  {
   "cell_type": "code",
   "execution_count": 20,
   "id": "85ca9b81-f071-46ff-bc19-029593a4d68d",
   "metadata": {},
   "outputs": [
    {
     "data": {
      "text/plain": [
       "'HELLO WORLD'"
      ]
     },
     "execution_count": 20,
     "metadata": {},
     "output_type": "execute_result"
    }
   ],
   "source": [
    "'Hello World'.upper()"
   ]
  },
  {
   "cell_type": "markdown",
   "id": "c9602e4e-c70e-48ef-8581-f9db09825e48",
   "metadata": {},
   "source": [
    "문자열 in 연산자: 문자열 내 특정 문자열 포함 여부를 bool 자료형으로 반환"
   ]
  },
  {
   "cell_type": "code",
   "execution_count": 21,
   "id": "42da542e-4964-4415-aa91-d656723edd83",
   "metadata": {},
   "outputs": [
    {
     "data": {
      "text/plain": [
       "True"
      ]
     },
     "execution_count": 21,
     "metadata": {},
     "output_type": "execute_result"
    }
   ],
   "source": [
    "'Python' in 'Hello World Python'"
   ]
  },
  {
   "cell_type": "code",
   "execution_count": 22,
   "id": "cbb85499-756d-4532-8207-5fb5a040f7f1",
   "metadata": {},
   "outputs": [
    {
     "data": {
      "text/plain": [
       "False"
      ]
     },
     "execution_count": 22,
     "metadata": {},
     "output_type": "execute_result"
    }
   ],
   "source": [
    "'Java' in 'Hello World Python'"
   ]
  }
 ],
 "metadata": {
  "kernelspec": {
   "display_name": "Python 3",
   "language": "python",
   "name": "python3"
  },
  "language_info": {
   "codemirror_mode": {
    "name": "ipython",
    "version": 3
   },
   "file_extension": ".py",
   "mimetype": "text/x-python",
   "name": "python",
   "nbconvert_exporter": "python",
   "pygments_lexer": "ipython3",
   "version": "3.8.8"
  }
 },
 "nbformat": 4,
 "nbformat_minor": 5
}
