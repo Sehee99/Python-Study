{
 "cells": [
  {
   "cell_type": "markdown",
   "id": "528dcb41-4d5e-4608-ab18-f733d28fd657",
   "metadata": {},
   "source": [
    "### for 반복문과 리스트"
   ]
  },
  {
   "cell_type": "code",
   "execution_count": 2,
   "id": "b65e7aa6-b599-405b-8179-523d7d670186",
   "metadata": {},
   "outputs": [
    {
     "name": "stdout",
     "output_type": "stream",
     "text": [
      "1\n",
      "2\n",
      "3\n"
     ]
    }
   ],
   "source": [
    "for num in [1,2,3]:\n",
    "    print(num)"
   ]
  },
  {
   "cell_type": "code",
   "execution_count": 3,
   "id": "6aafeed0-4a51-4ea1-b1c3-cbf6aca68ae2",
   "metadata": {},
   "outputs": [
    {
     "name": "stdout",
     "output_type": "stream",
     "text": [
      "Hello\n",
      "World\n",
      "Python\n"
     ]
    }
   ],
   "source": [
    "for st in ['Hello', 'World', 'Python']:\n",
    "    print(st)"
   ]
  },
  {
   "cell_type": "markdown",
   "id": "391562a7-dd1b-4fcc-93e0-7ea93cd5f320",
   "metadata": {},
   "source": [
    "### for 반복문과 딕셔너리"
   ]
  },
  {
   "cell_type": "code",
   "execution_count": 4,
   "id": "0b5db7af-6d3a-4a92-9ace-17a4faf49870",
   "metadata": {},
   "outputs": [],
   "source": [
    "score={'국어':95, '영어':90, '수학':80}"
   ]
  },
  {
   "cell_type": "code",
   "execution_count": 5,
   "id": "e7838def-e94d-4aad-bcf2-1ad07a84f5b1",
   "metadata": {},
   "outputs": [
    {
     "name": "stdout",
     "output_type": "stream",
     "text": [
      "국어\n",
      "영어\n",
      "수학\n"
     ]
    }
   ],
   "source": [
    "for item in score.keys():\n",
    "    print(item)"
   ]
  },
  {
   "cell_type": "code",
   "execution_count": 6,
   "id": "2ee04bde-d625-4758-8950-4e1baa79f6a5",
   "metadata": {},
   "outputs": [
    {
     "name": "stdout",
     "output_type": "stream",
     "text": [
      "95\n",
      "90\n",
      "80\n"
     ]
    }
   ],
   "source": [
    "for item in score.values():\n",
    "    print(item)"
   ]
  },
  {
   "cell_type": "code",
   "execution_count": 9,
   "id": "60d2b264-547b-4cc6-ab64-dd6b6459f028",
   "metadata": {},
   "outputs": [
    {
     "name": "stdout",
     "output_type": "stream",
     "text": [
      "국어과목 점수는 95점 입니다.\n",
      "영어과목 점수는 90점 입니다.\n",
      "수학과목 점수는 80점 입니다.\n"
     ]
    }
   ],
   "source": [
    "for key, value in score.items():\n",
    "    print(f'{key}과목 점수는 {value}점 입니다.')"
   ]
  },
  {
   "cell_type": "markdown",
   "id": "fb5b3281-c91e-40fd-b99f-82fedf87334b",
   "metadata": {},
   "source": [
    "### for 반복문과 range() 함수"
   ]
  },
  {
   "cell_type": "markdown",
   "id": "75f2eb04-010b-4cae-845e-81503f78420e",
   "metadata": {},
   "source": [
    "range(start=0, stop, step=1)"
   ]
  },
  {
   "cell_type": "code",
   "execution_count": 10,
   "id": "24cfc9f5-d8d1-44e3-9aa8-ba7011ed8448",
   "metadata": {},
   "outputs": [
    {
     "data": {
      "text/plain": [
       "[0, 1, 2, 3, 4, 5, 6, 7, 8, 9]"
      ]
     },
     "execution_count": 10,
     "metadata": {},
     "output_type": "execute_result"
    }
   ],
   "source": [
    "list(range(10))"
   ]
  },
  {
   "cell_type": "code",
   "execution_count": 11,
   "id": "075c9479-5fb0-4b38-b294-c0238424c03e",
   "metadata": {},
   "outputs": [
    {
     "data": {
      "text/plain": [
       "[1, 2, 3, 4, 5, 6, 7, 8, 9, 10]"
      ]
     },
     "execution_count": 11,
     "metadata": {},
     "output_type": "execute_result"
    }
   ],
   "source": [
    "list(range(1,11))"
   ]
  },
  {
   "cell_type": "code",
   "execution_count": 12,
   "id": "9329691e-7574-437f-829b-3b71fd57ae9e",
   "metadata": {},
   "outputs": [
    {
     "data": {
      "text/plain": [
       "[10, 9, 8, 7, 6, 5, 4, 3, 2, 1]"
      ]
     },
     "execution_count": 12,
     "metadata": {},
     "output_type": "execute_result"
    }
   ],
   "source": [
    "list(range(10, 0, -1))"
   ]
  },
  {
   "cell_type": "code",
   "execution_count": 13,
   "id": "2331f955-b8af-4678-90a7-6b7430eb1111",
   "metadata": {},
   "outputs": [
    {
     "name": "stdout",
     "output_type": "stream",
     "text": [
      "1\n",
      "3\n",
      "5\n",
      "7\n",
      "9\n"
     ]
    }
   ],
   "source": [
    "for i in range(1, 11, 2):\n",
    "    print(i)"
   ]
  },
  {
   "cell_type": "code",
   "execution_count": 14,
   "id": "5e5f96f2-4e1d-4988-ba97-50ee858db336",
   "metadata": {},
   "outputs": [
    {
     "name": "stdout",
     "output_type": "stream",
     "text": [
      "0\n",
      "2\n",
      "4\n",
      "6\n",
      "8\n",
      "10\n"
     ]
    }
   ],
   "source": [
    "for i in range(0, 11, 2):\n",
    "    print(i)"
   ]
  },
  {
   "cell_type": "markdown",
   "id": "e5591b79-888f-401d-9500-58d3b6701283",
   "metadata": {},
   "source": [
    "### for 반복문과 else 구문"
   ]
  },
  {
   "cell_type": "code",
   "execution_count": 15,
   "id": "bc4e0d46-1b29-42af-9eec-1ef7cd8453aa",
   "metadata": {},
   "outputs": [
    {
     "name": "stdout",
     "output_type": "stream",
     "text": [
      "2 x 1 = 2\n",
      "2 x 2 = 4\n",
      "2 x 3 = 6\n",
      "2 x 4 = 8\n",
      "2 x 5 = 10\n",
      "2 x 6 = 12\n",
      "2 x 7 = 14\n",
      "2 x 8 = 16\n",
      "2 x 9 = 18\n",
      "구구단 2단을 종료합니다.\n"
     ]
    }
   ],
   "source": [
    "for i in range(1, 10):\n",
    "    ans=2*i\n",
    "    print(f'2 x {i} = {ans}')\n",
    "else:\n",
    "    print('구구단 2단을 종료합니다.')"
   ]
  }
 ],
 "metadata": {
  "kernelspec": {
   "display_name": "Python 3",
   "language": "python",
   "name": "python3"
  },
  "language_info": {
   "codemirror_mode": {
    "name": "ipython",
    "version": 3
   },
   "file_extension": ".py",
   "mimetype": "text/x-python",
   "name": "python",
   "nbconvert_exporter": "python",
   "pygments_lexer": "ipython3",
   "version": "3.8.8"
  }
 },
 "nbformat": 4,
 "nbformat_minor": 5
}
