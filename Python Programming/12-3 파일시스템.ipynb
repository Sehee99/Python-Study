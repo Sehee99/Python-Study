{
 "cells": [
  {
   "cell_type": "markdown",
   "id": "d442f8d2-f4e6-414d-ae28-e77109ec1703",
   "metadata": {},
   "source": [
    "### os 모듈을 이용한 파일시스템 접근"
   ]
  },
  {
   "cell_type": "code",
   "execution_count": 1,
   "id": "5a26dd23-727f-483c-8878-726ac9a106ea",
   "metadata": {},
   "outputs": [],
   "source": [
    "import os"
   ]
  },
  {
   "cell_type": "markdown",
   "id": "6d2aced5-8b6a-431c-8933-7899df8d56a4",
   "metadata": {},
   "source": [
    "### os.listdir() 함수"
   ]
  },
  {
   "cell_type": "markdown",
   "id": "411bb3b7-ecef-487f-b211-b731a2069542",
   "metadata": {},
   "source": [
    "* 지정된 디렉토리의 디렉토리 / 파일 목록 반환"
   ]
  },
  {
   "cell_type": "code",
   "execution_count": 2,
   "id": "1cce8ec9-182b-46b4-8ee6-4bb9e3548434",
   "metadata": {},
   "outputs": [
    {
     "data": {
      "text/plain": [
       "['.ipynb_checkpoints',\n",
       " '07-1 셋.ipynb',\n",
       " '07-2 셋의 집합연산.ipynb',\n",
       " '07-3 딕셔너리.ipynb',\n",
       " '08-1 비교 논리 연산자.ipynb',\n",
       " '08-2 조건문.ipynb',\n",
       " '08-3 중첩 복합 조건문.ipynb',\n",
       " '09-1 for 반복문.ipynb',\n",
       " '09-2 while 반복문.ipynb',\n",
       " '09-3 리스트 컴프리헨션.ipynb',\n",
       " '10-2 사용자정의 함수.ipynb',\n",
       " '10-3 함수의 매개변수.ipynb',\n",
       " '11-2 파이썬 모듈 활용.ipynb',\n",
       " '11-3 사용자 정의 모듈.ipynb',\n",
       " '12-1 hello.txt',\n",
       " '12-1 파일입력.ipynb',\n",
       " '12-2 파일출력.ipynb',\n",
       " '12-3 파일시스템.ipynb',\n",
       " 'hello_write.txt',\n",
       " 'mymodule',\n",
       " 'myprint.ipynb',\n",
       " 'myprint.py',\n",
       " '__pycache__']"
      ]
     },
     "execution_count": 2,
     "metadata": {},
     "output_type": "execute_result"
    }
   ],
   "source": [
    "os.listdir('.')"
   ]
  },
  {
   "cell_type": "markdown",
   "id": "30b6e54a-efd5-42f2-9b05-06d4d3cb5e91",
   "metadata": {},
   "source": [
    "### os.listdir() 함수와 필터링"
   ]
  },
  {
   "cell_type": "markdown",
   "id": "a1e05255-0058-45a3-b24c-89889f0d08d3",
   "metadata": {},
   "source": [
    "* os.listdir() 함수와 리스트 컴프리헨션을 이용한 필터링"
   ]
  },
  {
   "cell_type": "code",
   "execution_count": 3,
   "id": "9de7e134-cce3-4f68-a276-8183313eca89",
   "metadata": {},
   "outputs": [],
   "source": [
    "file_list=os.listdir('.')"
   ]
  },
  {
   "cell_type": "code",
   "execution_count": 4,
   "id": "08c5e189-0a21-4730-b1ce-484b99623fe3",
   "metadata": {},
   "outputs": [],
   "source": [
    "file_ipynb=[f for f in file_list if f.endswith('.ipynb')]"
   ]
  },
  {
   "cell_type": "code",
   "execution_count": 5,
   "id": "a8b17095-7c8d-45bf-8082-256be878f023",
   "metadata": {},
   "outputs": [
    {
     "data": {
      "text/plain": [
       "['07-1 셋.ipynb',\n",
       " '07-2 셋의 집합연산.ipynb',\n",
       " '07-3 딕셔너리.ipynb',\n",
       " '08-1 비교 논리 연산자.ipynb',\n",
       " '08-2 조건문.ipynb',\n",
       " '08-3 중첩 복합 조건문.ipynb',\n",
       " '09-1 for 반복문.ipynb',\n",
       " '09-2 while 반복문.ipynb',\n",
       " '09-3 리스트 컴프리헨션.ipynb',\n",
       " '10-2 사용자정의 함수.ipynb',\n",
       " '10-3 함수의 매개변수.ipynb',\n",
       " '11-2 파이썬 모듈 활용.ipynb',\n",
       " '11-3 사용자 정의 모듈.ipynb',\n",
       " '12-1 파일입력.ipynb',\n",
       " '12-2 파일출력.ipynb',\n",
       " '12-3 파일시스템.ipynb',\n",
       " 'myprint.ipynb']"
      ]
     },
     "execution_count": 5,
     "metadata": {},
     "output_type": "execute_result"
    }
   ],
   "source": [
    "file_ipynb"
   ]
  },
  {
   "cell_type": "markdown",
   "id": "0b1158ea-8e67-4188-a962-dbced9df6d4e",
   "metadata": {},
   "source": [
    "### os.getcwd() 함수"
   ]
  },
  {
   "cell_type": "markdown",
   "id": "86ade91a-027b-4713-92f0-a4f2f38d3146",
   "metadata": {},
   "source": [
    "* 현재 디렉토리 반환"
   ]
  },
  {
   "cell_type": "code",
   "execution_count": 6,
   "id": "b21d17e1-c17c-45f4-8afb-4f3f91baf0e1",
   "metadata": {},
   "outputs": [
    {
     "data": {
      "text/plain": [
       "'C:\\\\python\\\\7월 7일'"
      ]
     },
     "execution_count": 6,
     "metadata": {},
     "output_type": "execute_result"
    }
   ],
   "source": [
    "os.getcwd()"
   ]
  },
  {
   "cell_type": "markdown",
   "id": "05abad00-9378-45cf-bb60-acaf7fd99b8c",
   "metadata": {},
   "source": [
    "### os.mkdir() 함수"
   ]
  },
  {
   "cell_type": "markdown",
   "id": "f15c0e70-2ce8-4959-af4f-9b1a6f03dc3f",
   "metadata": {},
   "source": [
    "* 디렉토리 생성"
   ]
  },
  {
   "cell_type": "code",
   "execution_count": 7,
   "id": "e57f016d-c41e-46d7-be20-6419dbf5a6b7",
   "metadata": {},
   "outputs": [],
   "source": [
    "os.mkdir('test')"
   ]
  },
  {
   "cell_type": "markdown",
   "id": "b6ba48ed-a380-4897-913f-a7cff8f5e11b",
   "metadata": {},
   "source": [
    "### os.path.join() 함수"
   ]
  },
  {
   "cell_type": "markdown",
   "id": "41029338-3050-4abd-8ba5-abc7ffb87694",
   "metadata": {},
   "source": [
    "* 현재 OS의 파일구분자로 연결"
   ]
  },
  {
   "cell_type": "code",
   "execution_count": 8,
   "id": "c3e37c93-4d88-44fe-87cc-c283ca302a75",
   "metadata": {},
   "outputs": [
    {
     "data": {
      "text/plain": [
       "'.\\\\test'"
      ]
     },
     "execution_count": 8,
     "metadata": {},
     "output_type": "execute_result"
    }
   ],
   "source": [
    "os.path.join('.', 'test')"
   ]
  },
  {
   "cell_type": "markdown",
   "id": "d65ebfb3-d436-4b93-a669-47d94fce00d8",
   "metadata": {},
   "source": [
    "### os.path.abspath() 함수"
   ]
  },
  {
   "cell_type": "markdown",
   "id": "92c917f5-1545-4e86-b21d-4b201f597a2a",
   "metadata": {},
   "source": [
    "* 지정된 파일의 절대 경로 반환"
   ]
  },
  {
   "cell_type": "code",
   "execution_count": 9,
   "id": "2466b381-056a-463b-af2c-839f51fba311",
   "metadata": {},
   "outputs": [
    {
     "data": {
      "text/plain": [
       "'C:\\\\python\\\\7월 7일\\\\hello_write.txt'"
      ]
     },
     "execution_count": 9,
     "metadata": {},
     "output_type": "execute_result"
    }
   ],
   "source": [
    "os.path.abspath('hello_write.txt')"
   ]
  },
  {
   "cell_type": "markdown",
   "id": "a5150b51-106d-4e34-b7d9-3694ebb94118",
   "metadata": {},
   "source": [
    "### os.path.isfile() / isdir() 함수"
   ]
  },
  {
   "cell_type": "markdown",
   "id": "ff878669-7125-4a9c-9a2b-918a4dea100b",
   "metadata": {},
   "source": [
    "* 파일 / 디렉토리 여부 출력"
   ]
  },
  {
   "cell_type": "code",
   "execution_count": 10,
   "id": "ad9a3243-3b38-4195-823c-94c515c4f16a",
   "metadata": {},
   "outputs": [
    {
     "data": {
      "text/plain": [
       "True"
      ]
     },
     "execution_count": 10,
     "metadata": {},
     "output_type": "execute_result"
    }
   ],
   "source": [
    "os.path.isfile('hello_write.txt')"
   ]
  },
  {
   "cell_type": "code",
   "execution_count": 12,
   "id": "b1513833-ea6a-42fa-a388-0c13853c0536",
   "metadata": {},
   "outputs": [
    {
     "data": {
      "text/plain": [
       "False"
      ]
     },
     "execution_count": 12,
     "metadata": {},
     "output_type": "execute_result"
    }
   ],
   "source": [
    "os.path.isdir('hello_write.txt')"
   ]
  },
  {
   "cell_type": "code",
   "execution_count": 13,
   "id": "19d06d14-6a72-490c-a52a-21b6dfd9b11d",
   "metadata": {},
   "outputs": [
    {
     "data": {
      "text/plain": [
       "False"
      ]
     },
     "execution_count": 13,
     "metadata": {},
     "output_type": "execute_result"
    }
   ],
   "source": [
    "os.path.isfile('test')"
   ]
  },
  {
   "cell_type": "code",
   "execution_count": 14,
   "id": "d838cd46-19f3-43f8-8706-f6b14202fed6",
   "metadata": {},
   "outputs": [
    {
     "data": {
      "text/plain": [
       "True"
      ]
     },
     "execution_count": 14,
     "metadata": {},
     "output_type": "execute_result"
    }
   ],
   "source": [
    "os.path.isdir('test')"
   ]
  },
  {
   "cell_type": "markdown",
   "id": "d6be8adc-f376-46c9-af8a-2438ef4e3dc5",
   "metadata": {},
   "source": [
    "### os.path.split() 함수"
   ]
  },
  {
   "cell_type": "markdown",
   "id": "83f25821-21cd-45da-a010-65f3fabd19ac",
   "metadata": {},
   "source": [
    "* 디렉토리명과 파일명 분리"
   ]
  },
  {
   "cell_type": "code",
   "execution_count": 15,
   "id": "8352ed20-0623-4c69-9ef5-b8a02773ae6a",
   "metadata": {},
   "outputs": [
    {
     "data": {
      "text/plain": [
       "('C:\\\\python\\\\7월 7일', 'hello_write.txt')"
      ]
     },
     "execution_count": 15,
     "metadata": {},
     "output_type": "execute_result"
    }
   ],
   "source": [
    "os.path.split(os.path.abspath('hello_write.txt'))"
   ]
  },
  {
   "cell_type": "markdown",
   "id": "043b8407-5ee5-49b1-bd04-cb31eb594379",
   "metadata": {},
   "source": [
    "### os.path.splitext() 함수"
   ]
  },
  {
   "cell_type": "markdown",
   "id": "dc842e2b-6316-4a53-a7ef-70f27e0b56c5",
   "metadata": {},
   "source": [
    "* 파일명과 확장자 분리"
   ]
  },
  {
   "cell_type": "code",
   "execution_count": 16,
   "id": "b4adb7ed-e486-4d99-8858-e1162b52072a",
   "metadata": {},
   "outputs": [
    {
     "data": {
      "text/plain": [
       "('hello_write', '.txt')"
      ]
     },
     "execution_count": 16,
     "metadata": {},
     "output_type": "execute_result"
    }
   ],
   "source": [
    "os.path.splitext('hello_write.txt')"
   ]
  }
 ],
 "metadata": {
  "kernelspec": {
   "display_name": "Python 3",
   "language": "python",
   "name": "python3"
  },
  "language_info": {
   "codemirror_mode": {
    "name": "ipython",
    "version": 3
   },
   "file_extension": ".py",
   "mimetype": "text/x-python",
   "name": "python",
   "nbconvert_exporter": "python",
   "pygments_lexer": "ipython3",
   "version": "3.8.8"
  }
 },
 "nbformat": 4,
 "nbformat_minor": 5
}
