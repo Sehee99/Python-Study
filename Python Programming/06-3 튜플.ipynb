{
 "cells": [
  {
   "cell_type": "markdown",
   "id": "c1711904-5aed-443c-9725-bdd8336b9321",
   "metadata": {},
   "source": [
    "### 튜플"
   ]
  },
  {
   "cell_type": "code",
   "execution_count": 2,
   "id": "751c6557-66ed-4f05-8ed2-2013489464b3",
   "metadata": {},
   "outputs": [
    {
     "data": {
      "text/plain": [
       "('A', 'B', 'C', 'D', 'E')"
      ]
     },
     "execution_count": 2,
     "metadata": {},
     "output_type": "execute_result"
    }
   ],
   "source": [
    "tuple1=('A', 'B', 'C', 'D', 'E')\n",
    "tuple1"
   ]
  },
  {
   "cell_type": "code",
   "execution_count": 3,
   "id": "e0dc6855-232c-4be5-af10-ccb69cff020e",
   "metadata": {},
   "outputs": [
    {
     "ename": "TypeError",
     "evalue": "'tuple' object does not support item assignment",
     "output_type": "error",
     "traceback": [
      "\u001b[1;31m---------------------------------------------------------------------------\u001b[0m",
      "\u001b[1;31mTypeError\u001b[0m                                 Traceback (most recent call last)",
      "\u001b[1;32m<ipython-input-3-9f0bf6c7fc49>\u001b[0m in \u001b[0;36m<module>\u001b[1;34m\u001b[0m\n\u001b[1;32m----> 1\u001b[1;33m \u001b[0mtuple1\u001b[0m\u001b[1;33m[\u001b[0m\u001b[1;36m0\u001b[0m\u001b[1;33m]\u001b[0m\u001b[1;33m=\u001b[0m\u001b[1;34m'a'\u001b[0m   \u001b[1;31m#튜플의 원소 변경은 불가, read only, index 함수와 count 함수만 사용 가능\u001b[0m\u001b[1;33m\u001b[0m\u001b[1;33m\u001b[0m\u001b[0m\n\u001b[0m",
      "\u001b[1;31mTypeError\u001b[0m: 'tuple' object does not support item assignment"
     ]
    }
   ],
   "source": [
    "tuple1[0]='a'   #튜플의 원소 변경은 불가, read only, index 함수와 count 함수만 사용 가능"
   ]
  },
  {
   "cell_type": "code",
   "execution_count": 4,
   "id": "47148245-a5c0-4de3-aaed-d12ebc99ade3",
   "metadata": {},
   "outputs": [
    {
     "data": {
      "text/plain": [
       "2"
      ]
     },
     "execution_count": 4,
     "metadata": {},
     "output_type": "execute_result"
    }
   ],
   "source": [
    "tuple1.index('C')"
   ]
  },
  {
   "cell_type": "code",
   "execution_count": 5,
   "id": "7aec739d-11db-430d-b086-51e25e772935",
   "metadata": {},
   "outputs": [
    {
     "data": {
      "text/plain": [
       "1"
      ]
     },
     "execution_count": 5,
     "metadata": {},
     "output_type": "execute_result"
    }
   ],
   "source": [
    "tuple1.count('A')"
   ]
  },
  {
   "cell_type": "markdown",
   "id": "ff38e936-c4b8-4dbf-8b38-78165ff44767",
   "metadata": {},
   "source": [
    "### 튜플의 리스트 변환"
   ]
  },
  {
   "cell_type": "code",
   "execution_count": 6,
   "id": "4392a5a6-a019-45a3-b3b0-69e46f7d7f71",
   "metadata": {},
   "outputs": [],
   "source": [
    "list1=list(tuple1)"
   ]
  },
  {
   "cell_type": "code",
   "execution_count": 7,
   "id": "6fd4f4f2-7936-4171-b166-a628030f3b84",
   "metadata": {},
   "outputs": [
    {
     "data": {
      "text/plain": [
       "['A', 'B', 'C', 'D', 'E', 'a']"
      ]
     },
     "execution_count": 7,
     "metadata": {},
     "output_type": "execute_result"
    }
   ],
   "source": [
    "list1.append('a')\n",
    "list1"
   ]
  },
  {
   "cell_type": "markdown",
   "id": "f23133c9-bed3-4088-8e40-04bcaecc5ae3",
   "metadata": {},
   "source": [
    "### 리스트의 튜플 변환"
   ]
  },
  {
   "cell_type": "code",
   "execution_count": 8,
   "id": "abfaab39-bfd4-47e3-8889-bc5b6db3ca90",
   "metadata": {},
   "outputs": [
    {
     "data": {
      "text/plain": [
       "('A', 'B', 'C', 'D', 'E', 'a')"
      ]
     },
     "execution_count": 8,
     "metadata": {},
     "output_type": "execute_result"
    }
   ],
   "source": [
    "tuple2=tuple(list1)\n",
    "tuple2"
   ]
  }
 ],
 "metadata": {
  "kernelspec": {
   "display_name": "Python 3",
   "language": "python",
   "name": "python3"
  },
  "language_info": {
   "codemirror_mode": {
    "name": "ipython",
    "version": 3
   },
   "file_extension": ".py",
   "mimetype": "text/x-python",
   "name": "python",
   "nbconvert_exporter": "python",
   "pygments_lexer": "ipython3",
   "version": "3.8.8"
  }
 },
 "nbformat": 4,
 "nbformat_minor": 5
}
