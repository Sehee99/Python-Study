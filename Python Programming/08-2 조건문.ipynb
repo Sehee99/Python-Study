{
 "cells": [
  {
   "cell_type": "markdown",
   "id": "6bbb6be4-0db6-430a-8d87-320d6c347a75",
   "metadata": {},
   "source": [
    "### 조건문 1"
   ]
  },
  {
   "cell_type": "code",
   "execution_count": 12,
   "id": "7b7ec38f-32d5-4a58-bb6c-72107a1098eb",
   "metadata": {},
   "outputs": [],
   "source": [
    "x,y=10,5"
   ]
  },
  {
   "cell_type": "code",
   "execution_count": 13,
   "id": "f09b443e-3bdd-47ff-a90d-5961e66004a9",
   "metadata": {},
   "outputs": [
    {
     "name": "stdout",
     "output_type": "stream",
     "text": [
      "x가 y보다 큽니다.\n"
     ]
    }
   ],
   "source": [
    "if x>y:\n",
    "    print('x가 y보다 큽니다.')"
   ]
  },
  {
   "cell_type": "markdown",
   "id": "9e947a0a-9467-44cd-b826-787f6f0c4f92",
   "metadata": {},
   "source": [
    "### 조건문 2"
   ]
  },
  {
   "cell_type": "code",
   "execution_count": 2,
   "id": "f2d7e172-a8c5-446d-b506-fe6e85a9767d",
   "metadata": {},
   "outputs": [],
   "source": [
    "x,y=5,10"
   ]
  },
  {
   "cell_type": "code",
   "execution_count": 3,
   "id": "30f37d86-058f-42c8-9201-3f8036f25b7d",
   "metadata": {},
   "outputs": [
    {
     "name": "stdout",
     "output_type": "stream",
     "text": [
      "x가 y보다 작습니다.\n"
     ]
    }
   ],
   "source": [
    "if x>y:\n",
    "    print('x가 y보다 큽니다.')\n",
    "else:\n",
    "    print('x가 y보다 작습니다.')   # else: 기타의 상태"
   ]
  },
  {
   "cell_type": "markdown",
   "id": "9a2e1357-e59a-492a-9c16-c5f151f9da76",
   "metadata": {},
   "source": [
    "### 조건문 3"
   ]
  },
  {
   "cell_type": "code",
   "execution_count": 4,
   "id": "04e0150b-847b-477a-841e-bc2eebee871b",
   "metadata": {},
   "outputs": [],
   "source": [
    "x,y=10,10"
   ]
  },
  {
   "cell_type": "code",
   "execution_count": 5,
   "id": "c4417dd2-67b2-400a-bd7b-78378f3a1722",
   "metadata": {},
   "outputs": [
    {
     "name": "stdout",
     "output_type": "stream",
     "text": [
      "x와 y가 같습니다.\n"
     ]
    }
   ],
   "source": [
    "if x>y:\n",
    "    print('x가 y보다 큽니다.')\n",
    "elif x==y:               \n",
    "    print('x와 y가 같습니다.')     # elif: 그렇지 않다면(다른 language에서는 else if를 주로 사용)\n",
    "elif x<y:\n",
    "    print('x가 y보다 작습니다.')"
   ]
  },
  {
   "cell_type": "markdown",
   "id": "a9527956-6d4e-4099-85f4-69ec6b0cde82",
   "metadata": {},
   "source": [
    "### 조건문 4"
   ]
  },
  {
   "cell_type": "code",
   "execution_count": 20,
   "id": "1e0cb708-23c3-44af-8de2-971089c95a48",
   "metadata": {},
   "outputs": [],
   "source": [
    "score=90"
   ]
  },
  {
   "cell_type": "code",
   "execution_count": 21,
   "id": "30ffb09b-4321-4c2b-856e-b5b548cb3c00",
   "metadata": {},
   "outputs": [
    {
     "name": "stdout",
     "output_type": "stream",
     "text": [
      "A학점입니다.\n"
     ]
    }
   ],
   "source": [
    "if score>=90:\n",
    "    print('A학점입니다.')\n",
    "elif score>=80:\n",
    "    print('B학점입니다.')\n",
    "elif score>=70:\n",
    "    print('C학점입니다.')\n",
    "elif score>=60:\n",
    "    print('D학점입니다.')\n",
    "else:\n",
    "    print('F학점입니다.')"
   ]
  },
  {
   "cell_type": "markdown",
   "id": "9ca7f5d3-73a6-4e1d-a0a0-92fc29023581",
   "metadata": {},
   "source": [
    "---"
   ]
  },
  {
   "cell_type": "markdown",
   "id": "7fa1646a-7fca-46b8-9b0b-755c4d23fea6",
   "metadata": {},
   "source": [
    "조건문의 블록 범위는 들여쓰기에 의해 결정되므로 주의"
   ]
  },
  {
   "cell_type": "code",
   "execution_count": 22,
   "id": "2a20982d-eb62-4649-a64c-e1bfb8c681a7",
   "metadata": {},
   "outputs": [
    {
     "name": "stdout",
     "output_type": "stream",
     "text": [
      "a는 True 입니다.\n",
      "True End...\n",
      "False End...\n"
     ]
    }
   ],
   "source": [
    "a=True\n",
    "if a:\n",
    "    print(\"a는 True 입니다.\")\n",
    "    print(\"True End...\")\n",
    "else:\n",
    "    print(\"a는 False입니다.\")\n",
    "print(\"False End...\")"
   ]
  },
  {
   "cell_type": "code",
   "execution_count": 23,
   "id": "b4ebd6a8-1d81-444c-b492-be4381ff4351",
   "metadata": {},
   "outputs": [
    {
     "name": "stdout",
     "output_type": "stream",
     "text": [
      "a는 True 입니다.\n",
      "True End...\n"
     ]
    }
   ],
   "source": [
    "a=True\n",
    "if a:\n",
    "    print(\"a는 True 입니다.\")\n",
    "    print(\"True End...\")\n",
    "else:\n",
    "    print(\"a는 False입니다.\")\n",
    "    print(\"False End...\")"
   ]
  }
 ],
 "metadata": {
  "kernelspec": {
   "display_name": "Python 3",
   "language": "python",
   "name": "python3"
  },
  "language_info": {
   "codemirror_mode": {
    "name": "ipython",
    "version": 3
   },
   "file_extension": ".py",
   "mimetype": "text/x-python",
   "name": "python",
   "nbconvert_exporter": "python",
   "pygments_lexer": "ipython3",
   "version": "3.8.8"
  }
 },
 "nbformat": 4,
 "nbformat_minor": 5
}
