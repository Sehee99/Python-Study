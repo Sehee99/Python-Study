{
 "cells": [
  {
   "cell_type": "markdown",
   "id": "c7c78104-165f-4c4f-a782-f5ba459a42b2",
   "metadata": {},
   "source": [
    "### 중첩 조건문: 조건문 내에서 다른 조건문 포함(들여쓰기 주의)"
   ]
  },
  {
   "cell_type": "code",
   "execution_count": 1,
   "id": "784ada85-12ec-44af-8052-65f3c84b8e8f",
   "metadata": {},
   "outputs": [],
   "source": [
    "a=True\n",
    "x,y=5,10"
   ]
  },
  {
   "cell_type": "code",
   "execution_count": 2,
   "id": "1dfacff0-350f-4d97-8be2-668a673e342e",
   "metadata": {},
   "outputs": [
    {
     "name": "stdout",
     "output_type": "stream",
     "text": [
      "a는 True입니다.\n",
      "a가 y보다 작습니다.\n"
     ]
    }
   ],
   "source": [
    "if a==True:\n",
    "    print('a는 True입니다.')\n",
    "    if x>y:\n",
    "        print('x가 y보다 큽니다.')\n",
    "    else:\n",
    "        print('a가 y보다 작습니다.')\n",
    "else:\n",
    "    print('a는 False입니다.')"
   ]
  },
  {
   "cell_type": "markdown",
   "id": "3452aef0-2c82-46d3-adfa-20c0b8e3bc13",
   "metadata": {},
   "source": [
    "### 중첩/복합 조건문"
   ]
  },
  {
   "cell_type": "markdown",
   "id": "9303ba50-0fc0-4442-9c14-105659f97c16",
   "metadata": {},
   "source": [
    "중첩/복합 조건문을 이용한 입장료 계산"
   ]
  },
  {
   "cell_type": "code",
   "execution_count": 3,
   "id": "7287ac5c-9b0d-47fa-a440-95ed445e2088",
   "metadata": {},
   "outputs": [],
   "source": [
    "나이=30\n",
    "회원=True"
   ]
  },
  {
   "cell_type": "markdown",
   "id": "f6f13e81-b0fb-47de-8ae9-bcd24f9b4518",
   "metadata": {},
   "source": [
    "방법 1: 코드 중복이 많음"
   ]
  },
  {
   "cell_type": "code",
   "execution_count": 4,
   "id": "b429a9ae-e0ff-45aa-8825-e74df20a40d9",
   "metadata": {},
   "outputs": [
    {
     "name": "stdout",
     "output_type": "stream",
     "text": [
      "입장료는 5,000원 입니다.\n"
     ]
    }
   ],
   "source": [
    "입장료=0\n",
    "\n",
    "if 회원:\n",
    "    if 나이>6 and 나이<=13:\n",
    "        입장료=2500\n",
    "    elif 나이>14 and 나이<=59:\n",
    "        입장료=5000\n",
    "else:\n",
    "    if 나이>6 and 나이<=13:\n",
    "        입장료=5000\n",
    "    elif 나이>14 and 나이<=59:\n",
    "        입장료=10000\n",
    "\n",
    "print(f'입장료는 {입장료:,}원 입니다.')"
   ]
  },
  {
   "cell_type": "markdown",
   "id": "f1260076-110a-4b26-8244-99ca5d9063bc",
   "metadata": {},
   "source": [
    "방법 2: 복합 조건문"
   ]
  },
  {
   "cell_type": "code",
   "execution_count": 5,
   "id": "b32f5001-0283-4268-84e5-cd1346986fd7",
   "metadata": {},
   "outputs": [
    {
     "name": "stdout",
     "output_type": "stream",
     "text": [
      "입장료는 5,000원 입니다.\n"
     ]
    }
   ],
   "source": [
    "입장료=0\n",
    "\n",
    "if 나이<=6 or 나이>=60:\n",
    "    입장료=0\n",
    "elif 나이>6 and 나이<=13:\n",
    "        입장료=5000\n",
    "elif 나이>14 and 나이<=59:\n",
    "        입장료=10000\n",
    "        \n",
    "if 회원:\n",
    "    입장료=int(입장료*0.5)\n",
    "\n",
    "print(f'입장료는 {입장료:,}원 입니다.')"
   ]
  }
 ],
 "metadata": {
  "kernelspec": {
   "display_name": "Python 3",
   "language": "python",
   "name": "python3"
  },
  "language_info": {
   "codemirror_mode": {
    "name": "ipython",
    "version": 3
   },
   "file_extension": ".py",
   "mimetype": "text/x-python",
   "name": "python",
   "nbconvert_exporter": "python",
   "pygments_lexer": "ipython3",
   "version": "3.8.8"
  }
 },
 "nbformat": 4,
 "nbformat_minor": 5
}
