{
 "cells": [
  {
   "cell_type": "code",
   "execution_count": 39,
   "id": "6db7f2c8-3701-4291-99ae-7ea81967c2ed",
   "metadata": {},
   "outputs": [],
   "source": [
    "letters=['A', 'B', 'C', 'D', 'E', 'F']"
   ]
  },
  {
   "cell_type": "code",
   "execution_count": 40,
   "id": "650e01cf-1514-4b86-9ef0-7ac8eadda03e",
   "metadata": {},
   "outputs": [
    {
     "data": {
      "text/plain": [
       "['A', 'B', 'C', 'D', 'E', 'F']"
      ]
     },
     "execution_count": 40,
     "metadata": {},
     "output_type": "execute_result"
    }
   ],
   "source": [
    "letters"
   ]
  },
  {
   "cell_type": "code",
   "execution_count": 41,
   "id": "089376d1-0edf-4a9a-b974-dc7c34c1244f",
   "metadata": {},
   "outputs": [],
   "source": [
    "letter1=['A', 'B', 'C']"
   ]
  },
  {
   "cell_type": "code",
   "execution_count": 42,
   "id": "385fc752-2507-4819-9e74-d05d7733b338",
   "metadata": {},
   "outputs": [],
   "source": [
    "letter2=['D', 'E', 'F']"
   ]
  },
  {
   "cell_type": "code",
   "execution_count": 43,
   "id": "63c504f1-dc11-40fa-bb0a-1fdb2f23b4a1",
   "metadata": {},
   "outputs": [
    {
     "data": {
      "text/plain": [
       "['A', 'B', 'C', 'D', 'E', 'F']"
      ]
     },
     "execution_count": 43,
     "metadata": {},
     "output_type": "execute_result"
    }
   ],
   "source": [
    "letter1+letter2"
   ]
  },
  {
   "cell_type": "code",
   "execution_count": 44,
   "id": "a6fc2abd-f189-4874-b53a-3aca713a1869",
   "metadata": {},
   "outputs": [],
   "source": [
    "list_num1=[1, 2, 3]"
   ]
  },
  {
   "cell_type": "code",
   "execution_count": 45,
   "id": "f65858db-26d6-40b5-9d1b-d889ae789fe3",
   "metadata": {},
   "outputs": [],
   "source": [
    "list_num2=[4, 5, 6]"
   ]
  },
  {
   "cell_type": "code",
   "execution_count": 46,
   "id": "c0819c00-2e8b-4de9-b1bb-71c866b941cb",
   "metadata": {},
   "outputs": [
    {
     "data": {
      "text/plain": [
       "[1, 2, 3, 4, 5, 6]"
      ]
     },
     "execution_count": 46,
     "metadata": {},
     "output_type": "execute_result"
    }
   ],
   "source": [
    "list_num1+list_num2"
   ]
  },
  {
   "cell_type": "code",
   "execution_count": 47,
   "id": "d10df106-8020-43e4-96c2-110780b4b90f",
   "metadata": {},
   "outputs": [
    {
     "data": {
      "text/plain": [
       "True"
      ]
     },
     "execution_count": 47,
     "metadata": {},
     "output_type": "execute_result"
    }
   ],
   "source": [
    "'A' in letter1"
   ]
  },
  {
   "cell_type": "code",
   "execution_count": 48,
   "id": "b134c867-6be1-4678-bbf0-0b8aed358e59",
   "metadata": {},
   "outputs": [
    {
     "data": {
      "text/plain": [
       "False"
      ]
     },
     "execution_count": 48,
     "metadata": {},
     "output_type": "execute_result"
    }
   ],
   "source": [
    "'A' in letter2"
   ]
  },
  {
   "cell_type": "code",
   "execution_count": 49,
   "id": "1387abcb-b4e9-4425-8732-f34185ee80ba",
   "metadata": {},
   "outputs": [
    {
     "data": {
      "text/plain": [
       "['a', 'B', 'C', 'D', 'E', 'F']"
      ]
     },
     "execution_count": 49,
     "metadata": {},
     "output_type": "execute_result"
    }
   ],
   "source": [
    "letters[0]='a'\n",
    "letters"
   ]
  },
  {
   "cell_type": "code",
   "execution_count": 50,
   "id": "8f170f6c-54ae-49a6-8dfc-a7bce9093207",
   "metadata": {},
   "outputs": [
    {
     "data": {
      "text/plain": [
       "['A', 'B', 'C', 'D', 'E', 'F']"
      ]
     },
     "execution_count": 50,
     "metadata": {},
     "output_type": "execute_result"
    }
   ],
   "source": [
    "letters[0]='A'\n",
    "letters"
   ]
  },
  {
   "cell_type": "code",
   "execution_count": 51,
   "id": "439ec1d3-222a-4a99-986d-4e199e679376",
   "metadata": {},
   "outputs": [
    {
     "ename": "IndexError",
     "evalue": "list assignment index out of range",
     "output_type": "error",
     "traceback": [
      "\u001b[1;31m---------------------------------------------------------------------------\u001b[0m",
      "\u001b[1;31mIndexError\u001b[0m                                Traceback (most recent call last)",
      "\u001b[1;32m<ipython-input-51-713b63e2e891>\u001b[0m in \u001b[0;36m<module>\u001b[1;34m\u001b[0m\n\u001b[1;32m----> 1\u001b[1;33m \u001b[0mletters\u001b[0m\u001b[1;33m[\u001b[0m\u001b[1;36m6\u001b[0m\u001b[1;33m]\u001b[0m\u001b[1;33m=\u001b[0m\u001b[1;34m'a'\u001b[0m\u001b[1;33m\u001b[0m\u001b[1;33m\u001b[0m\u001b[0m\n\u001b[0m",
      "\u001b[1;31mIndexError\u001b[0m: list assignment index out of range"
     ]
    }
   ],
   "source": [
    "letters[6]='a'"
   ]
  },
  {
   "cell_type": "code",
   "execution_count": 52,
   "id": "391b665c-9b89-4c13-9b61-9b4d41914a2a",
   "metadata": {},
   "outputs": [
    {
     "data": {
      "text/plain": [
       "6"
      ]
     },
     "execution_count": 52,
     "metadata": {},
     "output_type": "execute_result"
    }
   ],
   "source": [
    "len(letters)"
   ]
  },
  {
   "cell_type": "code",
   "execution_count": 53,
   "id": "31c9a49b-eb76-4b6d-88c9-92c5df1fabdf",
   "metadata": {},
   "outputs": [
    {
     "data": {
      "text/plain": [
       "1"
      ]
     },
     "execution_count": 53,
     "metadata": {},
     "output_type": "execute_result"
    }
   ],
   "source": [
    "letters.count('A')"
   ]
  },
  {
   "cell_type": "code",
   "execution_count": 54,
   "id": "c57be8f3-ab0f-4b26-bcbe-35440a7538ce",
   "metadata": {},
   "outputs": [
    {
     "data": {
      "text/plain": [
       "['A', 'B', 'C', 'D', 'E', 'F', 'a']"
      ]
     },
     "execution_count": 54,
     "metadata": {},
     "output_type": "execute_result"
    }
   ],
   "source": [
    "letters.append('a')\n",
    "letters"
   ]
  },
  {
   "cell_type": "code",
   "execution_count": 55,
   "id": "0f2649b5-b7aa-43a3-af74-272f5ea85c76",
   "metadata": {},
   "outputs": [
    {
     "data": {
      "text/plain": [
       "['A', 'B', 'z', 'C', 'D', 'E', 'F', 'a']"
      ]
     },
     "execution_count": 55,
     "metadata": {},
     "output_type": "execute_result"
    }
   ],
   "source": [
    "letters.insert(2, 'z')\n",
    "letters"
   ]
  },
  {
   "cell_type": "code",
   "execution_count": 56,
   "id": "8eb2bbd7-9ece-4ae4-b961-11b920a51c61",
   "metadata": {},
   "outputs": [
    {
     "data": {
      "text/plain": [
       "['A', 'B', 'z', 'C', 'D', 'E', 'F', 'a']"
      ]
     },
     "execution_count": 56,
     "metadata": {},
     "output_type": "execute_result"
    }
   ],
   "source": [
    "letters"
   ]
  },
  {
   "cell_type": "code",
   "execution_count": 57,
   "id": "d86af84e-67ff-40d3-a67e-c0988ce82092",
   "metadata": {},
   "outputs": [
    {
     "data": {
      "text/plain": [
       "'z'"
      ]
     },
     "execution_count": 57,
     "metadata": {},
     "output_type": "execute_result"
    }
   ],
   "source": [
    "letters.pop(2)"
   ]
  },
  {
   "cell_type": "code",
   "execution_count": 58,
   "id": "cb47d5cf-89ee-4e28-8f1d-f5f8f14dc789",
   "metadata": {},
   "outputs": [
    {
     "data": {
      "text/plain": [
       "['A', 'B', 'C', 'D', 'E', 'F', 'a']"
      ]
     },
     "execution_count": 58,
     "metadata": {},
     "output_type": "execute_result"
    }
   ],
   "source": [
    "letters"
   ]
  },
  {
   "cell_type": "code",
   "execution_count": 59,
   "id": "8dea46f2-205a-4899-94d7-15f9ca492836",
   "metadata": {},
   "outputs": [
    {
     "data": {
      "text/plain": [
       "['A', 'B', 'C', 'D', 'E', 'F']"
      ]
     },
     "execution_count": 59,
     "metadata": {},
     "output_type": "execute_result"
    }
   ],
   "source": [
    "letters.remove('a')\n",
    "letters"
   ]
  },
  {
   "cell_type": "code",
   "execution_count": 60,
   "id": "c308d6a2-b9f7-4c84-b30b-162ef98d0ad6",
   "metadata": {},
   "outputs": [],
   "source": [
    "letters.sort(reverse=True)"
   ]
  },
  {
   "cell_type": "code",
   "execution_count": 61,
   "id": "cd66fa0e-7d98-4ccf-ba11-7f35b943c2a8",
   "metadata": {},
   "outputs": [
    {
     "data": {
      "text/plain": [
       "['F', 'E', 'D', 'C', 'B', 'A']"
      ]
     },
     "execution_count": 61,
     "metadata": {},
     "output_type": "execute_result"
    }
   ],
   "source": [
    "letters"
   ]
  },
  {
   "cell_type": "code",
   "execution_count": 62,
   "id": "6b221c30-ee0a-480f-958c-6d52459f193e",
   "metadata": {},
   "outputs": [],
   "source": [
    "letters.sort()  #reverse=False가 생략됨"
   ]
  },
  {
   "cell_type": "code",
   "execution_count": 63,
   "id": "3cc2a8b8-a69e-4a4d-884f-05956da2806d",
   "metadata": {},
   "outputs": [
    {
     "data": {
      "text/plain": [
       "['A', 'B', 'C', 'D', 'E', 'F']"
      ]
     },
     "execution_count": 63,
     "metadata": {},
     "output_type": "execute_result"
    }
   ],
   "source": [
    "letters"
   ]
  },
  {
   "cell_type": "markdown",
   "id": "937764f6-86c3-4262-b4a6-a9b87327c12e",
   "metadata": {},
   "source": [
    "---"
   ]
  },
  {
   "cell_type": "code",
   "execution_count": 64,
   "id": "a894f760-0cae-48af-b5bd-229b211ef784",
   "metadata": {},
   "outputs": [
    {
     "data": {
      "text/plain": [
       "'A'"
      ]
     },
     "execution_count": 64,
     "metadata": {},
     "output_type": "execute_result"
    }
   ],
   "source": [
    "letters[0]"
   ]
  },
  {
   "cell_type": "code",
   "execution_count": 65,
   "id": "c38ee7bc-e1fb-4f36-aa19-9c9bc5be7e9f",
   "metadata": {},
   "outputs": [
    {
     "data": {
      "text/plain": [
       "'F'"
      ]
     },
     "execution_count": 65,
     "metadata": {},
     "output_type": "execute_result"
    }
   ],
   "source": [
    "letters[5]"
   ]
  },
  {
   "cell_type": "code",
   "execution_count": 66,
   "id": "d776c443-2523-45fb-912f-58ea81f18452",
   "metadata": {
    "tags": []
   },
   "outputs": [
    {
     "data": {
      "text/plain": [
       "'F'"
      ]
     },
     "execution_count": 66,
     "metadata": {},
     "output_type": "execute_result"
    }
   ],
   "source": [
    "letters[-1]"
   ]
  },
  {
   "cell_type": "code",
   "execution_count": 67,
   "id": "1f620747-8b3b-48be-b6eb-e686d95a539a",
   "metadata": {},
   "outputs": [
    {
     "data": {
      "text/plain": [
       "'E'"
      ]
     },
     "execution_count": 67,
     "metadata": {},
     "output_type": "execute_result"
    }
   ],
   "source": [
    "letters[-2]"
   ]
  },
  {
   "cell_type": "code",
   "execution_count": 68,
   "id": "a302fbc2-fccd-49aa-86e0-4a3f93e50e78",
   "metadata": {},
   "outputs": [
    {
     "data": {
      "text/plain": [
       "['A', 'B', 'C']"
      ]
     },
     "execution_count": 68,
     "metadata": {},
     "output_type": "execute_result"
    }
   ],
   "source": [
    "letters[0:3]  #종료 index의 -1까지만 슬라이싱됨"
   ]
  },
  {
   "cell_type": "code",
   "execution_count": 69,
   "id": "eacd9134-4598-4473-a547-73ee79a4a6db",
   "metadata": {},
   "outputs": [
    {
     "data": {
      "text/plain": [
       "['D', 'E', 'F']"
      ]
     },
     "execution_count": 69,
     "metadata": {},
     "output_type": "execute_result"
    }
   ],
   "source": [
    "letters[3:]"
   ]
  },
  {
   "cell_type": "code",
   "execution_count": 70,
   "id": "366852e2-1aa9-4db3-b9dc-44255911c26c",
   "metadata": {},
   "outputs": [
    {
     "data": {
      "text/plain": [
       "['A', 'B', 'C', 'D']"
      ]
     },
     "execution_count": 70,
     "metadata": {},
     "output_type": "execute_result"
    }
   ],
   "source": [
    "letters[:4]"
   ]
  },
  {
   "cell_type": "code",
   "execution_count": 71,
   "id": "41e47e46-c4fa-4517-bce1-56b50d44d392",
   "metadata": {},
   "outputs": [
    {
     "data": {
      "text/plain": [
       "['A', 'B', 'C', 'D', 'E', 'F']"
      ]
     },
     "execution_count": 71,
     "metadata": {},
     "output_type": "execute_result"
    }
   ],
   "source": [
    "letters[:]"
   ]
  },
  {
   "cell_type": "code",
   "execution_count": 72,
   "id": "94da9951-9f96-477b-b050-d9917546ca97",
   "metadata": {},
   "outputs": [
    {
     "data": {
      "text/plain": [
       "['A', 'C', 'E']"
      ]
     },
     "execution_count": 72,
     "metadata": {},
     "output_type": "execute_result"
    }
   ],
   "source": [
    "letters[::2]  #step"
   ]
  },
  {
   "cell_type": "code",
   "execution_count": 73,
   "id": "5289c4e1-8361-469b-9de4-c07125e9906e",
   "metadata": {},
   "outputs": [
    {
     "data": {
      "text/plain": [
       "['F', 'E', 'D', 'C', 'B', 'A']"
      ]
     },
     "execution_count": 73,
     "metadata": {},
     "output_type": "execute_result"
    }
   ],
   "source": [
    "letters[::-1]  #역정렬"
   ]
  }
 ],
 "metadata": {
  "kernelspec": {
   "display_name": "Python 3",
   "language": "python",
   "name": "python3"
  },
  "language_info": {
   "codemirror_mode": {
    "name": "ipython",
    "version": 3
   },
   "file_extension": ".py",
   "mimetype": "text/x-python",
   "name": "python",
   "nbconvert_exporter": "python",
   "pygments_lexer": "ipython3",
   "version": "3.8.8"
  }
 },
 "nbformat": 4,
 "nbformat_minor": 5
}
