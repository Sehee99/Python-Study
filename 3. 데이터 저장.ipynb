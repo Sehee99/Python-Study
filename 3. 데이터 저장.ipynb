{
 "cells": [
  {
   "cell_type": "markdown",
   "id": "c5731b89-6992-45e4-bef4-2903252f5293",
   "metadata": {},
   "source": [
    "### 1. CSV 형식으로 저장"
   ]
  },
  {
   "cell_type": "code",
   "execution_count": 2,
   "id": "f76c6ec3-ea56-4fcb-85a8-69e0d7e35f31",
   "metadata": {},
   "outputs": [],
   "source": [
    "import csv"
   ]
  },
  {
   "cell_type": "code",
   "execution_count": 3,
   "id": "2a0ec329-9918-44cc-a97c-b1914ae969a1",
   "metadata": {},
   "outputs": [],
   "source": [
    "# file open, newline=''으로 개행문자 지정\n",
    "with open('top_cities.csv', 'w', newline='') as f:\n",
    "    # csv.writer는 파일 객체를 매개변수로 지정\n",
    "    writer = csv.writer(f)  \n",
    "    # 첫 번째 줄에는 헤더를 작성합니다.\n",
    "    writer.writerow(['rank', 'city', 'population'])  \n",
    "    # writerows()에 리스트를 전달하면 여러 개의 값을 출력\n",
    "    writer.writerows([\n",
    "        [1, '상하이', 24150000],\n",
    "        [2, '카라치', 23500000],\n",
    "        [3, '베이징', 21516000],\n",
    "        [4, '텐진', 14722100],\n",
    "        [5, '이스탄불', 14160467],\n",
    "    ])"
   ]
  },
  {
   "cell_type": "markdown",
   "id": "9b3e1086-f4f7-45a2-9eba-1f040a9da9ba",
   "metadata": {},
   "source": [
    "---"
   ]
  },
  {
   "cell_type": "code",
   "execution_count": 4,
   "id": "021d86c3-b9fd-4480-9402-f4712567868d",
   "metadata": {},
   "outputs": [],
   "source": [
    "with open('top_cities.csv', 'w', newline='') as f:\n",
    "    # 첫 번째 매개변수에 파일 객체\n",
    "    # 두 번째 매개변수에 필드명 리스트를 지정\n",
    "    writer = csv.DictWriter(f, ['rank', 'city', 'population'])\n",
    "      # 첫 번째 줄에 헤더를 입력\n",
    "    writer.writeheader()\n",
    "    # writerows()로 여러 개의 데이터를 딕셔너리 형태로 작성\n",
    "    writer.writerows([\n",
    "        {'rank': 1, 'city': '상하이', 'population': 24150000},\n",
    "        {'rank': 2, 'city': '카라치', 'population': 23500000},\n",
    "        {'rank': 3, 'city': '베이징', 'population': 21516000},\n",
    "        {'rank': 4, 'city': '텐진', 'population': 14722100},\n",
    "        {'rank': 5, 'city': '이스탄불', 'population': 14160467},\n",
    "    ])"
   ]
  },
  {
   "cell_type": "markdown",
   "id": "9eca4788-a671-4f50-813a-c6f17a6eb992",
   "metadata": {},
   "source": [
    "---"
   ]
  },
  {
   "cell_type": "code",
   "execution_count": 5,
   "id": "50028f10-197c-4358-a81a-7a94776c0f64",
   "metadata": {},
   "outputs": [],
   "source": [
    "with open('top_cities.csv', 'w', newline='', encoding='utf-8') as f:\n",
    "    # 첫 번째 매개변수에 파일 객체\n",
    "    # 두 번째 매개변수에 필드명 리스트를 지정\n",
    "    writer = csv.DictWriter(f, ['rank', 'city', 'population'])\n",
    "      # 첫 번째 줄에 헤더를 입력\n",
    "    writer.writeheader()\n",
    "    # writerows()로 여러 개의 데이터를 딕셔너리 형태로 작성\n",
    "    writer.writerows([\n",
    "        {'rank': 1, 'city': '상하이', 'population': 24150000},\n",
    "        {'rank': 2, 'city': '카라치', 'population': 23500000},\n",
    "        {'rank': 3, 'city': '베이징', 'population': 21516000},\n",
    "        {'rank': 4, 'city': '텐진', 'population': 14722100},\n",
    "        {'rank': 5, 'city': '이스탄불', 'population': 14160467},\n",
    "    ])"
   ]
  },
  {
   "cell_type": "code",
   "execution_count": 6,
   "id": "7f871cfc-240c-4d0b-80b8-0336496affe6",
   "metadata": {},
   "outputs": [],
   "source": [
    "import chardet"
   ]
  },
  {
   "cell_type": "code",
   "execution_count": 7,
   "id": "d9af730a-6811-4675-aab6-08358439eb0f",
   "metadata": {},
   "outputs": [],
   "source": [
    "char_dic = chardet.detect(open('top_cities.csv', 'rb').read())"
   ]
  },
  {
   "cell_type": "code",
   "execution_count": 8,
   "id": "64b865f5-19fe-48b6-951b-d481049b915c",
   "metadata": {},
   "outputs": [
    {
     "data": {
      "text/plain": [
       "'utf-8'"
      ]
     },
     "execution_count": 8,
     "metadata": {},
     "output_type": "execute_result"
    }
   ],
   "source": [
    "char_dic['encoding']"
   ]
  },
  {
   "cell_type": "markdown",
   "id": "b6338f85-cd63-47b1-bbe0-eb9e909bd678",
   "metadata": {},
   "source": [
    "### 2. JSON 형식으로 저장 (딕셔너리와 거의 동일)"
   ]
  },
  {
   "cell_type": "code",
   "execution_count": 9,
   "id": "a2c135de-7c3c-4158-883a-b7f4519264b5",
   "metadata": {},
   "outputs": [],
   "source": [
    "import json"
   ]
  },
  {
   "cell_type": "code",
   "execution_count": 10,
   "id": "3db3643e-2926-4604-929b-4395d14ef1d5",
   "metadata": {},
   "outputs": [],
   "source": [
    "cities = [ \n",
    "{'rank': 1, 'city':'상하이', 'population': 24150000},\n",
    "{'rank': 2, 'city':'카라치', 'population': 23500000},\n",
    "{'rank': 3, 'city':'베이징', 'population': 21516000},\n",
    "{'rank': 4, 'city':'텐진', 'population': 14722100}, \n",
    "{'rank': 5, 'city':'이스탄불', 'population':14160467},\n",
    "]"
   ]
  },
  {
   "cell_type": "code",
   "execution_count": 11,
   "id": "3943bb12-b71c-4d74-bcc1-e8965ea03061",
   "metadata": {},
   "outputs": [],
   "source": [
    "with open('top_cities.json', 'w') as fw:\n",
    "    json.dump(cities, fw)"
   ]
  },
  {
   "cell_type": "code",
   "execution_count": 12,
   "id": "6fdb6fcb-3457-41a3-bc85-0031325992be",
   "metadata": {},
   "outputs": [
    {
     "name": "stdout",
     "output_type": "stream",
     "text": [
      "[{'rank': 1, 'city': '상하이', 'population': 24150000}, {'rank': 2, 'city': '카라치', 'population': 23500000}, {'rank': 3, 'city': '베이징', 'population': 21516000}, {'rank': 4, 'city': '텐진', 'population': 14722100}, {'rank': 5, 'city': '이스탄불', 'population': 14160467}]\n"
     ]
    }
   ],
   "source": [
    "with open('top_cities.json', 'r') as fr:\n",
    "    json_file = json.load(fr)\n",
    "    print(json_file)"
   ]
  },
  {
   "cell_type": "markdown",
   "id": "d219f824-4e3b-44be-8995-d489b0608472",
   "metadata": {},
   "source": [
    "### 3. SQLite3 DBMS로 저장"
   ]
  },
  {
   "cell_type": "code",
   "execution_count": 13,
   "id": "5fe33846-4ee0-48e2-94ed-a26d09f5395d",
   "metadata": {},
   "outputs": [],
   "source": [
    "import pandas as pd\n",
    "import sqlite3\n",
    "from pandas.io import sql\n",
    "import os"
   ]
  },
  {
   "cell_type": "code",
   "execution_count": 14,
   "id": "8477fa23-a968-4d89-8315-90d62f2eb87c",
   "metadata": {},
   "outputs": [],
   "source": [
    "DB_NAME = 'top_cities.db'\n",
    "TABLE_NAME = 'TOP_CITIES'"
   ]
  },
  {
   "cell_type": "code",
   "execution_count": 15,
   "id": "2b5e623a-8c1c-4828-9b8c-e33c4d8f53cf",
   "metadata": {},
   "outputs": [],
   "source": [
    "def db_save(df, db_name, table_name):\n",
    "    with sqlite3.connect(db_name) as con:\n",
    "        try:\n",
    "            df.to_sql(name = table_name, con = con, index = False, if_exists='append') \n",
    "            #if_exists : {'fail', 'replace', 'append'} default : fail\n",
    "        except Exception as e:\n",
    "            print(str(e))\n",
    "        print(len(df), '건 저장완료..')"
   ]
  },
  {
   "cell_type": "code",
   "execution_count": 16,
   "id": "63358d53-0dce-46b1-8dbf-38f03c31731f",
   "metadata": {},
   "outputs": [],
   "source": [
    "def db_select(db_name, table_name):\n",
    "    with sqlite3.connect(db_name) as con:\n",
    "        try:\n",
    "            query = 'SELECT * FROM {}'.format(table_name)\n",
    "            df = pd.read_sql(query, con = con)\n",
    "        except Exception as e:\n",
    "            print(str(e))\n",
    "        return df"
   ]
  },
  {
   "cell_type": "code",
   "execution_count": 17,
   "id": "b27f1207-bbc4-4323-acdd-6a87101aa12a",
   "metadata": {},
   "outputs": [],
   "source": [
    "def db_delete(db_name, table_name):\n",
    "    with sqlite3.connect(db_name) as con:\n",
    "        try:\n",
    "            cur = con.cursor()\n",
    "            sql = 'DELETE FROM {}'.format(table_name)\n",
    "            cur.execute(sql)\n",
    "        except Exception as e:\n",
    "            print(str(e))"
   ]
  },
  {
   "cell_type": "code",
   "execution_count": 18,
   "id": "2f1f3c84-0b96-4ab2-95a0-4a86175e0219",
   "metadata": {},
   "outputs": [],
   "source": [
    "# db_delete(DB_NAME, TABLE_NAME)"
   ]
  },
  {
   "cell_type": "code",
   "execution_count": 19,
   "id": "fd3e9ea5-6799-4191-8c67-f6902f62d80f",
   "metadata": {},
   "outputs": [
    {
     "name": "stdout",
     "output_type": "stream",
     "text": [
      "5 건 저장완료..\n"
     ]
    }
   ],
   "source": [
    "top_cities = pd.read_csv('top_cities.csv')\n",
    "db_save(top_cities, DB_NAME, TABLE_NAME)"
   ]
  },
  {
   "cell_type": "code",
   "execution_count": 20,
   "id": "cd0449f6-4741-49a2-a042-83d1af07a50c",
   "metadata": {},
   "outputs": [
    {
     "data": {
      "text/html": [
       "<div>\n",
       "<style scoped>\n",
       "    .dataframe tbody tr th:only-of-type {\n",
       "        vertical-align: middle;\n",
       "    }\n",
       "\n",
       "    .dataframe tbody tr th {\n",
       "        vertical-align: top;\n",
       "    }\n",
       "\n",
       "    .dataframe thead th {\n",
       "        text-align: right;\n",
       "    }\n",
       "</style>\n",
       "<table border=\"1\" class=\"dataframe\">\n",
       "  <thead>\n",
       "    <tr style=\"text-align: right;\">\n",
       "      <th></th>\n",
       "      <th>rank</th>\n",
       "      <th>city</th>\n",
       "      <th>population</th>\n",
       "    </tr>\n",
       "  </thead>\n",
       "  <tbody>\n",
       "    <tr>\n",
       "      <th>0</th>\n",
       "      <td>1</td>\n",
       "      <td>상하이</td>\n",
       "      <td>24150000</td>\n",
       "    </tr>\n",
       "    <tr>\n",
       "      <th>1</th>\n",
       "      <td>2</td>\n",
       "      <td>카라치</td>\n",
       "      <td>23500000</td>\n",
       "    </tr>\n",
       "    <tr>\n",
       "      <th>2</th>\n",
       "      <td>3</td>\n",
       "      <td>베이징</td>\n",
       "      <td>21516000</td>\n",
       "    </tr>\n",
       "    <tr>\n",
       "      <th>3</th>\n",
       "      <td>4</td>\n",
       "      <td>텐진</td>\n",
       "      <td>14722100</td>\n",
       "    </tr>\n",
       "    <tr>\n",
       "      <th>4</th>\n",
       "      <td>5</td>\n",
       "      <td>이스탄불</td>\n",
       "      <td>14160467</td>\n",
       "    </tr>\n",
       "    <tr>\n",
       "      <th>5</th>\n",
       "      <td>1</td>\n",
       "      <td>상하이</td>\n",
       "      <td>24150000</td>\n",
       "    </tr>\n",
       "    <tr>\n",
       "      <th>6</th>\n",
       "      <td>2</td>\n",
       "      <td>카라치</td>\n",
       "      <td>23500000</td>\n",
       "    </tr>\n",
       "    <tr>\n",
       "      <th>7</th>\n",
       "      <td>3</td>\n",
       "      <td>베이징</td>\n",
       "      <td>21516000</td>\n",
       "    </tr>\n",
       "    <tr>\n",
       "      <th>8</th>\n",
       "      <td>4</td>\n",
       "      <td>텐진</td>\n",
       "      <td>14722100</td>\n",
       "    </tr>\n",
       "    <tr>\n",
       "      <th>9</th>\n",
       "      <td>5</td>\n",
       "      <td>이스탄불</td>\n",
       "      <td>14160467</td>\n",
       "    </tr>\n",
       "  </tbody>\n",
       "</table>\n",
       "</div>"
      ],
      "text/plain": [
       "   rank  city  population\n",
       "0     1   상하이    24150000\n",
       "1     2   카라치    23500000\n",
       "2     3   베이징    21516000\n",
       "3     4    텐진    14722100\n",
       "4     5  이스탄불    14160467\n",
       "5     1   상하이    24150000\n",
       "6     2   카라치    23500000\n",
       "7     3   베이징    21516000\n",
       "8     4    텐진    14722100\n",
       "9     5  이스탄불    14160467"
      ]
     },
     "execution_count": 20,
     "metadata": {},
     "output_type": "execute_result"
    }
   ],
   "source": [
    "df = db_select(DB_NAME, TABLE_NAME)\n",
    "df"
   ]
  }
 ],
 "metadata": {
  "kernelspec": {
   "display_name": "Python 3",
   "language": "python",
   "name": "python3"
  },
  "language_info": {
   "codemirror_mode": {
    "name": "ipython",
    "version": 3
   },
   "file_extension": ".py",
   "mimetype": "text/x-python",
   "name": "python",
   "nbconvert_exporter": "python",
   "pygments_lexer": "ipython3",
   "version": "3.8.8"
  }
 },
 "nbformat": 4,
 "nbformat_minor": 5
}
