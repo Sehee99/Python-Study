{
 "cells": [
  {
   "cell_type": "code",
   "execution_count": 1,
   "id": "5ba25eb1-7d76-4ffc-b921-c291b8465f70",
   "metadata": {},
   "outputs": [],
   "source": [
    "name, age, phone = '홍길동', 25, '010-111-2222'"
   ]
  },
  {
   "cell_type": "code",
   "execution_count": 2,
   "id": "1b0d489d-9a7a-47cc-9d34-c2ea758e2db8",
   "metadata": {},
   "outputs": [
    {
     "data": {
      "text/plain": [
       "'이름은 홍길동이고, 나이는 25세이며, 전화번호는 010-111-2222입니다.'"
      ]
     },
     "execution_count": 2,
     "metadata": {},
     "output_type": "execute_result"
    }
   ],
   "source": [
    "소개=\"이름은 {}이고, 나이는 {}세이며, 전화번호는 {}입니다.\".format(name, age, phone)\n",
    "소개"
   ]
  },
  {
   "cell_type": "code",
   "execution_count": 3,
   "id": "059fac0e-8fe3-4aa6-b85e-b4b02f1a7554",
   "metadata": {},
   "outputs": [
    {
     "data": {
      "text/plain": [
       "'이름은 홍길동이고, 나이는 25세이며, 전화번호는 010-111-2222입니다.'"
      ]
     },
     "execution_count": 3,
     "metadata": {},
     "output_type": "execute_result"
    }
   ],
   "source": [
    "소개=\"이름은 {0}이고, 나이는 {2}세이며, 전화번호는 {1}입니다.\".format(name, phone, age)\n",
    "소개"
   ]
  },
  {
   "cell_type": "code",
   "execution_count": 4,
   "id": "92bd0712-f416-4059-a208-292e01b8f23f",
   "metadata": {},
   "outputs": [
    {
     "data": {
      "text/plain": [
       "'이름은 홍길동이고, 나이는 25세이며, 전화번호는 010-111-2222입니다.'"
      ]
     },
     "execution_count": 4,
     "metadata": {},
     "output_type": "execute_result"
    }
   ],
   "source": [
    "소개=\"이름은 {a}이고, 나이는 {b}세이며, 전화번호는 {c}입니다.\".format(c=phone, a=name, b=age)\n",
    "소개"
   ]
  },
  {
   "cell_type": "code",
   "execution_count": 5,
   "id": "59d7594c-a94a-4c4f-8bf8-30c2c2cea393",
   "metadata": {},
   "outputs": [
    {
     "data": {
      "text/plain": [
       "'이름은 홍길동이고, 나이는 25세이며, 전화번호는 010-111-2222입니다.'"
      ]
     },
     "execution_count": 5,
     "metadata": {},
     "output_type": "execute_result"
    }
   ],
   "source": [
    "소개=f\"이름은 {name}이고, 나이는 {age}세이며, 전화번호는 {phone}입니다.\" #가장 추천하는 방법\n",
    "소개"
   ]
  },
  {
   "cell_type": "code",
   "execution_count": 6,
   "id": "399986b6-ebdc-4de7-a449-e9741bb82934",
   "metadata": {},
   "outputs": [],
   "source": [
    "jan, dec = 1, 12"
   ]
  },
  {
   "cell_type": "code",
   "execution_count": 7,
   "id": "b3a07318-3f30-4983-bccf-1c9c692051af",
   "metadata": {},
   "outputs": [
    {
     "name": "stdout",
     "output_type": "stream",
     "text": [
      "한 해의 시작은 01월\n",
      "한 해의 마지막은 12월\n"
     ]
    }
   ],
   "source": [
    "print(\"한 해의 시작은 {:02d}월\".format(jan))   #02d 자릿수를 두 자리로 맞추어라, 자릿수가 부족한 경우 0으로 채워라, 03d 세 자리로 맞춤, d는 정수\n",
    "print(\"한 해의 마지막은 {:02d}월\".format(dec))"
   ]
  },
  {
   "cell_type": "code",
   "execution_count": 8,
   "id": "9eaf0aab-2f23-4d6b-add9-1ebf1e237fbb",
   "metadata": {},
   "outputs": [
    {
     "data": {
      "text/plain": [
       "'123,456,789'"
      ]
     },
     "execution_count": 8,
     "metadata": {},
     "output_type": "execute_result"
    }
   ],
   "source": [
    "val=123456789\n",
    "money=\"{:,}\"\n",
    "money.format(val)   #???"
   ]
  },
  {
   "cell_type": "code",
   "execution_count": 9,
   "id": "6e96de79-07dc-4153-b3e5-c7ed84c982f8",
   "metadata": {},
   "outputs": [
    {
     "data": {
      "text/plain": [
       "'3, 3.000000, 3.000000, 3.14, 33.33%'"
      ]
     },
     "execution_count": 9,
     "metadata": {},
     "output_type": "execute_result"
    }
   ],
   "source": [
    "'{}, {:f}, {:1f}, {:.2f}, {:.2%}'.format(3, 3, 3, 3.1415, 1/3)"
   ]
  },
  {
   "cell_type": "code",
   "execution_count": 10,
   "id": "d4b947dd-1e7e-47d8-a838-92c22308da73",
   "metadata": {},
   "outputs": [
    {
     "data": {
      "text/plain": [
       "0.3333333333333333"
      ]
     },
     "execution_count": 10,
     "metadata": {},
     "output_type": "execute_result"
    }
   ],
   "source": [
    "1/3"
   ]
  }
 ],
 "metadata": {
  "kernelspec": {
   "display_name": "Python 3",
   "language": "python",
   "name": "python3"
  },
  "language_info": {
   "codemirror_mode": {
    "name": "ipython",
    "version": 3
   },
   "file_extension": ".py",
   "mimetype": "text/x-python",
   "name": "python",
   "nbconvert_exporter": "python",
   "pygments_lexer": "ipython3",
   "version": "3.8.8"
  }
 },
 "nbformat": 4,
 "nbformat_minor": 5
}
