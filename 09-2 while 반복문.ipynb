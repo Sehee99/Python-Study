{
 "cells": [
  {
   "cell_type": "markdown",
   "id": "cae04d67-0e37-4873-9e84-a4b5be1aada8",
   "metadata": {},
   "source": [
    "### while 반복문"
   ]
  },
  {
   "cell_type": "markdown",
   "id": "2a3f2d68-e57b-460a-90f8-4399837e1c68",
   "metadata": {},
   "source": [
    "* 보통은 for 구문이 직관적으로 이해하기 쉬움"
   ]
  },
  {
   "cell_type": "code",
   "execution_count": 1,
   "id": "9d54b6cf-8519-40f5-b059-487a5c5bb778",
   "metadata": {},
   "outputs": [],
   "source": [
    "a=0"
   ]
  },
  {
   "cell_type": "code",
   "execution_count": 3,
   "id": "e6028cd6-790d-4868-a83b-7a142048fc89",
   "metadata": {},
   "outputs": [
    {
     "name": "stdout",
     "output_type": "stream",
     "text": [
      "0\n",
      "1\n",
      "2\n",
      "3\n",
      "4\n",
      "5\n",
      "6\n",
      "7\n",
      "8\n",
      "9\n",
      "a가 10이므로 종료합니다.\n"
     ]
    }
   ],
   "source": [
    "while a<10:\n",
    "    print(a)\n",
    "    a+=1 # a=a+1\n",
    "else:\n",
    "    print(f'a가 {a}이므로 종료합니다.')"
   ]
  },
  {
   "cell_type": "markdown",
   "id": "1b0d405f-aa33-47dc-ad5b-928989a11f3d",
   "metadata": {},
   "source": [
    "### while 무한반복"
   ]
  },
  {
   "cell_type": "code",
   "execution_count": 4,
   "id": "41efb9b0-a4ac-400f-98e3-6804ec9e8122",
   "metadata": {},
   "outputs": [],
   "source": [
    "x=0"
   ]
  },
  {
   "cell_type": "code",
   "execution_count": 5,
   "id": "95c34087-40de-4698-bf81-99f57c0fcbff",
   "metadata": {},
   "outputs": [
    {
     "name": "stdout",
     "output_type": "stream",
     "text": [
      "3\n",
      "6\n",
      "9\n",
      "12\n",
      "15\n",
      "18\n",
      "21\n",
      "24\n",
      "27\n",
      "30\n",
      "33\n",
      "36\n",
      "39\n",
      "42\n",
      "45\n",
      "48\n",
      "51\n",
      "54\n",
      "57\n",
      "60\n",
      "63\n",
      "66\n",
      "69\n",
      "72\n",
      "75\n",
      "78\n",
      "81\n",
      "84\n",
      "87\n",
      "90\n",
      "93\n",
      "96\n",
      "99\n",
      "102\n"
     ]
    }
   ],
   "source": [
    "while True:\n",
    "    x+=3\n",
    "    print(x)\n",
    "    if x>100 and x%3==0:\n",
    "        break"
   ]
  },
  {
   "cell_type": "code",
   "execution_count": 7,
   "id": "5774a369-675b-499c-a0d1-00a57e582908",
   "metadata": {},
   "outputs": [],
   "source": [
    "x=0"
   ]
  },
  {
   "cell_type": "code",
   "execution_count": 8,
   "id": "5e75491f-d8d7-4951-8e5a-b1bc162aefb6",
   "metadata": {},
   "outputs": [
    {
     "name": "stdout",
     "output_type": "stream",
     "text": [
      "3\n",
      "6\n",
      "9\n",
      "12\n",
      "15\n",
      "18\n",
      "21\n",
      "24\n",
      "27\n",
      "30\n",
      "33\n",
      "36\n",
      "39\n",
      "42\n",
      "45\n",
      "48\n",
      "51\n",
      "54\n",
      "57\n",
      "60\n",
      "63\n",
      "66\n",
      "69\n",
      "72\n",
      "75\n",
      "78\n",
      "81\n",
      "84\n",
      "87\n",
      "90\n",
      "93\n",
      "96\n",
      "99\n",
      "102\n",
      "102\n"
     ]
    }
   ],
   "source": [
    "while True:\n",
    "    x+=3\n",
    "    print(x)\n",
    "    if x>100 and x%3==0:\n",
    "        print(x)\n",
    "        break"
   ]
  }
 ],
 "metadata": {
  "kernelspec": {
   "display_name": "Python 3",
   "language": "python",
   "name": "python3"
  },
  "language_info": {
   "codemirror_mode": {
    "name": "ipython",
    "version": 3
   },
   "file_extension": ".py",
   "mimetype": "text/x-python",
   "name": "python",
   "nbconvert_exporter": "python",
   "pygments_lexer": "ipython3",
   "version": "3.8.8"
  }
 },
 "nbformat": 4,
 "nbformat_minor": 5
}
