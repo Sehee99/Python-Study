{
 "cells": [
  {
   "cell_type": "code",
   "execution_count": 14,
   "id": "f1054aa6-e2ab-4cbf-9fb2-72dd46d8d0bf",
   "metadata": {},
   "outputs": [],
   "source": [
    "a='파이썬'"
   ]
  },
  {
   "cell_type": "code",
   "execution_count": 15,
   "id": "40766b87-1cfa-4d5d-8db2-62d2389126be",
   "metadata": {},
   "outputs": [
    {
     "name": "stdout",
     "output_type": "stream",
     "text": [
      "파이썬\n"
     ]
    }
   ],
   "source": [
    "print(a)"
   ]
  },
  {
   "cell_type": "code",
   "execution_count": 16,
   "id": "ae25712d-4f32-4c98-8ea7-8e9a7193feca",
   "metadata": {},
   "outputs": [],
   "source": [
    "b=\"문자열\""
   ]
  },
  {
   "cell_type": "code",
   "execution_count": 17,
   "id": "0681181c-d9af-4a4c-afbc-f2b9ef3efd0a",
   "metadata": {},
   "outputs": [
    {
     "name": "stdout",
     "output_type": "stream",
     "text": [
      "문자열\n"
     ]
    }
   ],
   "source": [
    "print(b)"
   ]
  },
  {
   "cell_type": "code",
   "execution_count": 18,
   "id": "f79e88e7-94e9-4342-a318-b6f241293d97",
   "metadata": {},
   "outputs": [],
   "source": [
    "c=\"\"\"\n",
    "죽는 날까지 하늘을 우러러 \n",
    "한 점 부끄럼 없기를\n",
    "잎새에 이는 바람에도\n",
    "나는 괴로워 했다\n",
    "\"\"\""
   ]
  },
  {
   "cell_type": "code",
   "execution_count": 19,
   "id": "620c3285-1d4c-4d2f-9624-fb701a5da456",
   "metadata": {},
   "outputs": [
    {
     "name": "stdout",
     "output_type": "stream",
     "text": [
      "\n",
      "죽는 날까지 하늘을 우러러 \n",
      "한 점 부끄럼 없기를\n",
      "잎새에 이는 바람에도\n",
      "나는 괴로워 했다\n",
      "\n"
     ]
    }
   ],
   "source": [
    "print(c)"
   ]
  },
  {
   "cell_type": "code",
   "execution_count": 20,
   "id": "95856f32-ffe0-4859-a021-c1f062db0fa6",
   "metadata": {},
   "outputs": [
    {
     "ename": "TypeError",
     "evalue": "can only concatenate str (not \"int\") to str",
     "output_type": "error",
     "traceback": [
      "\u001b[1;31m---------------------------------------------------------------------------\u001b[0m",
      "\u001b[1;31mTypeError\u001b[0m                                 Traceback (most recent call last)",
      "\u001b[1;32m<ipython-input-20-aa5c7bcaa7f5>\u001b[0m in \u001b[0;36m<module>\u001b[1;34m\u001b[0m\n\u001b[1;32m----> 1\u001b[1;33m \u001b[1;34m'파이썬'\u001b[0m\u001b[1;33m+\u001b[0m\u001b[1;36m3\u001b[0m\u001b[1;33m\u001b[0m\u001b[1;33m\u001b[0m\u001b[0m\n\u001b[0m",
      "\u001b[1;31mTypeError\u001b[0m: can only concatenate str (not \"int\") to str"
     ]
    }
   ],
   "source": [
    "'파이썬'+3"
   ]
  },
  {
   "cell_type": "code",
   "execution_count": 21,
   "id": "79c69223-f040-4d52-9db9-95d079f1d33d",
   "metadata": {},
   "outputs": [],
   "source": [
    "d='파이썬'+str(3)"
   ]
  },
  {
   "cell_type": "code",
   "execution_count": 22,
   "id": "5a932191-c6fe-4c2b-985a-c8bdc9eb9d8d",
   "metadata": {},
   "outputs": [
    {
     "name": "stdout",
     "output_type": "stream",
     "text": [
      "파이썬3\n"
     ]
    }
   ],
   "source": [
    "print(d)"
   ]
  },
  {
   "cell_type": "code",
   "execution_count": 23,
   "id": "fd7eed3d-73fe-4b52-a04c-bac219969cc6",
   "metadata": {},
   "outputs": [],
   "source": [
    "e='*'*10"
   ]
  },
  {
   "cell_type": "code",
   "execution_count": 24,
   "id": "5c3c3cf7-c857-4b78-ba1b-5cf498840439",
   "metadata": {},
   "outputs": [
    {
     "name": "stdout",
     "output_type": "stream",
     "text": [
      "**********\n"
     ]
    }
   ],
   "source": [
    "print(e)"
   ]
  },
  {
   "cell_type": "code",
   "execution_count": 25,
   "id": "1e63575b-8b0d-4e1b-9c4a-2d11a86081d5",
   "metadata": {},
   "outputs": [],
   "source": [
    "a='HelloWorld!'"
   ]
  },
  {
   "cell_type": "code",
   "execution_count": 26,
   "id": "055dac0a-6eb2-4c93-aa5c-11f5e48f3773",
   "metadata": {},
   "outputs": [
    {
     "data": {
      "text/plain": [
       "'HelloWorld!'"
      ]
     },
     "execution_count": 26,
     "metadata": {},
     "output_type": "execute_result"
    }
   ],
   "source": [
    "a"
   ]
  },
  {
   "cell_type": "code",
   "execution_count": 27,
   "id": "8d2c6aa3-9a26-458d-bb3e-50b9f8593986",
   "metadata": {},
   "outputs": [
    {
     "data": {
      "text/plain": [
       "'H'"
      ]
     },
     "execution_count": 27,
     "metadata": {},
     "output_type": "execute_result"
    }
   ],
   "source": [
    "a[0]"
   ]
  },
  {
   "cell_type": "code",
   "execution_count": 28,
   "id": "033c3a1e-7002-4145-aa7a-da56543a74fa",
   "metadata": {},
   "outputs": [
    {
     "data": {
      "text/plain": [
       "'W'"
      ]
     },
     "execution_count": 28,
     "metadata": {},
     "output_type": "execute_result"
    }
   ],
   "source": [
    "a[5]"
   ]
  },
  {
   "cell_type": "code",
   "execution_count": 29,
   "id": "5b49d238-e382-4092-9723-1b721fbbe32d",
   "metadata": {},
   "outputs": [
    {
     "data": {
      "text/plain": [
       "'!'"
      ]
     },
     "execution_count": 29,
     "metadata": {},
     "output_type": "execute_result"
    }
   ],
   "source": [
    "a[-1]"
   ]
  },
  {
   "cell_type": "code",
   "execution_count": 30,
   "id": "17f2cf39-8723-42a7-9da5-b0eedb419093",
   "metadata": {},
   "outputs": [
    {
     "data": {
      "text/plain": [
       "'d'"
      ]
     },
     "execution_count": 30,
     "metadata": {},
     "output_type": "execute_result"
    }
   ],
   "source": [
    "a[-2]"
   ]
  },
  {
   "cell_type": "code",
   "execution_count": 31,
   "id": "aecbdf40-7525-4581-9d5b-fdadca98a996",
   "metadata": {},
   "outputs": [
    {
     "data": {
      "text/plain": [
       "'Hello'"
      ]
     },
     "execution_count": 31,
     "metadata": {},
     "output_type": "execute_result"
    }
   ],
   "source": [
    "a[:5] #a[0:5]"
   ]
  },
  {
   "cell_type": "code",
   "execution_count": 32,
   "id": "2ad2b5c9-5c3c-4b76-b19a-2be8ae24f879",
   "metadata": {},
   "outputs": [
    {
     "data": {
      "text/plain": [
       "'World!'"
      ]
     },
     "execution_count": 32,
     "metadata": {},
     "output_type": "execute_result"
    }
   ],
   "source": [
    "a[5:]"
   ]
  },
  {
   "cell_type": "code",
   "execution_count": 33,
   "id": "4112cb5f-f843-4ea2-87d9-b4dfaf6b92c9",
   "metadata": {},
   "outputs": [
    {
     "data": {
      "text/plain": [
       "'HelloWorld!'"
      ]
     },
     "execution_count": 33,
     "metadata": {},
     "output_type": "execute_result"
    }
   ],
   "source": [
    "a[:]"
   ]
  },
  {
   "cell_type": "code",
   "execution_count": 34,
   "id": "bd10bca4-4b27-4e90-9c76-6154a8908fe9",
   "metadata": {},
   "outputs": [
    {
     "data": {
      "text/plain": [
       "'Hlool!'"
      ]
     },
     "execution_count": 34,
     "metadata": {},
     "output_type": "execute_result"
    }
   ],
   "source": [
    "a[::2] #step"
   ]
  },
  {
   "cell_type": "code",
   "execution_count": 35,
   "id": "2d5ed192-94f1-4b35-a0ae-a4b307a2a0f1",
   "metadata": {},
   "outputs": [
    {
     "data": {
      "text/plain": [
       "'!dlroWolleH'"
      ]
     },
     "execution_count": 35,
     "metadata": {},
     "output_type": "execute_result"
    }
   ],
   "source": [
    "a[::-1] #step이 음수는 역정렬"
   ]
  },
  {
   "cell_type": "code",
   "execution_count": 37,
   "id": "d4abf6e4-d384-4a5a-af1c-6a6068d79a82",
   "metadata": {
    "tags": []
   },
   "outputs": [
    {
     "data": {
      "text/plain": [
       "'!loolH'"
      ]
     },
     "execution_count": 37,
     "metadata": {},
     "output_type": "execute_result"
    }
   ],
   "source": [
    "a[::-2]"
   ]
  }
 ],
 "metadata": {
  "kernelspec": {
   "display_name": "Python 3",
   "language": "python",
   "name": "python3"
  },
  "language_info": {
   "codemirror_mode": {
    "name": "ipython",
    "version": 3
   },
   "file_extension": ".py",
   "mimetype": "text/x-python",
   "name": "python",
   "nbconvert_exporter": "python",
   "pygments_lexer": "ipython3",
   "version": "3.8.8"
  }
 },
 "nbformat": 4,
 "nbformat_minor": 5
}
