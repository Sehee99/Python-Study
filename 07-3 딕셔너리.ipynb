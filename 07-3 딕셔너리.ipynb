{
 "cells": [
  {
   "cell_type": "markdown",
   "id": "0edb7166-b4a3-46e3-a266-15e9a7bae8e7",
   "metadata": {},
   "source": [
    "### 딕셔너리(dict)"
   ]
  },
  {
   "cell_type": "code",
   "execution_count": 1,
   "id": "3e6cbb0e-9aff-43bc-b134-bf4d72744083",
   "metadata": {},
   "outputs": [
    {
     "data": {
      "text/plain": [
       "{'수학': 100, '영어': 90}"
      ]
     },
     "execution_count": 1,
     "metadata": {},
     "output_type": "execute_result"
    }
   ],
   "source": [
    "중간고사={\n",
    "    \"수학\":100,\n",
    "    \"영어\":90,\n",
    "}\n",
    "중간고사"
   ]
  },
  {
   "cell_type": "markdown",
   "id": "5d28a74e-9b4f-4741-a742-7a765f22407d",
   "metadata": {},
   "source": [
    "원소 추가"
   ]
  },
  {
   "cell_type": "code",
   "execution_count": 2,
   "id": "bad7aaa6-c5a9-4244-93b7-b6ad782da0b8",
   "metadata": {},
   "outputs": [
    {
     "data": {
      "text/plain": [
       "{'수학': 100, '영어': 90, '국어': 85}"
      ]
     },
     "execution_count": 2,
     "metadata": {},
     "output_type": "execute_result"
    }
   ],
   "source": [
    "중간고사['국어']=85\n",
    "중간고사"
   ]
  },
  {
   "cell_type": "markdown",
   "id": "79981fe7-a147-4b55-ab0e-c10527183077",
   "metadata": {},
   "source": [
    "원소 확인 및 변경"
   ]
  },
  {
   "cell_type": "code",
   "execution_count": 3,
   "id": "a39b53c9-f1b4-4886-9feb-65a0a2fa7937",
   "metadata": {},
   "outputs": [
    {
     "data": {
      "text/plain": [
       "90"
      ]
     },
     "execution_count": 3,
     "metadata": {},
     "output_type": "execute_result"
    }
   ],
   "source": [
    "중간고사['영어']"
   ]
  },
  {
   "cell_type": "code",
   "execution_count": 4,
   "id": "28ae6260-5d84-495e-867f-663243a08c99",
   "metadata": {},
   "outputs": [
    {
     "data": {
      "text/plain": [
       "{'수학': 100, '영어': 95, '국어': 85}"
      ]
     },
     "execution_count": 4,
     "metadata": {},
     "output_type": "execute_result"
    }
   ],
   "source": [
    "중간고사['영어']=95\n",
    "중간고사"
   ]
  },
  {
   "cell_type": "markdown",
   "id": "23a6f90c-e878-4f89-a96a-a8032c4c039e",
   "metadata": {},
   "source": [
    "keys(), values(), items() 함수"
   ]
  },
  {
   "cell_type": "code",
   "execution_count": 5,
   "id": "08ec2c84-7843-4d8f-a5fc-282ac7d8b141",
   "metadata": {},
   "outputs": [
    {
     "data": {
      "text/plain": [
       "['수학', '영어', '국어']"
      ]
     },
     "execution_count": 5,
     "metadata": {},
     "output_type": "execute_result"
    }
   ],
   "source": [
    "list(중간고사.keys())"
   ]
  },
  {
   "cell_type": "code",
   "execution_count": 6,
   "id": "2c843739-d60f-4903-9a33-17f1476668fe",
   "metadata": {},
   "outputs": [
    {
     "data": {
      "text/plain": [
       "[100, 95, 85]"
      ]
     },
     "execution_count": 6,
     "metadata": {},
     "output_type": "execute_result"
    }
   ],
   "source": [
    "list(중간고사.values())"
   ]
  },
  {
   "cell_type": "code",
   "execution_count": 7,
   "id": "4fc2a6fc-44c3-45dd-bb12-a7ec064603ec",
   "metadata": {},
   "outputs": [
    {
     "data": {
      "text/plain": [
       "dict_items([('수학', 100), ('영어', 95), ('국어', 85)])"
      ]
     },
     "execution_count": 7,
     "metadata": {},
     "output_type": "execute_result"
    }
   ],
   "source": [
    "중간고사.items()"
   ]
  },
  {
   "cell_type": "markdown",
   "id": "25b75219-c972-4a11-9728-73989c3baf60",
   "metadata": {},
   "source": [
    "원소 삭제: 인덱스 지원X, key 값을 이용해서 접근"
   ]
  },
  {
   "cell_type": "code",
   "execution_count": 8,
   "id": "d9925506-ef14-4075-8efd-b99895e12b93",
   "metadata": {},
   "outputs": [
    {
     "data": {
      "text/plain": [
       "85"
      ]
     },
     "execution_count": 8,
     "metadata": {},
     "output_type": "execute_result"
    }
   ],
   "source": [
    "중간고사.pop('국어')"
   ]
  },
  {
   "cell_type": "code",
   "execution_count": 9,
   "id": "f068041c-d3a5-4e52-baa7-4c0fdd97695a",
   "metadata": {},
   "outputs": [
    {
     "data": {
      "text/plain": [
       "{'수학': 100, '영어': 95}"
      ]
     },
     "execution_count": 9,
     "metadata": {},
     "output_type": "execute_result"
    }
   ],
   "source": [
    "중간고사"
   ]
  }
 ],
 "metadata": {
  "kernelspec": {
   "display_name": "Python 3",
   "language": "python",
   "name": "python3"
  },
  "language_info": {
   "codemirror_mode": {
    "name": "ipython",
    "version": 3
   },
   "file_extension": ".py",
   "mimetype": "text/x-python",
   "name": "python",
   "nbconvert_exporter": "python",
   "pygments_lexer": "ipython3",
   "version": "3.8.8"
  }
 },
 "nbformat": 4,
 "nbformat_minor": 5
}
